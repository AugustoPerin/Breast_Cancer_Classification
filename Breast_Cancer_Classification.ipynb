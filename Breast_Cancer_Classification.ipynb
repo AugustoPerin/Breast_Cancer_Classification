{
  "cells": [
    {
      "cell_type": "markdown",
      "metadata": {
        "id": "VuQO8f75_ByP"
      },
      "source": [
        "# Classification of breast cancer using machine learning algorithms"
      ]
    },
    {
      "cell_type": "markdown",
      "metadata": {
        "id": "qlQL-xNNRO4U"
      },
      "source": [
        "Author:\n",
        "* Augusto de Oliveira Perin\n",
        "* Data Scientist\n",
        "* Brazil"
      ]
    },
    {
      "cell_type": "code",
      "execution_count": 1,
      "metadata": {
        "id": "JSHfFjvS_KIf"
      },
      "outputs": [],
      "source": [
        "# Libraries Used\n",
        "import pandas as pd\n",
        "import numpy as np\n",
        "import os\n",
        "import plotly.express as px\n",
        "import plotly.graph_objects as go\n",
        "from sklearn.decomposition import PCA\n",
        "from sklearn.preprocessing import StandardScaler\n",
        "from sklearn.model_selection import train_test_split\n",
        "from keras.models import Sequential\n",
        "from keras.layers import Dense\n",
        "from sklearn.metrics import confusion_matrix, ConfusionMatrixDisplay\n"
      ]
    },
    {
      "cell_type": "markdown",
      "metadata": {
        "id": "5T4FaYRcAI7x"
      },
      "source": [
        "## Obtaining data from the Wisconsin Diagnostic Breast Cancer database\n",
        "\n",
        "Creators:\n",
        "* Dr. William H. Wolberg, General Surgery Dept., University of\n",
        "Wisconsin, Clinical Sciences Center, Madison, WI 53792\n",
        "wolberg@eagle.surgery.wisc.edu\n",
        "* W. Nick Street, Computer Sciences Dept., University of\n",
        "Wisconsin, 1210 West Dayton St., Madison, WI 53706\n",
        "street@cs.wisc.edu 608-262-6619\n",
        "* Olvi L. Mangasarian, Computer Sciences Dept., University of\n",
        "Wisconsin, 1210 West Dayton St., Madison, WI 53706\n",
        "olvi@cs.wisc.edu\n",
        "\n"
      ]
    },
    {
      "cell_type": "code",
      "execution_count": 2,
      "metadata": {
        "id": "qboPKygMBz75"
      },
      "outputs": [],
      "source": [
        "# Data Source\n",
        "data_cancer = pd.read_csv('https://query.data.world/s/tsceosr23236cbv6l63xscqoy7vrsn?dws=00000')\n",
        "\n",
        "# Remove the last column\n",
        "data_cancer = data_cancer.iloc[:, :-1]"
      ]
    },
    {
      "cell_type": "code",
      "execution_count": 3,
      "metadata": {
        "colab": {
          "base_uri": "https://localhost:8080/",
          "height": 505
        },
        "id": "NySybZcDH5g_",
        "outputId": "e33e9091-b618-4ed3-becf-7ca7b7c322c1"
      },
      "outputs": [
        {
          "data": {
            "text/html": [
              "<div>\n",
              "<style scoped>\n",
              "    .dataframe tbody tr th:only-of-type {\n",
              "        vertical-align: middle;\n",
              "    }\n",
              "\n",
              "    .dataframe tbody tr th {\n",
              "        vertical-align: top;\n",
              "    }\n",
              "\n",
              "    .dataframe thead th {\n",
              "        text-align: right;\n",
              "    }\n",
              "</style>\n",
              "<table border=\"1\" class=\"dataframe\">\n",
              "  <thead>\n",
              "    <tr style=\"text-align: right;\">\n",
              "      <th></th>\n",
              "      <th>id</th>\n",
              "      <th>diagnosis</th>\n",
              "      <th>radius_mean</th>\n",
              "      <th>texture_mean</th>\n",
              "      <th>perimeter_mean</th>\n",
              "      <th>area_mean</th>\n",
              "      <th>smoothness_mean</th>\n",
              "      <th>compactness_mean</th>\n",
              "      <th>concavity_mean</th>\n",
              "      <th>concave points_mean</th>\n",
              "      <th>...</th>\n",
              "      <th>radius_worst</th>\n",
              "      <th>texture_worst</th>\n",
              "      <th>perimeter_worst</th>\n",
              "      <th>area_worst</th>\n",
              "      <th>smoothness_worst</th>\n",
              "      <th>compactness_worst</th>\n",
              "      <th>concavity_worst</th>\n",
              "      <th>concave points_worst</th>\n",
              "      <th>symmetry_worst</th>\n",
              "      <th>fractal_dimension_worst</th>\n",
              "    </tr>\n",
              "  </thead>\n",
              "  <tbody>\n",
              "    <tr>\n",
              "      <th>0</th>\n",
              "      <td>842302</td>\n",
              "      <td>M</td>\n",
              "      <td>17.99</td>\n",
              "      <td>10.38</td>\n",
              "      <td>122.80</td>\n",
              "      <td>1001.0</td>\n",
              "      <td>0.11840</td>\n",
              "      <td>0.27760</td>\n",
              "      <td>0.30010</td>\n",
              "      <td>0.14710</td>\n",
              "      <td>...</td>\n",
              "      <td>25.380</td>\n",
              "      <td>17.33</td>\n",
              "      <td>184.60</td>\n",
              "      <td>2019.0</td>\n",
              "      <td>0.16220</td>\n",
              "      <td>0.66560</td>\n",
              "      <td>0.7119</td>\n",
              "      <td>0.2654</td>\n",
              "      <td>0.4601</td>\n",
              "      <td>0.11890</td>\n",
              "    </tr>\n",
              "    <tr>\n",
              "      <th>1</th>\n",
              "      <td>842517</td>\n",
              "      <td>M</td>\n",
              "      <td>20.57</td>\n",
              "      <td>17.77</td>\n",
              "      <td>132.90</td>\n",
              "      <td>1326.0</td>\n",
              "      <td>0.08474</td>\n",
              "      <td>0.07864</td>\n",
              "      <td>0.08690</td>\n",
              "      <td>0.07017</td>\n",
              "      <td>...</td>\n",
              "      <td>24.990</td>\n",
              "      <td>23.41</td>\n",
              "      <td>158.80</td>\n",
              "      <td>1956.0</td>\n",
              "      <td>0.12380</td>\n",
              "      <td>0.18660</td>\n",
              "      <td>0.2416</td>\n",
              "      <td>0.1860</td>\n",
              "      <td>0.2750</td>\n",
              "      <td>0.08902</td>\n",
              "    </tr>\n",
              "    <tr>\n",
              "      <th>2</th>\n",
              "      <td>84300903</td>\n",
              "      <td>M</td>\n",
              "      <td>19.69</td>\n",
              "      <td>21.25</td>\n",
              "      <td>130.00</td>\n",
              "      <td>1203.0</td>\n",
              "      <td>0.10960</td>\n",
              "      <td>0.15990</td>\n",
              "      <td>0.19740</td>\n",
              "      <td>0.12790</td>\n",
              "      <td>...</td>\n",
              "      <td>23.570</td>\n",
              "      <td>25.53</td>\n",
              "      <td>152.50</td>\n",
              "      <td>1709.0</td>\n",
              "      <td>0.14440</td>\n",
              "      <td>0.42450</td>\n",
              "      <td>0.4504</td>\n",
              "      <td>0.2430</td>\n",
              "      <td>0.3613</td>\n",
              "      <td>0.08758</td>\n",
              "    </tr>\n",
              "    <tr>\n",
              "      <th>3</th>\n",
              "      <td>84348301</td>\n",
              "      <td>M</td>\n",
              "      <td>11.42</td>\n",
              "      <td>20.38</td>\n",
              "      <td>77.58</td>\n",
              "      <td>386.1</td>\n",
              "      <td>0.14250</td>\n",
              "      <td>0.28390</td>\n",
              "      <td>0.24140</td>\n",
              "      <td>0.10520</td>\n",
              "      <td>...</td>\n",
              "      <td>14.910</td>\n",
              "      <td>26.50</td>\n",
              "      <td>98.87</td>\n",
              "      <td>567.7</td>\n",
              "      <td>0.20980</td>\n",
              "      <td>0.86630</td>\n",
              "      <td>0.6869</td>\n",
              "      <td>0.2575</td>\n",
              "      <td>0.6638</td>\n",
              "      <td>0.17300</td>\n",
              "    </tr>\n",
              "    <tr>\n",
              "      <th>4</th>\n",
              "      <td>84358402</td>\n",
              "      <td>M</td>\n",
              "      <td>20.29</td>\n",
              "      <td>14.34</td>\n",
              "      <td>135.10</td>\n",
              "      <td>1297.0</td>\n",
              "      <td>0.10030</td>\n",
              "      <td>0.13280</td>\n",
              "      <td>0.19800</td>\n",
              "      <td>0.10430</td>\n",
              "      <td>...</td>\n",
              "      <td>22.540</td>\n",
              "      <td>16.67</td>\n",
              "      <td>152.20</td>\n",
              "      <td>1575.0</td>\n",
              "      <td>0.13740</td>\n",
              "      <td>0.20500</td>\n",
              "      <td>0.4000</td>\n",
              "      <td>0.1625</td>\n",
              "      <td>0.2364</td>\n",
              "      <td>0.07678</td>\n",
              "    </tr>\n",
              "    <tr>\n",
              "      <th>...</th>\n",
              "      <td>...</td>\n",
              "      <td>...</td>\n",
              "      <td>...</td>\n",
              "      <td>...</td>\n",
              "      <td>...</td>\n",
              "      <td>...</td>\n",
              "      <td>...</td>\n",
              "      <td>...</td>\n",
              "      <td>...</td>\n",
              "      <td>...</td>\n",
              "      <td>...</td>\n",
              "      <td>...</td>\n",
              "      <td>...</td>\n",
              "      <td>...</td>\n",
              "      <td>...</td>\n",
              "      <td>...</td>\n",
              "      <td>...</td>\n",
              "      <td>...</td>\n",
              "      <td>...</td>\n",
              "      <td>...</td>\n",
              "      <td>...</td>\n",
              "    </tr>\n",
              "    <tr>\n",
              "      <th>564</th>\n",
              "      <td>926424</td>\n",
              "      <td>M</td>\n",
              "      <td>21.56</td>\n",
              "      <td>22.39</td>\n",
              "      <td>142.00</td>\n",
              "      <td>1479.0</td>\n",
              "      <td>0.11100</td>\n",
              "      <td>0.11590</td>\n",
              "      <td>0.24390</td>\n",
              "      <td>0.13890</td>\n",
              "      <td>...</td>\n",
              "      <td>25.450</td>\n",
              "      <td>26.40</td>\n",
              "      <td>166.10</td>\n",
              "      <td>2027.0</td>\n",
              "      <td>0.14100</td>\n",
              "      <td>0.21130</td>\n",
              "      <td>0.4107</td>\n",
              "      <td>0.2216</td>\n",
              "      <td>0.2060</td>\n",
              "      <td>0.07115</td>\n",
              "    </tr>\n",
              "    <tr>\n",
              "      <th>565</th>\n",
              "      <td>926682</td>\n",
              "      <td>M</td>\n",
              "      <td>20.13</td>\n",
              "      <td>28.25</td>\n",
              "      <td>131.20</td>\n",
              "      <td>1261.0</td>\n",
              "      <td>0.09780</td>\n",
              "      <td>0.10340</td>\n",
              "      <td>0.14400</td>\n",
              "      <td>0.09791</td>\n",
              "      <td>...</td>\n",
              "      <td>23.690</td>\n",
              "      <td>38.25</td>\n",
              "      <td>155.00</td>\n",
              "      <td>1731.0</td>\n",
              "      <td>0.11660</td>\n",
              "      <td>0.19220</td>\n",
              "      <td>0.3215</td>\n",
              "      <td>0.1628</td>\n",
              "      <td>0.2572</td>\n",
              "      <td>0.06637</td>\n",
              "    </tr>\n",
              "    <tr>\n",
              "      <th>566</th>\n",
              "      <td>926954</td>\n",
              "      <td>M</td>\n",
              "      <td>16.60</td>\n",
              "      <td>28.08</td>\n",
              "      <td>108.30</td>\n",
              "      <td>858.1</td>\n",
              "      <td>0.08455</td>\n",
              "      <td>0.10230</td>\n",
              "      <td>0.09251</td>\n",
              "      <td>0.05302</td>\n",
              "      <td>...</td>\n",
              "      <td>18.980</td>\n",
              "      <td>34.12</td>\n",
              "      <td>126.70</td>\n",
              "      <td>1124.0</td>\n",
              "      <td>0.11390</td>\n",
              "      <td>0.30940</td>\n",
              "      <td>0.3403</td>\n",
              "      <td>0.1418</td>\n",
              "      <td>0.2218</td>\n",
              "      <td>0.07820</td>\n",
              "    </tr>\n",
              "    <tr>\n",
              "      <th>567</th>\n",
              "      <td>927241</td>\n",
              "      <td>M</td>\n",
              "      <td>20.60</td>\n",
              "      <td>29.33</td>\n",
              "      <td>140.10</td>\n",
              "      <td>1265.0</td>\n",
              "      <td>0.11780</td>\n",
              "      <td>0.27700</td>\n",
              "      <td>0.35140</td>\n",
              "      <td>0.15200</td>\n",
              "      <td>...</td>\n",
              "      <td>25.740</td>\n",
              "      <td>39.42</td>\n",
              "      <td>184.60</td>\n",
              "      <td>1821.0</td>\n",
              "      <td>0.16500</td>\n",
              "      <td>0.86810</td>\n",
              "      <td>0.9387</td>\n",
              "      <td>0.2650</td>\n",
              "      <td>0.4087</td>\n",
              "      <td>0.12400</td>\n",
              "    </tr>\n",
              "    <tr>\n",
              "      <th>568</th>\n",
              "      <td>92751</td>\n",
              "      <td>B</td>\n",
              "      <td>7.76</td>\n",
              "      <td>24.54</td>\n",
              "      <td>47.92</td>\n",
              "      <td>181.0</td>\n",
              "      <td>0.05263</td>\n",
              "      <td>0.04362</td>\n",
              "      <td>0.00000</td>\n",
              "      <td>0.00000</td>\n",
              "      <td>...</td>\n",
              "      <td>9.456</td>\n",
              "      <td>30.37</td>\n",
              "      <td>59.16</td>\n",
              "      <td>268.6</td>\n",
              "      <td>0.08996</td>\n",
              "      <td>0.06444</td>\n",
              "      <td>0.0000</td>\n",
              "      <td>0.0000</td>\n",
              "      <td>0.2871</td>\n",
              "      <td>0.07039</td>\n",
              "    </tr>\n",
              "  </tbody>\n",
              "</table>\n",
              "<p>569 rows × 32 columns</p>\n",
              "</div>"
            ],
            "text/plain": [
              "           id diagnosis  radius_mean  texture_mean  perimeter_mean  area_mean  \\\n",
              "0      842302         M        17.99         10.38          122.80     1001.0   \n",
              "1      842517         M        20.57         17.77          132.90     1326.0   \n",
              "2    84300903         M        19.69         21.25          130.00     1203.0   \n",
              "3    84348301         M        11.42         20.38           77.58      386.1   \n",
              "4    84358402         M        20.29         14.34          135.10     1297.0   \n",
              "..        ...       ...          ...           ...             ...        ...   \n",
              "564    926424         M        21.56         22.39          142.00     1479.0   \n",
              "565    926682         M        20.13         28.25          131.20     1261.0   \n",
              "566    926954         M        16.60         28.08          108.30      858.1   \n",
              "567    927241         M        20.60         29.33          140.10     1265.0   \n",
              "568     92751         B         7.76         24.54           47.92      181.0   \n",
              "\n",
              "     smoothness_mean  compactness_mean  concavity_mean  concave points_mean  \\\n",
              "0            0.11840           0.27760         0.30010              0.14710   \n",
              "1            0.08474           0.07864         0.08690              0.07017   \n",
              "2            0.10960           0.15990         0.19740              0.12790   \n",
              "3            0.14250           0.28390         0.24140              0.10520   \n",
              "4            0.10030           0.13280         0.19800              0.10430   \n",
              "..               ...               ...             ...                  ...   \n",
              "564          0.11100           0.11590         0.24390              0.13890   \n",
              "565          0.09780           0.10340         0.14400              0.09791   \n",
              "566          0.08455           0.10230         0.09251              0.05302   \n",
              "567          0.11780           0.27700         0.35140              0.15200   \n",
              "568          0.05263           0.04362         0.00000              0.00000   \n",
              "\n",
              "     ...  radius_worst  texture_worst  perimeter_worst  area_worst  \\\n",
              "0    ...        25.380          17.33           184.60      2019.0   \n",
              "1    ...        24.990          23.41           158.80      1956.0   \n",
              "2    ...        23.570          25.53           152.50      1709.0   \n",
              "3    ...        14.910          26.50            98.87       567.7   \n",
              "4    ...        22.540          16.67           152.20      1575.0   \n",
              "..   ...           ...            ...              ...         ...   \n",
              "564  ...        25.450          26.40           166.10      2027.0   \n",
              "565  ...        23.690          38.25           155.00      1731.0   \n",
              "566  ...        18.980          34.12           126.70      1124.0   \n",
              "567  ...        25.740          39.42           184.60      1821.0   \n",
              "568  ...         9.456          30.37            59.16       268.6   \n",
              "\n",
              "     smoothness_worst  compactness_worst  concavity_worst  \\\n",
              "0             0.16220            0.66560           0.7119   \n",
              "1             0.12380            0.18660           0.2416   \n",
              "2             0.14440            0.42450           0.4504   \n",
              "3             0.20980            0.86630           0.6869   \n",
              "4             0.13740            0.20500           0.4000   \n",
              "..                ...                ...              ...   \n",
              "564           0.14100            0.21130           0.4107   \n",
              "565           0.11660            0.19220           0.3215   \n",
              "566           0.11390            0.30940           0.3403   \n",
              "567           0.16500            0.86810           0.9387   \n",
              "568           0.08996            0.06444           0.0000   \n",
              "\n",
              "     concave points_worst  symmetry_worst  fractal_dimension_worst  \n",
              "0                  0.2654          0.4601                  0.11890  \n",
              "1                  0.1860          0.2750                  0.08902  \n",
              "2                  0.2430          0.3613                  0.08758  \n",
              "3                  0.2575          0.6638                  0.17300  \n",
              "4                  0.1625          0.2364                  0.07678  \n",
              "..                    ...             ...                      ...  \n",
              "564                0.2216          0.2060                  0.07115  \n",
              "565                0.1628          0.2572                  0.06637  \n",
              "566                0.1418          0.2218                  0.07820  \n",
              "567                0.2650          0.4087                  0.12400  \n",
              "568                0.0000          0.2871                  0.07039  \n",
              "\n",
              "[569 rows x 32 columns]"
            ]
          },
          "execution_count": 3,
          "metadata": {},
          "output_type": "execute_result"
        }
      ],
      "source": [
        "# Displaying the Dataframe\n",
        "data_cancer"
      ]
    },
    {
      "cell_type": "code",
      "execution_count": 4,
      "metadata": {
        "id": "whDdK19PI7Qq"
      },
      "outputs": [],
      "source": [
        "# Modification of data to display below\n",
        "data_cancer['diagnosis'] = data_cancer['diagnosis'].map({'B': 'Benign', 'M': 'Malignant'})"
      ]
    },
    {
      "cell_type": "markdown",
      "metadata": {
        "id": "BjwMcWTVMIoH"
      },
      "source": [
        "## Displaying class distribution\n",
        "\n",
        "There are 357 instances diagnosed as benign and 212 diagnosed as\n",
        "malignant"
      ]
    },
    {
      "cell_type": "code",
      "execution_count": 5,
      "metadata": {
        "colab": {
          "base_uri": "https://localhost:8080/",
          "height": 542
        },
        "id": "nRtmu2OBG078",
        "outputId": "208414e3-e258-4137-bf22-eb32f270cb68"
      },
      "outputs": [
        {
          "data": {
            "application/vnd.plotly.v1+json": {
              "config": {
                "plotlyServerURL": "https://plot.ly"
              },
              "data": [
                {
                  "domain": {
                    "x": [
                      0,
                      1
                    ],
                    "y": [
                      0,
                      1
                    ]
                  },
                  "hovertemplate": "diagnosis=%{label}<extra></extra>",
                  "labels": [
                    "Malignant",
                    "Malignant",
                    "Malignant",
                    "Malignant",
                    "Malignant",
                    "Malignant",
                    "Malignant",
                    "Malignant",
                    "Malignant",
                    "Malignant",
                    "Malignant",
                    "Malignant",
                    "Malignant",
                    "Malignant",
                    "Malignant",
                    "Malignant",
                    "Malignant",
                    "Malignant",
                    "Malignant",
                    "Benign",
                    "Benign",
                    "Benign",
                    "Malignant",
                    "Malignant",
                    "Malignant",
                    "Malignant",
                    "Malignant",
                    "Malignant",
                    "Malignant",
                    "Malignant",
                    "Malignant",
                    "Malignant",
                    "Malignant",
                    "Malignant",
                    "Malignant",
                    "Malignant",
                    "Malignant",
                    "Benign",
                    "Malignant",
                    "Malignant",
                    "Malignant",
                    "Malignant",
                    "Malignant",
                    "Malignant",
                    "Malignant",
                    "Malignant",
                    "Benign",
                    "Malignant",
                    "Benign",
                    "Benign",
                    "Benign",
                    "Benign",
                    "Benign",
                    "Malignant",
                    "Malignant",
                    "Benign",
                    "Malignant",
                    "Malignant",
                    "Benign",
                    "Benign",
                    "Benign",
                    "Benign",
                    "Malignant",
                    "Benign",
                    "Malignant",
                    "Malignant",
                    "Benign",
                    "Benign",
                    "Benign",
                    "Benign",
                    "Malignant",
                    "Benign",
                    "Malignant",
                    "Malignant",
                    "Benign",
                    "Malignant",
                    "Benign",
                    "Malignant",
                    "Malignant",
                    "Benign",
                    "Benign",
                    "Benign",
                    "Malignant",
                    "Malignant",
                    "Benign",
                    "Malignant",
                    "Malignant",
                    "Malignant",
                    "Benign",
                    "Benign",
                    "Benign",
                    "Malignant",
                    "Benign",
                    "Benign",
                    "Malignant",
                    "Malignant",
                    "Benign",
                    "Benign",
                    "Benign",
                    "Malignant",
                    "Malignant",
                    "Benign",
                    "Benign",
                    "Benign",
                    "Benign",
                    "Malignant",
                    "Benign",
                    "Benign",
                    "Malignant",
                    "Benign",
                    "Benign",
                    "Benign",
                    "Benign",
                    "Benign",
                    "Benign",
                    "Benign",
                    "Benign",
                    "Malignant",
                    "Malignant",
                    "Malignant",
                    "Benign",
                    "Malignant",
                    "Malignant",
                    "Benign",
                    "Benign",
                    "Benign",
                    "Malignant",
                    "Malignant",
                    "Benign",
                    "Malignant",
                    "Benign",
                    "Malignant",
                    "Malignant",
                    "Benign",
                    "Malignant",
                    "Malignant",
                    "Benign",
                    "Benign",
                    "Malignant",
                    "Benign",
                    "Benign",
                    "Malignant",
                    "Benign",
                    "Benign",
                    "Benign",
                    "Benign",
                    "Malignant",
                    "Benign",
                    "Benign",
                    "Benign",
                    "Benign",
                    "Benign",
                    "Benign",
                    "Benign",
                    "Benign",
                    "Benign",
                    "Malignant",
                    "Benign",
                    "Benign",
                    "Benign",
                    "Benign",
                    "Malignant",
                    "Malignant",
                    "Benign",
                    "Malignant",
                    "Benign",
                    "Benign",
                    "Malignant",
                    "Malignant",
                    "Benign",
                    "Benign",
                    "Malignant",
                    "Malignant",
                    "Benign",
                    "Benign",
                    "Benign",
                    "Benign",
                    "Malignant",
                    "Benign",
                    "Benign",
                    "Malignant",
                    "Malignant",
                    "Malignant",
                    "Benign",
                    "Malignant",
                    "Benign",
                    "Malignant",
                    "Benign",
                    "Benign",
                    "Benign",
                    "Malignant",
                    "Benign",
                    "Benign",
                    "Malignant",
                    "Malignant",
                    "Benign",
                    "Malignant",
                    "Malignant",
                    "Malignant",
                    "Malignant",
                    "Benign",
                    "Malignant",
                    "Malignant",
                    "Malignant",
                    "Benign",
                    "Malignant",
                    "Benign",
                    "Malignant",
                    "Benign",
                    "Benign",
                    "Malignant",
                    "Benign",
                    "Malignant",
                    "Malignant",
                    "Malignant",
                    "Malignant",
                    "Benign",
                    "Benign",
                    "Malignant",
                    "Malignant",
                    "Benign",
                    "Benign",
                    "Benign",
                    "Malignant",
                    "Benign",
                    "Benign",
                    "Benign",
                    "Benign",
                    "Benign",
                    "Malignant",
                    "Malignant",
                    "Benign",
                    "Benign",
                    "Malignant",
                    "Benign",
                    "Benign",
                    "Malignant",
                    "Malignant",
                    "Benign",
                    "Malignant",
                    "Benign",
                    "Benign",
                    "Benign",
                    "Benign",
                    "Malignant",
                    "Benign",
                    "Benign",
                    "Benign",
                    "Benign",
                    "Benign",
                    "Malignant",
                    "Benign",
                    "Malignant",
                    "Malignant",
                    "Malignant",
                    "Malignant",
                    "Malignant",
                    "Malignant",
                    "Malignant",
                    "Malignant",
                    "Malignant",
                    "Malignant",
                    "Malignant",
                    "Malignant",
                    "Malignant",
                    "Malignant",
                    "Benign",
                    "Benign",
                    "Benign",
                    "Benign",
                    "Benign",
                    "Benign",
                    "Malignant",
                    "Benign",
                    "Malignant",
                    "Benign",
                    "Benign",
                    "Malignant",
                    "Benign",
                    "Benign",
                    "Malignant",
                    "Benign",
                    "Malignant",
                    "Malignant",
                    "Benign",
                    "Benign",
                    "Benign",
                    "Benign",
                    "Benign",
                    "Benign",
                    "Benign",
                    "Benign",
                    "Benign",
                    "Benign",
                    "Benign",
                    "Benign",
                    "Benign",
                    "Malignant",
                    "Benign",
                    "Benign",
                    "Malignant",
                    "Benign",
                    "Malignant",
                    "Benign",
                    "Benign",
                    "Benign",
                    "Benign",
                    "Benign",
                    "Benign",
                    "Benign",
                    "Benign",
                    "Benign",
                    "Benign",
                    "Benign",
                    "Benign",
                    "Benign",
                    "Benign",
                    "Malignant",
                    "Benign",
                    "Benign",
                    "Benign",
                    "Malignant",
                    "Benign",
                    "Malignant",
                    "Benign",
                    "Benign",
                    "Benign",
                    "Benign",
                    "Malignant",
                    "Malignant",
                    "Malignant",
                    "Benign",
                    "Benign",
                    "Benign",
                    "Benign",
                    "Malignant",
                    "Benign",
                    "Malignant",
                    "Benign",
                    "Malignant",
                    "Benign",
                    "Benign",
                    "Benign",
                    "Malignant",
                    "Benign",
                    "Benign",
                    "Benign",
                    "Benign",
                    "Benign",
                    "Benign",
                    "Benign",
                    "Malignant",
                    "Malignant",
                    "Malignant",
                    "Benign",
                    "Benign",
                    "Benign",
                    "Benign",
                    "Benign",
                    "Benign",
                    "Benign",
                    "Benign",
                    "Benign",
                    "Benign",
                    "Benign",
                    "Malignant",
                    "Malignant",
                    "Benign",
                    "Malignant",
                    "Malignant",
                    "Malignant",
                    "Benign",
                    "Malignant",
                    "Malignant",
                    "Benign",
                    "Benign",
                    "Benign",
                    "Benign",
                    "Benign",
                    "Malignant",
                    "Benign",
                    "Benign",
                    "Benign",
                    "Benign",
                    "Benign",
                    "Malignant",
                    "Benign",
                    "Benign",
                    "Benign",
                    "Malignant",
                    "Benign",
                    "Benign",
                    "Malignant",
                    "Malignant",
                    "Benign",
                    "Benign",
                    "Benign",
                    "Benign",
                    "Benign",
                    "Benign",
                    "Malignant",
                    "Benign",
                    "Benign",
                    "Benign",
                    "Benign",
                    "Benign",
                    "Benign",
                    "Benign",
                    "Malignant",
                    "Benign",
                    "Benign",
                    "Benign",
                    "Benign",
                    "Benign",
                    "Malignant",
                    "Benign",
                    "Benign",
                    "Malignant",
                    "Benign",
                    "Benign",
                    "Benign",
                    "Benign",
                    "Benign",
                    "Benign",
                    "Benign",
                    "Benign",
                    "Benign",
                    "Benign",
                    "Benign",
                    "Benign",
                    "Malignant",
                    "Benign",
                    "Malignant",
                    "Malignant",
                    "Benign",
                    "Malignant",
                    "Benign",
                    "Benign",
                    "Benign",
                    "Benign",
                    "Benign",
                    "Malignant",
                    "Benign",
                    "Benign",
                    "Malignant",
                    "Benign",
                    "Malignant",
                    "Benign",
                    "Benign",
                    "Malignant",
                    "Benign",
                    "Malignant",
                    "Benign",
                    "Benign",
                    "Benign",
                    "Benign",
                    "Benign",
                    "Benign",
                    "Benign",
                    "Benign",
                    "Malignant",
                    "Malignant",
                    "Benign",
                    "Benign",
                    "Benign",
                    "Benign",
                    "Benign",
                    "Benign",
                    "Malignant",
                    "Benign",
                    "Benign",
                    "Benign",
                    "Benign",
                    "Benign",
                    "Benign",
                    "Benign",
                    "Benign",
                    "Benign",
                    "Benign",
                    "Malignant",
                    "Benign",
                    "Benign",
                    "Benign",
                    "Benign",
                    "Benign",
                    "Benign",
                    "Benign",
                    "Malignant",
                    "Benign",
                    "Malignant",
                    "Benign",
                    "Benign",
                    "Malignant",
                    "Benign",
                    "Benign",
                    "Benign",
                    "Benign",
                    "Benign",
                    "Malignant",
                    "Malignant",
                    "Benign",
                    "Malignant",
                    "Benign",
                    "Malignant",
                    "Benign",
                    "Benign",
                    "Benign",
                    "Benign",
                    "Benign",
                    "Malignant",
                    "Benign",
                    "Benign",
                    "Malignant",
                    "Benign",
                    "Malignant",
                    "Benign",
                    "Malignant",
                    "Malignant",
                    "Benign",
                    "Benign",
                    "Benign",
                    "Malignant",
                    "Benign",
                    "Benign",
                    "Benign",
                    "Benign",
                    "Benign",
                    "Benign",
                    "Benign",
                    "Benign",
                    "Benign",
                    "Benign",
                    "Benign",
                    "Malignant",
                    "Benign",
                    "Malignant",
                    "Malignant",
                    "Benign",
                    "Benign",
                    "Benign",
                    "Benign",
                    "Benign",
                    "Benign",
                    "Benign",
                    "Benign",
                    "Benign",
                    "Benign",
                    "Benign",
                    "Benign",
                    "Benign",
                    "Benign",
                    "Benign",
                    "Benign",
                    "Benign",
                    "Benign",
                    "Benign",
                    "Benign",
                    "Benign",
                    "Benign",
                    "Benign",
                    "Benign",
                    "Benign",
                    "Malignant",
                    "Malignant",
                    "Malignant",
                    "Malignant",
                    "Malignant",
                    "Malignant",
                    "Benign"
                  ],
                  "legendgroup": "",
                  "name": "",
                  "showlegend": true,
                  "textinfo": "percent+value+label",
                  "textposition": "inside",
                  "type": "pie"
                }
              ],
              "layout": {
                "legend": {
                  "tracegroupgap": 0
                },
                "template": {
                  "data": {
                    "bar": [
                      {
                        "error_x": {
                          "color": "#2a3f5f"
                        },
                        "error_y": {
                          "color": "#2a3f5f"
                        },
                        "marker": {
                          "line": {
                            "color": "#E5ECF6",
                            "width": 0.5
                          },
                          "pattern": {
                            "fillmode": "overlay",
                            "size": 10,
                            "solidity": 0.2
                          }
                        },
                        "type": "bar"
                      }
                    ],
                    "barpolar": [
                      {
                        "marker": {
                          "line": {
                            "color": "#E5ECF6",
                            "width": 0.5
                          },
                          "pattern": {
                            "fillmode": "overlay",
                            "size": 10,
                            "solidity": 0.2
                          }
                        },
                        "type": "barpolar"
                      }
                    ],
                    "carpet": [
                      {
                        "aaxis": {
                          "endlinecolor": "#2a3f5f",
                          "gridcolor": "white",
                          "linecolor": "white",
                          "minorgridcolor": "white",
                          "startlinecolor": "#2a3f5f"
                        },
                        "baxis": {
                          "endlinecolor": "#2a3f5f",
                          "gridcolor": "white",
                          "linecolor": "white",
                          "minorgridcolor": "white",
                          "startlinecolor": "#2a3f5f"
                        },
                        "type": "carpet"
                      }
                    ],
                    "choropleth": [
                      {
                        "colorbar": {
                          "outlinewidth": 0,
                          "ticks": ""
                        },
                        "type": "choropleth"
                      }
                    ],
                    "contour": [
                      {
                        "colorbar": {
                          "outlinewidth": 0,
                          "ticks": ""
                        },
                        "colorscale": [
                          [
                            0,
                            "#0d0887"
                          ],
                          [
                            0.1111111111111111,
                            "#46039f"
                          ],
                          [
                            0.2222222222222222,
                            "#7201a8"
                          ],
                          [
                            0.3333333333333333,
                            "#9c179e"
                          ],
                          [
                            0.4444444444444444,
                            "#bd3786"
                          ],
                          [
                            0.5555555555555556,
                            "#d8576b"
                          ],
                          [
                            0.6666666666666666,
                            "#ed7953"
                          ],
                          [
                            0.7777777777777778,
                            "#fb9f3a"
                          ],
                          [
                            0.8888888888888888,
                            "#fdca26"
                          ],
                          [
                            1,
                            "#f0f921"
                          ]
                        ],
                        "type": "contour"
                      }
                    ],
                    "contourcarpet": [
                      {
                        "colorbar": {
                          "outlinewidth": 0,
                          "ticks": ""
                        },
                        "type": "contourcarpet"
                      }
                    ],
                    "heatmap": [
                      {
                        "colorbar": {
                          "outlinewidth": 0,
                          "ticks": ""
                        },
                        "colorscale": [
                          [
                            0,
                            "#0d0887"
                          ],
                          [
                            0.1111111111111111,
                            "#46039f"
                          ],
                          [
                            0.2222222222222222,
                            "#7201a8"
                          ],
                          [
                            0.3333333333333333,
                            "#9c179e"
                          ],
                          [
                            0.4444444444444444,
                            "#bd3786"
                          ],
                          [
                            0.5555555555555556,
                            "#d8576b"
                          ],
                          [
                            0.6666666666666666,
                            "#ed7953"
                          ],
                          [
                            0.7777777777777778,
                            "#fb9f3a"
                          ],
                          [
                            0.8888888888888888,
                            "#fdca26"
                          ],
                          [
                            1,
                            "#f0f921"
                          ]
                        ],
                        "type": "heatmap"
                      }
                    ],
                    "heatmapgl": [
                      {
                        "colorbar": {
                          "outlinewidth": 0,
                          "ticks": ""
                        },
                        "colorscale": [
                          [
                            0,
                            "#0d0887"
                          ],
                          [
                            0.1111111111111111,
                            "#46039f"
                          ],
                          [
                            0.2222222222222222,
                            "#7201a8"
                          ],
                          [
                            0.3333333333333333,
                            "#9c179e"
                          ],
                          [
                            0.4444444444444444,
                            "#bd3786"
                          ],
                          [
                            0.5555555555555556,
                            "#d8576b"
                          ],
                          [
                            0.6666666666666666,
                            "#ed7953"
                          ],
                          [
                            0.7777777777777778,
                            "#fb9f3a"
                          ],
                          [
                            0.8888888888888888,
                            "#fdca26"
                          ],
                          [
                            1,
                            "#f0f921"
                          ]
                        ],
                        "type": "heatmapgl"
                      }
                    ],
                    "histogram": [
                      {
                        "marker": {
                          "pattern": {
                            "fillmode": "overlay",
                            "size": 10,
                            "solidity": 0.2
                          }
                        },
                        "type": "histogram"
                      }
                    ],
                    "histogram2d": [
                      {
                        "colorbar": {
                          "outlinewidth": 0,
                          "ticks": ""
                        },
                        "colorscale": [
                          [
                            0,
                            "#0d0887"
                          ],
                          [
                            0.1111111111111111,
                            "#46039f"
                          ],
                          [
                            0.2222222222222222,
                            "#7201a8"
                          ],
                          [
                            0.3333333333333333,
                            "#9c179e"
                          ],
                          [
                            0.4444444444444444,
                            "#bd3786"
                          ],
                          [
                            0.5555555555555556,
                            "#d8576b"
                          ],
                          [
                            0.6666666666666666,
                            "#ed7953"
                          ],
                          [
                            0.7777777777777778,
                            "#fb9f3a"
                          ],
                          [
                            0.8888888888888888,
                            "#fdca26"
                          ],
                          [
                            1,
                            "#f0f921"
                          ]
                        ],
                        "type": "histogram2d"
                      }
                    ],
                    "histogram2dcontour": [
                      {
                        "colorbar": {
                          "outlinewidth": 0,
                          "ticks": ""
                        },
                        "colorscale": [
                          [
                            0,
                            "#0d0887"
                          ],
                          [
                            0.1111111111111111,
                            "#46039f"
                          ],
                          [
                            0.2222222222222222,
                            "#7201a8"
                          ],
                          [
                            0.3333333333333333,
                            "#9c179e"
                          ],
                          [
                            0.4444444444444444,
                            "#bd3786"
                          ],
                          [
                            0.5555555555555556,
                            "#d8576b"
                          ],
                          [
                            0.6666666666666666,
                            "#ed7953"
                          ],
                          [
                            0.7777777777777778,
                            "#fb9f3a"
                          ],
                          [
                            0.8888888888888888,
                            "#fdca26"
                          ],
                          [
                            1,
                            "#f0f921"
                          ]
                        ],
                        "type": "histogram2dcontour"
                      }
                    ],
                    "mesh3d": [
                      {
                        "colorbar": {
                          "outlinewidth": 0,
                          "ticks": ""
                        },
                        "type": "mesh3d"
                      }
                    ],
                    "parcoords": [
                      {
                        "line": {
                          "colorbar": {
                            "outlinewidth": 0,
                            "ticks": ""
                          }
                        },
                        "type": "parcoords"
                      }
                    ],
                    "pie": [
                      {
                        "automargin": true,
                        "type": "pie"
                      }
                    ],
                    "scatter": [
                      {
                        "fillpattern": {
                          "fillmode": "overlay",
                          "size": 10,
                          "solidity": 0.2
                        },
                        "type": "scatter"
                      }
                    ],
                    "scatter3d": [
                      {
                        "line": {
                          "colorbar": {
                            "outlinewidth": 0,
                            "ticks": ""
                          }
                        },
                        "marker": {
                          "colorbar": {
                            "outlinewidth": 0,
                            "ticks": ""
                          }
                        },
                        "type": "scatter3d"
                      }
                    ],
                    "scattercarpet": [
                      {
                        "marker": {
                          "colorbar": {
                            "outlinewidth": 0,
                            "ticks": ""
                          }
                        },
                        "type": "scattercarpet"
                      }
                    ],
                    "scattergeo": [
                      {
                        "marker": {
                          "colorbar": {
                            "outlinewidth": 0,
                            "ticks": ""
                          }
                        },
                        "type": "scattergeo"
                      }
                    ],
                    "scattergl": [
                      {
                        "marker": {
                          "colorbar": {
                            "outlinewidth": 0,
                            "ticks": ""
                          }
                        },
                        "type": "scattergl"
                      }
                    ],
                    "scattermapbox": [
                      {
                        "marker": {
                          "colorbar": {
                            "outlinewidth": 0,
                            "ticks": ""
                          }
                        },
                        "type": "scattermapbox"
                      }
                    ],
                    "scatterpolar": [
                      {
                        "marker": {
                          "colorbar": {
                            "outlinewidth": 0,
                            "ticks": ""
                          }
                        },
                        "type": "scatterpolar"
                      }
                    ],
                    "scatterpolargl": [
                      {
                        "marker": {
                          "colorbar": {
                            "outlinewidth": 0,
                            "ticks": ""
                          }
                        },
                        "type": "scatterpolargl"
                      }
                    ],
                    "scatterternary": [
                      {
                        "marker": {
                          "colorbar": {
                            "outlinewidth": 0,
                            "ticks": ""
                          }
                        },
                        "type": "scatterternary"
                      }
                    ],
                    "surface": [
                      {
                        "colorbar": {
                          "outlinewidth": 0,
                          "ticks": ""
                        },
                        "colorscale": [
                          [
                            0,
                            "#0d0887"
                          ],
                          [
                            0.1111111111111111,
                            "#46039f"
                          ],
                          [
                            0.2222222222222222,
                            "#7201a8"
                          ],
                          [
                            0.3333333333333333,
                            "#9c179e"
                          ],
                          [
                            0.4444444444444444,
                            "#bd3786"
                          ],
                          [
                            0.5555555555555556,
                            "#d8576b"
                          ],
                          [
                            0.6666666666666666,
                            "#ed7953"
                          ],
                          [
                            0.7777777777777778,
                            "#fb9f3a"
                          ],
                          [
                            0.8888888888888888,
                            "#fdca26"
                          ],
                          [
                            1,
                            "#f0f921"
                          ]
                        ],
                        "type": "surface"
                      }
                    ],
                    "table": [
                      {
                        "cells": {
                          "fill": {
                            "color": "#EBF0F8"
                          },
                          "line": {
                            "color": "white"
                          }
                        },
                        "header": {
                          "fill": {
                            "color": "#C8D4E3"
                          },
                          "line": {
                            "color": "white"
                          }
                        },
                        "type": "table"
                      }
                    ]
                  },
                  "layout": {
                    "annotationdefaults": {
                      "arrowcolor": "#2a3f5f",
                      "arrowhead": 0,
                      "arrowwidth": 1
                    },
                    "autotypenumbers": "strict",
                    "coloraxis": {
                      "colorbar": {
                        "outlinewidth": 0,
                        "ticks": ""
                      }
                    },
                    "colorscale": {
                      "diverging": [
                        [
                          0,
                          "#8e0152"
                        ],
                        [
                          0.1,
                          "#c51b7d"
                        ],
                        [
                          0.2,
                          "#de77ae"
                        ],
                        [
                          0.3,
                          "#f1b6da"
                        ],
                        [
                          0.4,
                          "#fde0ef"
                        ],
                        [
                          0.5,
                          "#f7f7f7"
                        ],
                        [
                          0.6,
                          "#e6f5d0"
                        ],
                        [
                          0.7,
                          "#b8e186"
                        ],
                        [
                          0.8,
                          "#7fbc41"
                        ],
                        [
                          0.9,
                          "#4d9221"
                        ],
                        [
                          1,
                          "#276419"
                        ]
                      ],
                      "sequential": [
                        [
                          0,
                          "#0d0887"
                        ],
                        [
                          0.1111111111111111,
                          "#46039f"
                        ],
                        [
                          0.2222222222222222,
                          "#7201a8"
                        ],
                        [
                          0.3333333333333333,
                          "#9c179e"
                        ],
                        [
                          0.4444444444444444,
                          "#bd3786"
                        ],
                        [
                          0.5555555555555556,
                          "#d8576b"
                        ],
                        [
                          0.6666666666666666,
                          "#ed7953"
                        ],
                        [
                          0.7777777777777778,
                          "#fb9f3a"
                        ],
                        [
                          0.8888888888888888,
                          "#fdca26"
                        ],
                        [
                          1,
                          "#f0f921"
                        ]
                      ],
                      "sequentialminus": [
                        [
                          0,
                          "#0d0887"
                        ],
                        [
                          0.1111111111111111,
                          "#46039f"
                        ],
                        [
                          0.2222222222222222,
                          "#7201a8"
                        ],
                        [
                          0.3333333333333333,
                          "#9c179e"
                        ],
                        [
                          0.4444444444444444,
                          "#bd3786"
                        ],
                        [
                          0.5555555555555556,
                          "#d8576b"
                        ],
                        [
                          0.6666666666666666,
                          "#ed7953"
                        ],
                        [
                          0.7777777777777778,
                          "#fb9f3a"
                        ],
                        [
                          0.8888888888888888,
                          "#fdca26"
                        ],
                        [
                          1,
                          "#f0f921"
                        ]
                      ]
                    },
                    "colorway": [
                      "#636efa",
                      "#EF553B",
                      "#00cc96",
                      "#ab63fa",
                      "#FFA15A",
                      "#19d3f3",
                      "#FF6692",
                      "#B6E880",
                      "#FF97FF",
                      "#FECB52"
                    ],
                    "font": {
                      "color": "#2a3f5f"
                    },
                    "geo": {
                      "bgcolor": "white",
                      "lakecolor": "white",
                      "landcolor": "#E5ECF6",
                      "showlakes": true,
                      "showland": true,
                      "subunitcolor": "white"
                    },
                    "hoverlabel": {
                      "align": "left"
                    },
                    "hovermode": "closest",
                    "mapbox": {
                      "style": "light"
                    },
                    "paper_bgcolor": "white",
                    "plot_bgcolor": "#E5ECF6",
                    "polar": {
                      "angularaxis": {
                        "gridcolor": "white",
                        "linecolor": "white",
                        "ticks": ""
                      },
                      "bgcolor": "#E5ECF6",
                      "radialaxis": {
                        "gridcolor": "white",
                        "linecolor": "white",
                        "ticks": ""
                      }
                    },
                    "scene": {
                      "xaxis": {
                        "backgroundcolor": "#E5ECF6",
                        "gridcolor": "white",
                        "gridwidth": 2,
                        "linecolor": "white",
                        "showbackground": true,
                        "ticks": "",
                        "zerolinecolor": "white"
                      },
                      "yaxis": {
                        "backgroundcolor": "#E5ECF6",
                        "gridcolor": "white",
                        "gridwidth": 2,
                        "linecolor": "white",
                        "showbackground": true,
                        "ticks": "",
                        "zerolinecolor": "white"
                      },
                      "zaxis": {
                        "backgroundcolor": "#E5ECF6",
                        "gridcolor": "white",
                        "gridwidth": 2,
                        "linecolor": "white",
                        "showbackground": true,
                        "ticks": "",
                        "zerolinecolor": "white"
                      }
                    },
                    "shapedefaults": {
                      "line": {
                        "color": "#2a3f5f"
                      }
                    },
                    "ternary": {
                      "aaxis": {
                        "gridcolor": "white",
                        "linecolor": "white",
                        "ticks": ""
                      },
                      "baxis": {
                        "gridcolor": "white",
                        "linecolor": "white",
                        "ticks": ""
                      },
                      "bgcolor": "#E5ECF6",
                      "caxis": {
                        "gridcolor": "white",
                        "linecolor": "white",
                        "ticks": ""
                      }
                    },
                    "title": {
                      "x": 0.05
                    },
                    "xaxis": {
                      "automargin": true,
                      "gridcolor": "white",
                      "linecolor": "white",
                      "ticks": "",
                      "title": {
                        "standoff": 15
                      },
                      "zerolinecolor": "white",
                      "zerolinewidth": 2
                    },
                    "yaxis": {
                      "automargin": true,
                      "gridcolor": "white",
                      "linecolor": "white",
                      "ticks": "",
                      "title": {
                        "standoff": 15
                      },
                      "zerolinecolor": "white",
                      "zerolinewidth": 2
                    }
                  }
                },
                "title": {
                  "text": "Class distribution"
                }
              }
            }
          },
          "metadata": {},
          "output_type": "display_data"
        }
      ],
      "source": [
        "fig = px.pie(data_cancer, names='diagnosis', title='Class distribution')\n",
        "fig.update_traces(textposition='inside', textinfo='percent+value+label')\n",
        "fig.show()"
      ]
    },
    {
      "cell_type": "markdown",
      "metadata": {
        "id": "5msdMkdsJq3N"
      },
      "source": [
        "## Principal Components Analysis"
      ]
    },
    {
      "cell_type": "code",
      "execution_count": 6,
      "metadata": {
        "id": "fb2UGPq7Ps3H"
      },
      "outputs": [],
      "source": [
        "# Transform the diagnosis into Boolean values (0 for benign, 1 for malignant)\n",
        "data_cancer['diagnosis'] = data_cancer['diagnosis'].map({'Benign': 0, 'Malignant': 1})\n",
        "\n",
        "# Separate quantitative columns for PCA analysis\n",
        "quantitative_columns = data_cancer.columns[1:]"
      ]
    },
    {
      "cell_type": "code",
      "execution_count": 7,
      "metadata": {
        "id": "GZ4gAoT9JqBV"
      },
      "outputs": [],
      "source": [
        "# Normalize data\n",
        "scaler = StandardScaler()\n",
        "normalized_cancer_data = scaler.fit_transform(data_cancer[quantitative_columns])\n",
        "\n",
        "# Perform PCA analysis\n",
        "pca = PCA(n_components=2)\n",
        "main_components = pca.fit_transform(normalized_cancer_data)\n",
        "\n",
        "# Create a new dataframe with the PCA results\n",
        "df_pca = pd.DataFrame(data=main_components, columns=['Main Component 1', 'Main Component 2'])\n",
        "\n",
        "# Add the diagnostic and index columns to the new dataframe\n",
        "df_pca[['id', 'diagnosis']] = data_cancer[['id', 'diagnosis']]"
      ]
    },
    {
      "cell_type": "code",
      "execution_count": 8,
      "metadata": {
        "colab": {
          "base_uri": "https://localhost:8080/",
          "height": 542
        },
        "id": "ZmAr2qYOQGeh",
        "outputId": "8e05771a-e7bd-45ec-aaf8-266b4dde2c11"
      },
      "outputs": [
        {
          "data": {
            "application/vnd.plotly.v1+json": {
              "config": {
                "plotlyServerURL": "https://plot.ly"
              },
              "data": [
                {
                  "hovertemplate": "Index: %{text}<br>Diagnosis: %{marker.color}",
                  "marker": {
                    "color": [
                      1,
                      1,
                      1,
                      1,
                      1,
                      1,
                      1,
                      1,
                      1,
                      1,
                      1,
                      1,
                      1,
                      1,
                      1,
                      1,
                      1,
                      1,
                      1,
                      0,
                      0,
                      0,
                      1,
                      1,
                      1,
                      1,
                      1,
                      1,
                      1,
                      1,
                      1,
                      1,
                      1,
                      1,
                      1,
                      1,
                      1,
                      0,
                      1,
                      1,
                      1,
                      1,
                      1,
                      1,
                      1,
                      1,
                      0,
                      1,
                      0,
                      0,
                      0,
                      0,
                      0,
                      1,
                      1,
                      0,
                      1,
                      1,
                      0,
                      0,
                      0,
                      0,
                      1,
                      0,
                      1,
                      1,
                      0,
                      0,
                      0,
                      0,
                      1,
                      0,
                      1,
                      1,
                      0,
                      1,
                      0,
                      1,
                      1,
                      0,
                      0,
                      0,
                      1,
                      1,
                      0,
                      1,
                      1,
                      1,
                      0,
                      0,
                      0,
                      1,
                      0,
                      0,
                      1,
                      1,
                      0,
                      0,
                      0,
                      1,
                      1,
                      0,
                      0,
                      0,
                      0,
                      1,
                      0,
                      0,
                      1,
                      0,
                      0,
                      0,
                      0,
                      0,
                      0,
                      0,
                      0,
                      1,
                      1,
                      1,
                      0,
                      1,
                      1,
                      0,
                      0,
                      0,
                      1,
                      1,
                      0,
                      1,
                      0,
                      1,
                      1,
                      0,
                      1,
                      1,
                      0,
                      0,
                      1,
                      0,
                      0,
                      1,
                      0,
                      0,
                      0,
                      0,
                      1,
                      0,
                      0,
                      0,
                      0,
                      0,
                      0,
                      0,
                      0,
                      0,
                      1,
                      0,
                      0,
                      0,
                      0,
                      1,
                      1,
                      0,
                      1,
                      0,
                      0,
                      1,
                      1,
                      0,
                      0,
                      1,
                      1,
                      0,
                      0,
                      0,
                      0,
                      1,
                      0,
                      0,
                      1,
                      1,
                      1,
                      0,
                      1,
                      0,
                      1,
                      0,
                      0,
                      0,
                      1,
                      0,
                      0,
                      1,
                      1,
                      0,
                      1,
                      1,
                      1,
                      1,
                      0,
                      1,
                      1,
                      1,
                      0,
                      1,
                      0,
                      1,
                      0,
                      0,
                      1,
                      0,
                      1,
                      1,
                      1,
                      1,
                      0,
                      0,
                      1,
                      1,
                      0,
                      0,
                      0,
                      1,
                      0,
                      0,
                      0,
                      0,
                      0,
                      1,
                      1,
                      0,
                      0,
                      1,
                      0,
                      0,
                      1,
                      1,
                      0,
                      1,
                      0,
                      0,
                      0,
                      0,
                      1,
                      0,
                      0,
                      0,
                      0,
                      0,
                      1,
                      0,
                      1,
                      1,
                      1,
                      1,
                      1,
                      1,
                      1,
                      1,
                      1,
                      1,
                      1,
                      1,
                      1,
                      1,
                      0,
                      0,
                      0,
                      0,
                      0,
                      0,
                      1,
                      0,
                      1,
                      0,
                      0,
                      1,
                      0,
                      0,
                      1,
                      0,
                      1,
                      1,
                      0,
                      0,
                      0,
                      0,
                      0,
                      0,
                      0,
                      0,
                      0,
                      0,
                      0,
                      0,
                      0,
                      1,
                      0,
                      0,
                      1,
                      0,
                      1,
                      0,
                      0,
                      0,
                      0,
                      0,
                      0,
                      0,
                      0,
                      0,
                      0,
                      0,
                      0,
                      0,
                      0,
                      1,
                      0,
                      0,
                      0,
                      1,
                      0,
                      1,
                      0,
                      0,
                      0,
                      0,
                      1,
                      1,
                      1,
                      0,
                      0,
                      0,
                      0,
                      1,
                      0,
                      1,
                      0,
                      1,
                      0,
                      0,
                      0,
                      1,
                      0,
                      0,
                      0,
                      0,
                      0,
                      0,
                      0,
                      1,
                      1,
                      1,
                      0,
                      0,
                      0,
                      0,
                      0,
                      0,
                      0,
                      0,
                      0,
                      0,
                      0,
                      1,
                      1,
                      0,
                      1,
                      1,
                      1,
                      0,
                      1,
                      1,
                      0,
                      0,
                      0,
                      0,
                      0,
                      1,
                      0,
                      0,
                      0,
                      0,
                      0,
                      1,
                      0,
                      0,
                      0,
                      1,
                      0,
                      0,
                      1,
                      1,
                      0,
                      0,
                      0,
                      0,
                      0,
                      0,
                      1,
                      0,
                      0,
                      0,
                      0,
                      0,
                      0,
                      0,
                      1,
                      0,
                      0,
                      0,
                      0,
                      0,
                      1,
                      0,
                      0,
                      1,
                      0,
                      0,
                      0,
                      0,
                      0,
                      0,
                      0,
                      0,
                      0,
                      0,
                      0,
                      0,
                      1,
                      0,
                      1,
                      1,
                      0,
                      1,
                      0,
                      0,
                      0,
                      0,
                      0,
                      1,
                      0,
                      0,
                      1,
                      0,
                      1,
                      0,
                      0,
                      1,
                      0,
                      1,
                      0,
                      0,
                      0,
                      0,
                      0,
                      0,
                      0,
                      0,
                      1,
                      1,
                      0,
                      0,
                      0,
                      0,
                      0,
                      0,
                      1,
                      0,
                      0,
                      0,
                      0,
                      0,
                      0,
                      0,
                      0,
                      0,
                      0,
                      1,
                      0,
                      0,
                      0,
                      0,
                      0,
                      0,
                      0,
                      1,
                      0,
                      1,
                      0,
                      0,
                      1,
                      0,
                      0,
                      0,
                      0,
                      0,
                      1,
                      1,
                      0,
                      1,
                      0,
                      1,
                      0,
                      0,
                      0,
                      0,
                      0,
                      1,
                      0,
                      0,
                      1,
                      0,
                      1,
                      0,
                      1,
                      1,
                      0,
                      0,
                      0,
                      1,
                      0,
                      0,
                      0,
                      0,
                      0,
                      0,
                      0,
                      0,
                      0,
                      0,
                      0,
                      1,
                      0,
                      1,
                      1,
                      0,
                      0,
                      0,
                      0,
                      0,
                      0,
                      0,
                      0,
                      0,
                      0,
                      0,
                      0,
                      0,
                      0,
                      0,
                      0,
                      0,
                      0,
                      0,
                      0,
                      0,
                      0,
                      0,
                      0,
                      0,
                      1,
                      1,
                      1,
                      1,
                      1,
                      1,
                      0
                    ],
                    "colorscale": [
                      [
                        0,
                        "blue"
                      ],
                      [
                        1,
                        "red"
                      ]
                    ],
                    "showscale": false
                  },
                  "mode": "markers",
                  "text": [
                    842302,
                    842517,
                    84300903,
                    84348301,
                    84358402,
                    843786,
                    844359,
                    84458202,
                    844981,
                    84501001,
                    845636,
                    84610002,
                    846226,
                    846381,
                    84667401,
                    84799002,
                    848406,
                    84862001,
                    849014,
                    8510426,
                    8510653,
                    8510824,
                    8511133,
                    851509,
                    852552,
                    852631,
                    852763,
                    852781,
                    852973,
                    853201,
                    853401,
                    853612,
                    85382601,
                    854002,
                    854039,
                    854253,
                    854268,
                    854941,
                    855133,
                    855138,
                    855167,
                    855563,
                    855625,
                    856106,
                    85638502,
                    857010,
                    85713702,
                    85715,
                    857155,
                    857156,
                    857343,
                    857373,
                    857374,
                    857392,
                    857438,
                    85759902,
                    857637,
                    857793,
                    857810,
                    858477,
                    858970,
                    858981,
                    858986,
                    859196,
                    85922302,
                    859283,
                    859464,
                    859465,
                    859471,
                    859487,
                    859575,
                    859711,
                    859717,
                    859983,
                    8610175,
                    8610404,
                    8610629,
                    8610637,
                    8610862,
                    8610908,
                    861103,
                    8611161,
                    8611555,
                    8611792,
                    8612080,
                    8612399,
                    86135501,
                    86135502,
                    861597,
                    861598,
                    861648,
                    861799,
                    861853,
                    862009,
                    862028,
                    86208,
                    86211,
                    862261,
                    862485,
                    862548,
                    862717,
                    862722,
                    862965,
                    862980,
                    862989,
                    863030,
                    863031,
                    863270,
                    86355,
                    864018,
                    864033,
                    86408,
                    86409,
                    864292,
                    864496,
                    864685,
                    864726,
                    864729,
                    864877,
                    865128,
                    865137,
                    86517,
                    865423,
                    865432,
                    865468,
                    86561,
                    866083,
                    866203,
                    866458,
                    866674,
                    866714,
                    8670,
                    86730502,
                    867387,
                    867739,
                    868202,
                    868223,
                    868682,
                    868826,
                    868871,
                    868999,
                    869104,
                    869218,
                    869224,
                    869254,
                    869476,
                    869691,
                    86973701,
                    86973702,
                    869931,
                    871001501,
                    871001502,
                    8710441,
                    87106,
                    8711002,
                    8711003,
                    8711202,
                    8711216,
                    871122,
                    871149,
                    8711561,
                    8711803,
                    871201,
                    8712064,
                    8712289,
                    8712291,
                    87127,
                    8712729,
                    8712766,
                    8712853,
                    87139402,
                    87163,
                    87164,
                    871641,
                    871642,
                    872113,
                    872608,
                    87281702,
                    873357,
                    873586,
                    873592,
                    873593,
                    873701,
                    873843,
                    873885,
                    874158,
                    874217,
                    874373,
                    874662,
                    874839,
                    874858,
                    875093,
                    875099,
                    875263,
                    87556202,
                    875878,
                    875938,
                    877159,
                    877486,
                    877500,
                    877501,
                    877989,
                    878796,
                    87880,
                    87930,
                    879523,
                    879804,
                    879830,
                    8810158,
                    8810436,
                    881046502,
                    8810528,
                    8810703,
                    881094802,
                    8810955,
                    8810987,
                    8811523,
                    8811779,
                    8811842,
                    88119002,
                    8812816,
                    8812818,
                    8812844,
                    8812877,
                    8813129,
                    88143502,
                    88147101,
                    88147102,
                    88147202,
                    881861,
                    881972,
                    88199202,
                    88203002,
                    88206102,
                    882488,
                    88249602,
                    88299702,
                    883263,
                    883270,
                    88330202,
                    88350402,
                    883539,
                    883852,
                    88411702,
                    884180,
                    884437,
                    884448,
                    884626,
                    88466802,
                    884689,
                    884948,
                    88518501,
                    885429,
                    8860702,
                    886226,
                    886452,
                    88649001,
                    886776,
                    887181,
                    88725602,
                    887549,
                    888264,
                    888570,
                    889403,
                    889719,
                    88995002,
                    8910251,
                    8910499,
                    8910506,
                    8910720,
                    8910721,
                    8910748,
                    8910988,
                    8910996,
                    8911163,
                    8911164,
                    8911230,
                    8911670,
                    8911800,
                    8911834,
                    8912049,
                    8912055,
                    89122,
                    8912280,
                    8912284,
                    8912521,
                    8912909,
                    8913,
                    8913049,
                    89143601,
                    89143602,
                    8915,
                    891670,
                    891703,
                    891716,
                    891923,
                    891936,
                    892189,
                    892214,
                    892399,
                    892438,
                    892604,
                    89263202,
                    892657,
                    89296,
                    893061,
                    89344,
                    89346,
                    893526,
                    893548,
                    893783,
                    89382601,
                    89382602,
                    893988,
                    894047,
                    894089,
                    894090,
                    894326,
                    894329,
                    894335,
                    894604,
                    894618,
                    894855,
                    895100,
                    89511501,
                    89511502,
                    89524,
                    895299,
                    8953902,
                    895633,
                    896839,
                    896864,
                    897132,
                    897137,
                    897374,
                    89742801,
                    897604,
                    897630,
                    897880,
                    89812,
                    89813,
                    898143,
                    89827,
                    898431,
                    89864002,
                    898677,
                    898678,
                    89869,
                    898690,
                    899147,
                    899187,
                    899667,
                    899987,
                    9010018,
                    901011,
                    9010258,
                    9010259,
                    901028,
                    9010333,
                    901034301,
                    901034302,
                    901041,
                    9010598,
                    9010872,
                    9010877,
                    901088,
                    9011494,
                    9011495,
                    9011971,
                    9012000,
                    9012315,
                    9012568,
                    9012795,
                    901288,
                    9013005,
                    901303,
                    901315,
                    9013579,
                    9013594,
                    9013838,
                    901549,
                    901836,
                    90250,
                    90251,
                    902727,
                    90291,
                    902975,
                    902976,
                    903011,
                    90312,
                    90317302,
                    903483,
                    903507,
                    903516,
                    903554,
                    903811,
                    90401601,
                    90401602,
                    904302,
                    904357,
                    90439701,
                    904647,
                    904689,
                    9047,
                    904969,
                    904971,
                    905189,
                    905190,
                    90524101,
                    905501,
                    905502,
                    905520,
                    905539,
                    905557,
                    905680,
                    905686,
                    905978,
                    90602302,
                    906024,
                    906290,
                    906539,
                    906564,
                    906616,
                    906878,
                    907145,
                    907367,
                    907409,
                    90745,
                    90769601,
                    90769602,
                    907914,
                    907915,
                    908194,
                    908445,
                    908469,
                    908489,
                    908916,
                    909220,
                    909231,
                    909410,
                    909411,
                    909445,
                    90944601,
                    909777,
                    9110127,
                    9110720,
                    9110732,
                    9110944,
                    911150,
                    911157302,
                    9111596,
                    9111805,
                    9111843,
                    911201,
                    911202,
                    9112085,
                    9112366,
                    9112367,
                    9112594,
                    9112712,
                    911296201,
                    911296202,
                    9113156,
                    911320501,
                    911320502,
                    9113239,
                    9113455,
                    9113514,
                    9113538,
                    911366,
                    9113778,
                    9113816,
                    911384,
                    9113846,
                    911391,
                    911408,
                    911654,
                    911673,
                    911685,
                    911916,
                    912193,
                    91227,
                    912519,
                    912558,
                    912600,
                    913063,
                    913102,
                    913505,
                    913512,
                    913535,
                    91376701,
                    91376702,
                    914062,
                    914101,
                    914102,
                    914333,
                    914366,
                    914580,
                    914769,
                    91485,
                    914862,
                    91504,
                    91505,
                    915143,
                    915186,
                    915276,
                    91544001,
                    91544002,
                    915452,
                    915460,
                    91550,
                    915664,
                    915691,
                    915940,
                    91594602,
                    916221,
                    916799,
                    916838,
                    917062,
                    917080,
                    917092,
                    91762702,
                    91789,
                    917896,
                    917897,
                    91805,
                    91813701,
                    91813702,
                    918192,
                    918465,
                    91858,
                    91903901,
                    91903902,
                    91930402,
                    919537,
                    919555,
                    91979701,
                    919812,
                    921092,
                    921362,
                    921385,
                    921386,
                    921644,
                    922296,
                    922297,
                    922576,
                    922577,
                    922840,
                    923169,
                    923465,
                    923748,
                    923780,
                    924084,
                    924342,
                    924632,
                    924934,
                    924964,
                    925236,
                    925277,
                    925291,
                    925292,
                    925311,
                    925622,
                    926125,
                    926424,
                    926682,
                    926954,
                    927241,
                    92751
                  ],
                  "type": "scatter",
                  "x": [
                    9.225770106655785,
                    2.6558015959309724,
                    5.8924921235607535,
                    7.13540074520654,
                    4.1294227126851375,
                    2.5728721234220555,
                    2.507796317224493,
                    2.353241540107319,
                    3.3616804093771764,
                    6.419311110740821,
                    -0.47057602134514653,
                    2.8760370377955984,
                    8.206292449874368,
                    0.620780345821541,
                    4.478522244099544,
                    4.2493352839639815,
                    0.5333603416371517,
                    4.5927724233387694,
                    5.164467059723256,
                    -1.3714683359242694,
                    -1.709579329547497,
                    -3.6668728977923637,
                    4.864199842587983,
                    4.458702006243348,
                    5.14418718081262,
                    7.181839100155787,
                    3.707515949057942,
                    3.28223241044615,
                    4.208783108863835,
                    1.9654069668340226,
                    6.210993609369452,
                    3.0847538934960377,
                    4.733479635219088,
                    5.18188622140696,
                    3.2044544073660224,
                    3.0017629870192826,
                    1.5474641122911637,
                    -3.817846103010006,
                    -0.6748612614540841,
                    1.0327484008413934,
                    -1.786606505773568,
                    0.18296891188642644,
                    9.11824224609776,
                    1.250830437479991,
                    0.017871288809941197,
                    5.540722535373255,
                    -4.656887208133889,
                    1.9333483770154554,
                    -2.2495698379480387,
                    -1.6760867221625284,
                    -3.6137809005605,
                    -3.230700549786764,
                    -3.5300070356670785,
                    3.511140596431589,
                    -0.3407092256373988,
                    -2.9584677954532315,
                    4.851921760466943,
                    2.407677923101857,
                    -3.7851986584150215,
                    -4.2293356334249035,
                    -2.5355372270929926,
                    -2.7205077474415944,
                    4.890652599001105,
                    -2.4815166082134574,
                    1.9323831586468783,
                    2.057015186907868,
                    -2.9071551378324405,
                    -3.595466575462701,
                    3.9325494920398407,
                    -3.3418991871858776,
                    2.9700189052373083,
                    -0.5900932424111073,
                    5.656169745150058,
                    -0.06781285797387533,
                    -2.7255572930804877,
                    1.6941314480521206,
                    -1.0150841505940342,
                    6.34275428263317,
                    11.609783877169114,
                    -2.134570566212151,
                    -1.780476556074382,
                    0.9507370022544895,
                    10.817876614864362,
                    5.177607172340168,
                    -2.289242319503885,
                    3.5125563164233973,
                    0.8702032539068157,
                    3.8175219524886796,
                    -1.0851780791868828,
                    1.0430284609087752,
                    -1.6974580496079545,
                    0.5326107713354251,
                    -2.9199008993376103,
                    -2.0716487856209116,
                    2.9864702981130953,
                    4.597773876498563,
                    -2.7072861832077058,
                    -3.996404056677219,
                    -2.921371703287363,
                    0.8806504588872262,
                    -0.11764396756135949,
                    -4.653418444715038,
                    -3.509715140104262,
                    -2.2483095452984605,
                    -2.8149563954558494,
                    3.381414927298885,
                    -0.9119211028165962,
                    -3.2302434030701606,
                    13.005207280575377,
                    -2.3392078552905566,
                    -2.6387953245639544,
                    -0.3051387725676448,
                    3.2671462516812335,
                    -1.5354429597686492,
                    -2.6495557611430436,
                    -2.1634730421838855,
                    -2.2856160996138852,
                    3.3144385025672634,
                    5.104434927954358,
                    1.1427889795012036,
                    -3.062041415376944,
                    3.5474060319215193,
                    12.806731434395545,
                    -0.9211913493488859,
                    -2.3160936791280657,
                    -3.2124117525580878,
                    -0.3116531745003273,
                    2.187297894462471,
                    1.183592928473691,
                    4.840737243496815,
                    -2.0146154264445206,
                    1.6988009965902429,
                    1.6262408318346793,
                    -0.8426663102139045,
                    2.4413540185986733,
                    -1.6336308529797903,
                    -2.708825946751532,
                    -3.3412894228040737,
                    3.94329582908535,
                    -2.1384060270320724,
                    -5.071111976283651,
                    1.6051214266987388,
                    -2.5740318560906648,
                    -1.9535224933520372,
                    -4.406477312179349,
                    -0.9379455208665811,
                    2.5769289689663113,
                    0.18844151183289473,
                    -0.5648736135750682,
                    -3.1204561755135516,
                    -1.5776955599918707,
                    -0.16693241134661752,
                    6.548404381898014,
                    -3.8266331871591346,
                    -1.1202120997626062,
                    -2.523798561821441,
                    4.278209407929298,
                    -0.8722378531772731,
                    -3.727069866144988,
                    -4.725919178884308,
                    -0.7758392642629751,
                    3.5982337838148863,
                    6.314115665603229,
                    -1.478158417047759,
                    5.696344571491288,
                    -3.0592469002434632,
                    -4.453981767437286,
                    1.484719507256825,
                    5.244141475813446,
                    -2.075949303821527,
                    -2.6255310066912947,
                    -0.6179270044328723,
                    3.02111621095913,
                    -3.6021504412366077,
                    -4.718880260213603,
                    -5.408360147459396,
                    0.8646046978906908,
                    3.1640446673614835,
                    -4.984279775832127,
                    -4.129083957784205,
                    9.636606891785421,
                    9.0840308745041,
                    1.053926217786909,
                    -2.7873151307796316,
                    -0.07344367817464827,
                    -3.9749410811794683,
                    0.6901470649219611,
                    -2.930060644798975,
                    -3.3966557352461604,
                    -3.4366939495342996,
                    6.559331933212277,
                    -1.856240882087316,
                    -5.610175495641462,
                    2.00277095325499,
                    2.812509893870388,
                    -2.907740150635572,
                    2.6966565454947418,
                    1.5384364027421904,
                    3.706884835490322,
                    1.528714331166741,
                    -1.601928148370456,
                    1.920789663835007,
                    9.111755732805545,
                    4.718295630787972,
                    -0.933804258579933,
                    0.08047091909513891,
                    -3.5514655149526084,
                    0.7478154143702401,
                    0.1290228466735316,
                    -2.149518725626227,
                    4.997460657595779,
                    -3.0872568753125877,
                    12.293638716945575,
                    3.507227873952434,
                    2.711738197339889,
                    1.5516553172912046,
                    -0.5747378045593757,
                    -2.8820749630464766,
                    5.1357829186806425,
                    4.543640901338502,
                    -2.4764456607214043,
                    -1.1156184595217555,
                    -3.0905925637074363,
                    2.057238366629087,
                    -2.5693642052739483,
                    -0.9644961735289991,
                    -3.973058826533138,
                    -0.5410476628688449,
                    -1.5779576441755432,
                    2.9464412641424005,
                    3.4775066748079424,
                    -4.066935771075984,
                    -3.7274928982612736,
                    3.5712472743745467,
                    -4.121569429317409,
                    -2.4265083213888534,
                    8.535604360205138,
                    2.902924016763466,
                    -0.817287424203592,
                    3.5973921497091554,
                    -2.330223138597251,
                    -4.51671252542977,
                    1.067688778373482,
                    -1.9609584823584891,
                    3.9990131375355302,
                    -2.4186846124180357,
                    -3.3046098985117873,
                    0.8017592991932472,
                    -2.6820296959210843,
                    -2.5979548596543807,
                    7.2684374275334145,
                    -3.121623918262709,
                    7.192707935743204,
                    1.5931975548343387,
                    3.9454263436841273,
                    0.7294450364919893,
                    6.543010565811558,
                    5.366086638899376,
                    8.753567926698338,
                    3.908392061455412,
                    3.6373363828037855,
                    -0.4936004498858314,
                    3.484916104296327,
                    -1.5379845013981006,
                    1.9012300654623218,
                    6.819742072296188,
                    -1.623877247490648,
                    -2.122513729167332,
                    -2.3939713667233593,
                    -0.9358009465203021,
                    -4.532257325188436,
                    -3.2553888703979568,
                    7.796651728916363,
                    -3.73887896808179,
                    0.6550773546306959,
                    -1.4354492837235406,
                    -4.40807612133135,
                    0.3381277785786796,
                    -3.545326367609276,
                    -1.9769896729786056,
                    5.154175236331293,
                    -2.5892459797298417,
                    4.009030467574535,
                    2.8549839917707445,
                    -1.5237357723893104,
                    -4.19499533989175,
                    -0.8657882188989816,
                    -4.3609134531868925,
                    0.1577082632591925,
                    -3.1043057437500514,
                    2.797079329486111,
                    -0.5593424552767841,
                    -1.5666393169042139,
                    -2.960237165436006,
                    -3.444568050012365,
                    -3.3887703472098334,
                    -4.829961229554417,
                    -2.048251437095335,
                    -2.8565195084653134,
                    -3.4949775553187616,
                    6.72541966134403,
                    -1.6041143931299857,
                    7.280674995718287,
                    -3.6698912098819547,
                    -3.1560900929228026,
                    -3.1634354578239288,
                    -3.9095238895480287,
                    -5.439759530060499,
                    -4.685385269780617,
                    -4.0775672390700635,
                    -3.4280995937630503,
                    -3.3549240019871633,
                    -2.260945335755269,
                    -4.108185489758546,
                    -3.903108764373623,
                    -4.897909071382616,
                    -4.787362488303336,
                    2.166591046825308,
                    1.2749101896289872,
                    -4.098237967944678,
                    -1.4809007312456568,
                    2.118771910611165,
                    -1.9364381918716127,
                    7.3669792030315255,
                    -3.2280987890233335,
                    -2.977987377025815,
                    -3.2256095849569606,
                    -4.6667087594421455,
                    2.491604706229176,
                    2.3177452779909133,
                    2.032282169603108,
                    -0.6953832277179431,
                    -3.315190214425647,
                    -4.439684380783233,
                    -3.87331627196343,
                    3.5381560423319383,
                    -2.5210649777485745,
                    4.867741600036004,
                    -3.1719592509090098,
                    7.519533026457981,
                    0.11900548964552568,
                    -2.0889466377058254,
                    -2.2122985966495667,
                    5.156386931213583,
                    -2.304346950828601,
                    -2.59771666360412,
                    -3.44408127737398,
                    -1.3306597202595216,
                    -3.414703246546296,
                    -2.0704523386888165,
                    -4.102337825960046,
                    6.2514749792827615,
                    10.996081786071425,
                    2.3491542880217997,
                    -3.1307847548446546,
                    -1.151537190616005,
                    0.15327938453947948,
                    -3.2638780440421455,
                    -3.1266306171672085,
                    -3.293977148766029,
                    -4.624067004897062,
                    -2.577848297072028,
                    -2.5023612060281626,
                    -0.9038899157930481,
                    -3.2115169817032605,
                    2.9974009235717687,
                    6.367607292240401,
                    -2.3273493986002154,
                    5.52909198482775,
                    7.394329382961422,
                    4.387735407562348,
                    -2.587903034515042,
                    3.8506713811302538,
                    3.7643682750603404,
                    -2.703976009500892,
                    -0.2568878424931625,
                    1.734910549047241,
                    -3.125054581851354,
                    -1.732603090276358,
                    3.9176682325439067,
                    -1.0914460902786511,
                    -3.379199696139284,
                    -1.7053438081674752,
                    -0.5810961143144763,
                    -2.403889964740237,
                    -0.23155411324022962,
                    -2.188484753377899,
                    -3.4879972238429793,
                    -0.6948640822488221,
                    4.8603757602158435,
                    -3.7331605114594493,
                    -3.7125498413925984,
                    4.32908396164126,
                    7.791190947636151,
                    -2.130292198501932,
                    -2.998835414338959,
                    -0.6505360777343182,
                    -2.039537562759499,
                    -3.8585621424239727,
                    -2.807681328202903,
                    6.4121333738061415,
                    -3.5047019058779627,
                    -2.1231848912824867,
                    -2.57201005967973,
                    -3.7243002223157853,
                    -2.468941822770019,
                    -1.2588508923143238,
                    -1.504952294677046,
                    2.998001498388639,
                    -2.084563824909801,
                    -3.0097329187912143,
                    -3.0212803584077776,
                    -4.080724310178752,
                    -0.005637003943269364,
                    -0.6001078757599215,
                    -2.056428718771795,
                    -2.7553495031696627,
                    6.13159219540328,
                    -3.020883635357302,
                    -3.42477963505265,
                    -2.1420445880072947,
                    1.732106471324082,
                    -1.805428045010882,
                    -0.5287419055050497,
                    -2.007198478642875,
                    -4.7493699012072375,
                    -1.4539317386564934,
                    -2.4257462093295423,
                    -4.709776018982121,
                    -3.9984103018372816,
                    5.082807630483267,
                    -1.0940250841261578,
                    4.734540899824606,
                    4.624559295179387,
                    -2.290067307005864,
                    0.9425184049070882,
                    -2.3461974876110463,
                    -2.2319293774724733,
                    -2.699291454485727,
                    -3.2802745961382325,
                    -0.49473900060042286,
                    2.715535788515015,
                    -3.5230657501572744,
                    -3.9899673943355833,
                    1.2695639504648182,
                    -1.4029567761607444,
                    3.4874551193055385,
                    -1.669144977236083,
                    -1.3667280044434842,
                    4.55925978224609,
                    -1.2534327249463768,
                    2.765485355588529,
                    -2.325154376705215,
                    -1.310563780346117,
                    -2.9171718029316596,
                    -1.9528800288423391,
                    -1.4645181986638127,
                    -2.874284749187059,
                    -3.235184756124416,
                    -4.143706500299629,
                    3.696391863283658,
                    16.259206257876457,
                    -2.6332122717541417,
                    -3.0593992456478625,
                    -2.835318648167925,
                    1.1429952690696192,
                    -0.5749665020337056,
                    -3.924070200276559,
                    6.04028823939304,
                    0.42271581934991664,
                    -2.8038701587198966,
                    -2.1535819719859797,
                    -1.5127443686322353,
                    -3.6049510466420975,
                    -2.1294900393490024,
                    -2.1114376890735516,
                    -0.6640658929321379,
                    -3.239051544845163,
                    -2.3313015467022185,
                    3.9830237115447447,
                    -3.070514998222183,
                    -2.5602581087859924,
                    -1.4083570073640324,
                    -2.331356366875734,
                    -0.2171177127283989,
                    2.023731988207251,
                    -2.3657434040549554,
                    4.94775570099703,
                    -1.8631808979836217,
                    -0.4018041867723746,
                    -2.9709478079418443,
                    -1.7408418849656657,
                    3.319306003040018,
                    -4.143570888462657,
                    -2.8821489687154225,
                    -1.586860205442316,
                    -0.3996391975449413,
                    -2.643159720639802,
                    3.9125338370589704,
                    5.281884862576093,
                    -0.7478032266328818,
                    2.977326247227453,
                    -1.5569632016150847,
                    7.4149971491363935,
                    1.0052617681223817,
                    0.7808295952666479,
                    -1.4004613879196361,
                    -1.4408562517787473,
                    -1.2873792333129628,
                    4.254674001902962,
                    -2.0395976167664447,
                    -2.848486004935726,
                    2.446609335724693,
                    -1.2599614034791358,
                    -0.41094076077018926,
                    -2.450025639317246,
                    2.94256349845699,
                    3.6106378376876367,
                    -0.3736092011109942,
                    -1.3243119577798188,
                    -1.4868258591188215,
                    8.742576652904791,
                    -4.4782933121653095,
                    -0.7766904852813472,
                    -3.3568441809572964,
                    -3.465753971859631,
                    -0.9915455302711152,
                    -3.231758761036919,
                    0.1338855841859385,
                    -2.576169666933132,
                    -1.6663093144101466,
                    -1.8941914722074664,
                    -2.761297960709036,
                    4.239681457071338,
                    -2.2706122255098946,
                    5.350709226844946,
                    0.8083816241930888,
                    0.13548553030414434,
                    -4.289382451844773,
                    -1.3505811076507415,
                    -1.8327941911498935,
                    0.814096505885165,
                    -1.4116528565716233,
                    -2.4565318608424853,
                    -1.7917096433432136,
                    -2.033886205746362,
                    -4.304529861180391,
                    -2.8091960073696463,
                    -3.9211290667377194,
                    -2.6593926898545717,
                    -4.745519443861442,
                    -2.159392944045863,
                    -2.9692489559481205,
                    -3.617218265677086,
                    -2.2536397230234004,
                    -2.1904509696820633,
                    -3.969396889869031,
                    -4.137498270997819,
                    -0.26729870647746307,
                    -1.2446241999763534,
                    -0.6348356008501522,
                    -4.897607638484648,
                    6.042540204138826,
                    8.812460668605189,
                    6.593983390281858,
                    4.024833269950441,
                    1.5300772709266592,
                    10.405007894827019,
                    -5.504861584435726
                  ],
                  "y": [
                    2.1161956282110728,
                    -3.7847758592056766,
                    -1.0055789637325363,
                    10.318716365904743,
                    -1.9055791364953338,
                    3.885018600378377,
                    -2.7276959618228367,
                    2.284871662865105,
                    3.344486571246099,
                    7.746954551481202,
                    -2.7836614036036074,
                    0.033100501958454376,
                    2.874926534648412,
                    -1.0460592767499826,
                    4.848957904918961,
                    2.953495552770261,
                    -1.6638828836925261,
                    1.4223756536418968,
                    -4.059543513126118,
                    -0.1654494711571344,
                    0.5760999459705722,
                    1.6218390843281236,
                    3.3281976643461815,
                    -5.097892594987694,
                    -1.510280017817281,
                    2.1249545069770983,
                    2.1328886403919443,
                    -1.8630424396501772,
                    0.5238751855313765,
                    -1.5589752189058774,
                    -0.6843993138876108,
                    3.9518373444026653,
                    0.3573964072313436,
                    -1.1038544943484025,
                    0.7180439464867195,
                    -0.39228087544910883,
                    0.8323758426430011,
                    -1.4480627940097393,
                    -3.4397401966967505,
                    0.7849060108887164,
                    -2.0926607461414353,
                    2.125309594605969,
                    2.192183618657875,
                    0.8908397417758788,
                    -0.2742199226340173,
                    -0.08469983061790093,
                    1.403942328490485,
                    2.2667945622924517,
                    0.08587814396593771,
                    -1.1986112587659363,
                    -1.3171245003832046,
                    -1.7155162002638236,
                    -0.5374008836390065,
                    -1.1215455909127647,
                    -2.2439301115496186,
                    0.12851986815601818,
                    -2.273003966650356,
                    0.9148499986696975,
                    -1.821838196696949,
                    2.328531710550361,
                    2.7471352450323665,
                    3.112496099809452,
                    3.040408592410357,
                    3.2709063825059097,
                    1.4620185783725852,
                    0.6539659479317375,
                    2.273704431018993,
                    -0.6968037698921699,
                    9.37932408012762,
                    -0.9672346258483565,
                    -4.437947027162094,
                    7.45661515187955,
                    0.9775348987555162,
                    -0.0006804094164820673,
                    -0.7138132141908681,
                    -2.0116243131260356,
                    2.0067785039984494,
                    1.0104699070166676,
                    4.983133656955945,
                    -0.25779077549113655,
                    1.7151463948518184,
                    2.5883509999645864,
                    -2.031982478347443,
                    0.8325976493052881,
                    0.482785078231415,
                    -1.6677473899919684,
                    0.08398643290297325,
                    -2.2098313959522105,
                    0.9513647510570628,
                    1.1169032440982012,
                    -1.6016643432579896,
                    -0.6198294019320607,
                    -2.8981955318521067,
                    -0.9621368598848224,
                    0.5340875418202248,
                    -2.0867657924716525,
                    0.2061337055539526,
                    1.137530635757439,
                    0.3407161100740586,
                    0.5480814992435119,
                    -1.5085752826980212,
                    3.440066089764939,
                    -1.4685245602595391,
                    1.8329833174970305,
                    1.4012996924193164,
                    4.01083534353856,
                    1.819743067187133,
                    -1.0765385795624638,
                    1.2715217753999872,
                    0.6454692975001864,
                    2.587179354003702,
                    2.343242911420757,
                    4.107384658950414,
                    3.5766206138818415,
                    3.2168364767753124,
                    0.29771418071068223,
                    3.6888177697068647,
                    1.534245442783257,
                    2.4044703168823682,
                    -2.3767133425344418,
                    0.3351247483853311,
                    -1.3175744271330359,
                    2.633377386711202,
                    -0.025395441094508402,
                    -0.7291937641650175,
                    -1.905458712644495,
                    -1.052631014863509,
                    -3.557902509593209,
                    1.412709660762571,
                    -1.4529612216629602,
                    1.4193891265932819,
                    -1.1139261955915958,
                    -1.2248446233224939,
                    -1.522319158814983,
                    -2.8615865557062463,
                    -0.5877868856714806,
                    -0.48507868818201666,
                    -0.4549768790846166,
                    0.8955297714946945,
                    1.3401894221008355,
                    0.4861464872620346,
                    -1.3258941881090118,
                    0.8821383333692758,
                    -0.09339469866447665,
                    -0.9495358015477003,
                    3.741301785168739,
                    4.778665028667579,
                    1.1704336114286522,
                    -0.34196955559292624,
                    -2.257719452531985,
                    0.32173704246760637,
                    7.183070120323934,
                    12.87342576087232,
                    0.2025178847994768,
                    0.967592096313279,
                    -0.011744889305439217,
                    -0.3439862338972257,
                    -3.011901235520348,
                    -0.7203720972097051,
                    -1.1741259087517373,
                    1.8282476554757465,
                    -2.870328729242588,
                    -1.9390497570608856,
                    1.4863947545630405,
                    -4.093998218948442,
                    -2.759296024578822,
                    -0.05799785670919875,
                    -2.0892555111795543,
                    -1.721592714581809,
                    -1.834889447338045,
                    0.10202588210798702,
                    -1.813841554168417,
                    1.237181222610513,
                    1.5923968036538643,
                    -0.2894093792111491,
                    0.9320004720412809,
                    7.1211457354293834,
                    0.6828977082541927,
                    -3.4601370968097354,
                    -1.2896658263412766,
                    -5.409678473261454,
                    0.7188301053019912,
                    -1.6973745166672916,
                    0.5419727566240203,
                    -1.1174105969475547,
                    0.762825285593801,
                    -3.6662379164654233,
                    -0.4216338081395831,
                    0.11474191172144642,
                    -1.1324644607831482,
                    8.066996867054627,
                    -0.506658124867459,
                    -0.5573716250370825,
                    2.6980989928391605,
                    1.5310918368584674,
                    -0.9897949782381056,
                    2.241748386079253,
                    -2.4742654155726425,
                    -2.2794857104746185,
                    0.2842351320978558,
                    0.12740215861048607,
                    -2.1530737486400477,
                    -0.4895589574306769,
                    3.0753482508674432,
                    0.682544568312454,
                    -0.8188972787552572,
                    1.256875696119663,
                    -2.8619386687592168,
                    2.120763870094313,
                    -2.4648797386355645,
                    -2.958143212980211,
                    -0.4272029125206763,
                    -7.1667003613999745,
                    2.627256710441198,
                    2.5656005603418577,
                    2.072365050615236,
                    2.319518146151144,
                    1.0759745950126858,
                    -2.7869654557141685,
                    -4.637533134600807,
                    -0.7416489919342044,
                    0.46542827395059094,
                    1.7736983474924322,
                    0.09506715714983015,
                    -1.4270723151961988,
                    -1.203022501100099,
                    0.47838840023543966,
                    -0.5648598364393237,
                    -0.19616059931552104,
                    3.412352012269688,
                    -0.15023240019514164,
                    -1.4170448192139316,
                    -1.3498016736186822,
                    -3.935859934428116,
                    1.101029862163014,
                    -1.3562721762416547,
                    -3.995189010055909,
                    -3.947425677850739,
                    -1.093338815801981,
                    -2.1736039028591816,
                    -1.2131167683751445,
                    -1.8086010887661124,
                    4.86937996100231,
                    -1.564290413295965,
                    -1.0109463817919282,
                    2.067259517670361,
                    -1.2031058987157741,
                    2.445531018425318,
                    0.6934714707658429,
                    0.44378139044284304,
                    -1.94498172263538,
                    -0.6736527947320393,
                    0.6303551843617308,
                    -1.8421483750965115,
                    -2.7999813877730033,
                    0.30089584082084736,
                    -1.729406147216907,
                    3.9329116354597775,
                    3.4439661751881756,
                    1.024015536848,
                    -3.3837767753035113,
                    -3.6170859103380235,
                    -0.9720959461983962,
                    -3.2770197393589386,
                    -2.537503749597944,
                    -5.893865045576903,
                    1.7068923460033425,
                    -1.092660634145324,
                    -0.0018385828228987633,
                    3.191680701845235,
                    -3.2270721617748195,
                    0.374631316927135,
                    -2.9224732342425854,
                    1.5391800775708744,
                    -3.2322599544898507,
                    0.8868099305392054,
                    -0.3852455394185917,
                    -3.545028007588037,
                    -2.6675849970512,
                    -0.8967356326490706,
                    -1.3099944075082628,
                    -0.1340303067997102,
                    -1.8983371544020244,
                    0.5421370635851901,
                    0.0457216099409062,
                    -1.4278629596312895,
                    1.73872405707247,
                    -2.029830890057076,
                    3.8162918277935693,
                    0.3275015574917286,
                    4.4672925451277745,
                    -0.766429070884982,
                    1.4027858895131216,
                    -0.29905892878653195,
                    -0.8432475310084706,
                    -1.4722284719088559,
                    -0.605275053792802,
                    -0.9776527527294179,
                    -2.549051082856362,
                    0.7206851431116948,
                    -1.3790602827462097,
                    0.6187542903788292,
                    0.18061258327955357,
                    0.8422108537200934,
                    -0.20014302405987233,
                    -0.33527444513966465,
                    -1.5758007727243573,
                    0.46146429518827475,
                    -3.122923833851274,
                    -2.5819285649586807,
                    -0.1139991456545979,
                    -3.1602647739701717,
                    0.0020581160974616408,
                    -0.29790572237975094,
                    4.347335781951326,
                    -2.4107423137327246,
                    -1.8630675476521938,
                    -2.4384879240825232,
                    6.612906529229743,
                    -1.43217851491647,
                    3.4917351257762324,
                    -4.347111842869706,
                    0.3969985127327155,
                    0.04901764840163257,
                    -0.7747060977716443,
                    -0.4908938501877709,
                    -1.7921043686212148,
                    -1.9017116463246937,
                    -0.3935144761483852,
                    1.090651100577366,
                    -0.32346920568428034,
                    1.3023506814608063,
                    1.065623494500912,
                    -0.8283000074228815,
                    -0.9605525471303027,
                    -1.5700434596106108,
                    0.9814342256407506,
                    -0.9357698544394751,
                    1.098631551154391,
                    -5.106640427476732,
                    0.2924042676339584,
                    2.536040945372547,
                    1.7933251991518275,
                    -1.284109607338654,
                    0.9524588431677276,
                    3.4467672075690974,
                    -0.6047262439607342,
                    -1.2876017571579563,
                    0.4294501797080304,
                    1.46286194503381,
                    -1.4036622277938344,
                    5.176644537807512,
                    -3.468164029954197,
                    0.2549674294385156,
                    0.23968699067895935,
                    0.8462339032311357,
                    2.195929071604278,
                    -1.8755498356491855,
                    1.6216529556138704,
                    0.5463740809208742,
                    -2.8171555481064643,
                    -1.1997777477268161,
                    -0.2646256092006464,
                    -2.078442080890818,
                    -1.5203165255963884,
                    -3.9510192694447737,
                    -1.28941355457988,
                    -0.36979387987303275,
                    -6.6287897313768775,
                    -3.5248931381975965,
                    1.1781595855784832,
                    -2.020729374402561,
                    -1.9421650762471998,
                    -3.8456330771257115,
                    -1.1202376903080902,
                    -0.07754115811865066,
                    6.545254032510164,
                    -2.216385409049711,
                    0.2985260264198889,
                    5.93297500016229,
                    2.3179669208551745,
                    0.16265285840015825,
                    1.0015778052635618,
                    2.199261392360514,
                    -0.9357676023372504,
                    -1.4289289143150106,
                    0.3270846919048558,
                    -2.4700253502367366,
                    3.7634944777826687,
                    -0.13592177718094134,
                    0.7357096460638257,
                    2.5590708160200863,
                    0.7775092322357023,
                    -0.747607057449709,
                    0.42401679258289804,
                    -1.7193303057413885,
                    0.14262849550933926,
                    -0.6278663108854623,
                    -0.37744002279570765,
                    -0.23993772606947414,
                    2.0919158291853774,
                    -1.0304391314928651,
                    -0.2841804970536132,
                    -0.3549320232660482,
                    -1.2691841409916922,
                    0.67678236160576,
                    -1.9315697215598626,
                    0.40791198485921715,
                    -1.1028538171780555,
                    -0.17570110772777117,
                    -0.5350404814008264,
                    0.34096621900341123,
                    0.9002356134749594,
                    -0.37844181119577075,
                    -2.2306337642859733,
                    0.8872284331436984,
                    2.478454012967862,
                    -0.00024976286717258965,
                    -0.03427235912554996,
                    -0.06460918390384786,
                    0.7751248736965668,
                    2.443614114650363,
                    0.8668969525457376,
                    0.15821653385962858,
                    2.546531144170761,
                    -0.5132906420084836,
                    2.568357105919966,
                    0.38697198574622643,
                    -0.8519015894745998,
                    -2.0713213893201727,
                    3.031717786328896,
                    2.507605276547097,
                    -0.7835482558669412,
                    -0.951688679067159,
                    -1.8023277758846707,
                    0.330933056134037,
                    -0.4629921577700013,
                    -1.1873496453904802,
                    -1.840654532904696,
                    -2.2561407298958676,
                    2.2307255743364687,
                    -1.5251196532640883,
                    -2.160532413491976,
                    0.6839508882881657,
                    -2.280887782045751,
                    1.082651908633057,
                    -1.7990645228018824,
                    -1.0283521488066811,
                    -1.5620586998112072,
                    -4.010584407677126,
                    1.8420730613402767,
                    -2.5478923562537577,
                    0.017728002284625462,
                    -0.4446062462868012,
                    -1.0472681333485485,
                    -1.5693231489956876,
                    0.786946377656805,
                    -1.6934582339209192,
                    -2.1088681005979355,
                    -0.5508517070210427,
                    -1.6672536048958957,
                    -7.3134333596264085,
                    -2.504633007059924,
                    -0.10238407123157368,
                    -1.8122328616852137,
                    2.203800768595826,
                    0.1614463925981196,
                    0.8437088933677747,
                    1.3171258648159392,
                    3.4936067948690637,
                    1.4197301667015743,
                    -0.8919665227900997,
                    -1.7486686098145907,
                    -1.2818765211717866,
                    1.8874387963701744,
                    -0.2108932644431223,
                    -0.9259364330002164,
                    -2.1166827019100403,
                    1.2739564754401183,
                    2.3137368010976624,
                    -0.7032330819005497,
                    -2.370378969397249,
                    0.5202037940369151,
                    -1.3038766488108382,
                    -0.1737004000301156,
                    4.525279744374869,
                    -2.4689942892078136,
                    -1.4552881627402388,
                    1.0030084509046382,
                    -2.581753067689347,
                    -1.011963296479061,
                    -4.513450363259767,
                    -1.2324693952365746,
                    -0.5976837275786959,
                    -1.0940903789088066,
                    -1.56990567918294,
                    1.55018339868096,
                    -0.7867551329024821,
                    -1.0363446343125258,
                    -1.9678904212410968,
                    -0.7899065684739722,
                    3.3404849046093408,
                    1.5152918111523683,
                    -5.341799776390602,
                    7.804047272685118,
                    8.363515503548637,
                    1.6049094548521183,
                    4.123213207993135,
                    -1.6334573957114435,
                    2.800859976362809,
                    1.6820655305867822,
                    -2.1685332466490173,
                    1.8804978734916638,
                    -1.3747023453010463,
                    -2.0606162316974825,
                    0.7734831789659484,
                    -1.965421519413554,
                    -2.331977800008481,
                    1.1237503200520214,
                    1.0290808080535647,
                    4.9689383140672465,
                    -3.2899039018790406,
                    -0.8582057600731862,
                    0.6716954667389402,
                    1.2451599766305772,
                    2.6163923623140306,
                    0.10942075385442447,
                    -0.9113386992901189,
                    1.6312496286716938,
                    0.5840566423328555,
                    0.4202933216120412,
                    0.7908617509835603,
                    -1.5061615385773655,
                    -2.9013405117922852,
                    1.5106907406747423,
                    -2.3223291124461105,
                    0.2844321268035268,
                    3.581513181443978,
                    2.2943306776957075,
                    5.609339541414383,
                    2.4072067558346806,
                    1.1695920778167552,
                    -1.7973102440176916,
                    -1.693772849438471,
                    -0.20177015863342873,
                    -1.1316871620300206,
                    0.11754298684436629,
                    2.2897356245138316,
                    0.44643133556422515,
                    0.21298342517706637,
                    -0.8357597969127529,
                    1.2580948672539845,
                    -1.479161687907239,
                    1.7666213829564579,
                    -0.8369492082144573,
                    1.6107510452749787,
                    1.034200615861701,
                    0.06860240277997967,
                    -0.1488284916428131,
                    1.3163326202013454,
                    -0.13104694477728526,
                    -2.2010593862362064,
                    3.5096763573172476,
                    -0.40530472137216833,
                    -3.4549470883842868,
                    -3.556006130947152,
                    -1.958871474792926,
                    1.8490779184016688,
                    -0.7663484122423984
                  ]
                }
              ],
              "layout": {
                "annotations": [
                  {
                    "align": "left",
                    "bgcolor": "white",
                    "bordercolor": "black",
                    "borderpad": 4,
                    "borderwidth": 1,
                    "font": {
                      "size": 18
                    },
                    "opacity": 0.8,
                    "showarrow": false,
                    "text": "Explained Proportion: [0.45 0.18]",
                    "x": 0.05,
                    "xref": "paper",
                    "y": 0.9,
                    "yref": "paper"
                  }
                ],
                "template": {
                  "data": {
                    "bar": [
                      {
                        "error_x": {
                          "color": "#2a3f5f"
                        },
                        "error_y": {
                          "color": "#2a3f5f"
                        },
                        "marker": {
                          "line": {
                            "color": "#E5ECF6",
                            "width": 0.5
                          },
                          "pattern": {
                            "fillmode": "overlay",
                            "size": 10,
                            "solidity": 0.2
                          }
                        },
                        "type": "bar"
                      }
                    ],
                    "barpolar": [
                      {
                        "marker": {
                          "line": {
                            "color": "#E5ECF6",
                            "width": 0.5
                          },
                          "pattern": {
                            "fillmode": "overlay",
                            "size": 10,
                            "solidity": 0.2
                          }
                        },
                        "type": "barpolar"
                      }
                    ],
                    "carpet": [
                      {
                        "aaxis": {
                          "endlinecolor": "#2a3f5f",
                          "gridcolor": "white",
                          "linecolor": "white",
                          "minorgridcolor": "white",
                          "startlinecolor": "#2a3f5f"
                        },
                        "baxis": {
                          "endlinecolor": "#2a3f5f",
                          "gridcolor": "white",
                          "linecolor": "white",
                          "minorgridcolor": "white",
                          "startlinecolor": "#2a3f5f"
                        },
                        "type": "carpet"
                      }
                    ],
                    "choropleth": [
                      {
                        "colorbar": {
                          "outlinewidth": 0,
                          "ticks": ""
                        },
                        "type": "choropleth"
                      }
                    ],
                    "contour": [
                      {
                        "colorbar": {
                          "outlinewidth": 0,
                          "ticks": ""
                        },
                        "colorscale": [
                          [
                            0,
                            "#0d0887"
                          ],
                          [
                            0.1111111111111111,
                            "#46039f"
                          ],
                          [
                            0.2222222222222222,
                            "#7201a8"
                          ],
                          [
                            0.3333333333333333,
                            "#9c179e"
                          ],
                          [
                            0.4444444444444444,
                            "#bd3786"
                          ],
                          [
                            0.5555555555555556,
                            "#d8576b"
                          ],
                          [
                            0.6666666666666666,
                            "#ed7953"
                          ],
                          [
                            0.7777777777777778,
                            "#fb9f3a"
                          ],
                          [
                            0.8888888888888888,
                            "#fdca26"
                          ],
                          [
                            1,
                            "#f0f921"
                          ]
                        ],
                        "type": "contour"
                      }
                    ],
                    "contourcarpet": [
                      {
                        "colorbar": {
                          "outlinewidth": 0,
                          "ticks": ""
                        },
                        "type": "contourcarpet"
                      }
                    ],
                    "heatmap": [
                      {
                        "colorbar": {
                          "outlinewidth": 0,
                          "ticks": ""
                        },
                        "colorscale": [
                          [
                            0,
                            "#0d0887"
                          ],
                          [
                            0.1111111111111111,
                            "#46039f"
                          ],
                          [
                            0.2222222222222222,
                            "#7201a8"
                          ],
                          [
                            0.3333333333333333,
                            "#9c179e"
                          ],
                          [
                            0.4444444444444444,
                            "#bd3786"
                          ],
                          [
                            0.5555555555555556,
                            "#d8576b"
                          ],
                          [
                            0.6666666666666666,
                            "#ed7953"
                          ],
                          [
                            0.7777777777777778,
                            "#fb9f3a"
                          ],
                          [
                            0.8888888888888888,
                            "#fdca26"
                          ],
                          [
                            1,
                            "#f0f921"
                          ]
                        ],
                        "type": "heatmap"
                      }
                    ],
                    "heatmapgl": [
                      {
                        "colorbar": {
                          "outlinewidth": 0,
                          "ticks": ""
                        },
                        "colorscale": [
                          [
                            0,
                            "#0d0887"
                          ],
                          [
                            0.1111111111111111,
                            "#46039f"
                          ],
                          [
                            0.2222222222222222,
                            "#7201a8"
                          ],
                          [
                            0.3333333333333333,
                            "#9c179e"
                          ],
                          [
                            0.4444444444444444,
                            "#bd3786"
                          ],
                          [
                            0.5555555555555556,
                            "#d8576b"
                          ],
                          [
                            0.6666666666666666,
                            "#ed7953"
                          ],
                          [
                            0.7777777777777778,
                            "#fb9f3a"
                          ],
                          [
                            0.8888888888888888,
                            "#fdca26"
                          ],
                          [
                            1,
                            "#f0f921"
                          ]
                        ],
                        "type": "heatmapgl"
                      }
                    ],
                    "histogram": [
                      {
                        "marker": {
                          "pattern": {
                            "fillmode": "overlay",
                            "size": 10,
                            "solidity": 0.2
                          }
                        },
                        "type": "histogram"
                      }
                    ],
                    "histogram2d": [
                      {
                        "colorbar": {
                          "outlinewidth": 0,
                          "ticks": ""
                        },
                        "colorscale": [
                          [
                            0,
                            "#0d0887"
                          ],
                          [
                            0.1111111111111111,
                            "#46039f"
                          ],
                          [
                            0.2222222222222222,
                            "#7201a8"
                          ],
                          [
                            0.3333333333333333,
                            "#9c179e"
                          ],
                          [
                            0.4444444444444444,
                            "#bd3786"
                          ],
                          [
                            0.5555555555555556,
                            "#d8576b"
                          ],
                          [
                            0.6666666666666666,
                            "#ed7953"
                          ],
                          [
                            0.7777777777777778,
                            "#fb9f3a"
                          ],
                          [
                            0.8888888888888888,
                            "#fdca26"
                          ],
                          [
                            1,
                            "#f0f921"
                          ]
                        ],
                        "type": "histogram2d"
                      }
                    ],
                    "histogram2dcontour": [
                      {
                        "colorbar": {
                          "outlinewidth": 0,
                          "ticks": ""
                        },
                        "colorscale": [
                          [
                            0,
                            "#0d0887"
                          ],
                          [
                            0.1111111111111111,
                            "#46039f"
                          ],
                          [
                            0.2222222222222222,
                            "#7201a8"
                          ],
                          [
                            0.3333333333333333,
                            "#9c179e"
                          ],
                          [
                            0.4444444444444444,
                            "#bd3786"
                          ],
                          [
                            0.5555555555555556,
                            "#d8576b"
                          ],
                          [
                            0.6666666666666666,
                            "#ed7953"
                          ],
                          [
                            0.7777777777777778,
                            "#fb9f3a"
                          ],
                          [
                            0.8888888888888888,
                            "#fdca26"
                          ],
                          [
                            1,
                            "#f0f921"
                          ]
                        ],
                        "type": "histogram2dcontour"
                      }
                    ],
                    "mesh3d": [
                      {
                        "colorbar": {
                          "outlinewidth": 0,
                          "ticks": ""
                        },
                        "type": "mesh3d"
                      }
                    ],
                    "parcoords": [
                      {
                        "line": {
                          "colorbar": {
                            "outlinewidth": 0,
                            "ticks": ""
                          }
                        },
                        "type": "parcoords"
                      }
                    ],
                    "pie": [
                      {
                        "automargin": true,
                        "type": "pie"
                      }
                    ],
                    "scatter": [
                      {
                        "fillpattern": {
                          "fillmode": "overlay",
                          "size": 10,
                          "solidity": 0.2
                        },
                        "type": "scatter"
                      }
                    ],
                    "scatter3d": [
                      {
                        "line": {
                          "colorbar": {
                            "outlinewidth": 0,
                            "ticks": ""
                          }
                        },
                        "marker": {
                          "colorbar": {
                            "outlinewidth": 0,
                            "ticks": ""
                          }
                        },
                        "type": "scatter3d"
                      }
                    ],
                    "scattercarpet": [
                      {
                        "marker": {
                          "colorbar": {
                            "outlinewidth": 0,
                            "ticks": ""
                          }
                        },
                        "type": "scattercarpet"
                      }
                    ],
                    "scattergeo": [
                      {
                        "marker": {
                          "colorbar": {
                            "outlinewidth": 0,
                            "ticks": ""
                          }
                        },
                        "type": "scattergeo"
                      }
                    ],
                    "scattergl": [
                      {
                        "marker": {
                          "colorbar": {
                            "outlinewidth": 0,
                            "ticks": ""
                          }
                        },
                        "type": "scattergl"
                      }
                    ],
                    "scattermapbox": [
                      {
                        "marker": {
                          "colorbar": {
                            "outlinewidth": 0,
                            "ticks": ""
                          }
                        },
                        "type": "scattermapbox"
                      }
                    ],
                    "scatterpolar": [
                      {
                        "marker": {
                          "colorbar": {
                            "outlinewidth": 0,
                            "ticks": ""
                          }
                        },
                        "type": "scatterpolar"
                      }
                    ],
                    "scatterpolargl": [
                      {
                        "marker": {
                          "colorbar": {
                            "outlinewidth": 0,
                            "ticks": ""
                          }
                        },
                        "type": "scatterpolargl"
                      }
                    ],
                    "scatterternary": [
                      {
                        "marker": {
                          "colorbar": {
                            "outlinewidth": 0,
                            "ticks": ""
                          }
                        },
                        "type": "scatterternary"
                      }
                    ],
                    "surface": [
                      {
                        "colorbar": {
                          "outlinewidth": 0,
                          "ticks": ""
                        },
                        "colorscale": [
                          [
                            0,
                            "#0d0887"
                          ],
                          [
                            0.1111111111111111,
                            "#46039f"
                          ],
                          [
                            0.2222222222222222,
                            "#7201a8"
                          ],
                          [
                            0.3333333333333333,
                            "#9c179e"
                          ],
                          [
                            0.4444444444444444,
                            "#bd3786"
                          ],
                          [
                            0.5555555555555556,
                            "#d8576b"
                          ],
                          [
                            0.6666666666666666,
                            "#ed7953"
                          ],
                          [
                            0.7777777777777778,
                            "#fb9f3a"
                          ],
                          [
                            0.8888888888888888,
                            "#fdca26"
                          ],
                          [
                            1,
                            "#f0f921"
                          ]
                        ],
                        "type": "surface"
                      }
                    ],
                    "table": [
                      {
                        "cells": {
                          "fill": {
                            "color": "#EBF0F8"
                          },
                          "line": {
                            "color": "white"
                          }
                        },
                        "header": {
                          "fill": {
                            "color": "#C8D4E3"
                          },
                          "line": {
                            "color": "white"
                          }
                        },
                        "type": "table"
                      }
                    ]
                  },
                  "layout": {
                    "annotationdefaults": {
                      "arrowcolor": "#2a3f5f",
                      "arrowhead": 0,
                      "arrowwidth": 1
                    },
                    "autotypenumbers": "strict",
                    "coloraxis": {
                      "colorbar": {
                        "outlinewidth": 0,
                        "ticks": ""
                      }
                    },
                    "colorscale": {
                      "diverging": [
                        [
                          0,
                          "#8e0152"
                        ],
                        [
                          0.1,
                          "#c51b7d"
                        ],
                        [
                          0.2,
                          "#de77ae"
                        ],
                        [
                          0.3,
                          "#f1b6da"
                        ],
                        [
                          0.4,
                          "#fde0ef"
                        ],
                        [
                          0.5,
                          "#f7f7f7"
                        ],
                        [
                          0.6,
                          "#e6f5d0"
                        ],
                        [
                          0.7,
                          "#b8e186"
                        ],
                        [
                          0.8,
                          "#7fbc41"
                        ],
                        [
                          0.9,
                          "#4d9221"
                        ],
                        [
                          1,
                          "#276419"
                        ]
                      ],
                      "sequential": [
                        [
                          0,
                          "#0d0887"
                        ],
                        [
                          0.1111111111111111,
                          "#46039f"
                        ],
                        [
                          0.2222222222222222,
                          "#7201a8"
                        ],
                        [
                          0.3333333333333333,
                          "#9c179e"
                        ],
                        [
                          0.4444444444444444,
                          "#bd3786"
                        ],
                        [
                          0.5555555555555556,
                          "#d8576b"
                        ],
                        [
                          0.6666666666666666,
                          "#ed7953"
                        ],
                        [
                          0.7777777777777778,
                          "#fb9f3a"
                        ],
                        [
                          0.8888888888888888,
                          "#fdca26"
                        ],
                        [
                          1,
                          "#f0f921"
                        ]
                      ],
                      "sequentialminus": [
                        [
                          0,
                          "#0d0887"
                        ],
                        [
                          0.1111111111111111,
                          "#46039f"
                        ],
                        [
                          0.2222222222222222,
                          "#7201a8"
                        ],
                        [
                          0.3333333333333333,
                          "#9c179e"
                        ],
                        [
                          0.4444444444444444,
                          "#bd3786"
                        ],
                        [
                          0.5555555555555556,
                          "#d8576b"
                        ],
                        [
                          0.6666666666666666,
                          "#ed7953"
                        ],
                        [
                          0.7777777777777778,
                          "#fb9f3a"
                        ],
                        [
                          0.8888888888888888,
                          "#fdca26"
                        ],
                        [
                          1,
                          "#f0f921"
                        ]
                      ]
                    },
                    "colorway": [
                      "#636efa",
                      "#EF553B",
                      "#00cc96",
                      "#ab63fa",
                      "#FFA15A",
                      "#19d3f3",
                      "#FF6692",
                      "#B6E880",
                      "#FF97FF",
                      "#FECB52"
                    ],
                    "font": {
                      "color": "#2a3f5f"
                    },
                    "geo": {
                      "bgcolor": "white",
                      "lakecolor": "white",
                      "landcolor": "#E5ECF6",
                      "showlakes": true,
                      "showland": true,
                      "subunitcolor": "white"
                    },
                    "hoverlabel": {
                      "align": "left"
                    },
                    "hovermode": "closest",
                    "mapbox": {
                      "style": "light"
                    },
                    "paper_bgcolor": "white",
                    "plot_bgcolor": "#E5ECF6",
                    "polar": {
                      "angularaxis": {
                        "gridcolor": "white",
                        "linecolor": "white",
                        "ticks": ""
                      },
                      "bgcolor": "#E5ECF6",
                      "radialaxis": {
                        "gridcolor": "white",
                        "linecolor": "white",
                        "ticks": ""
                      }
                    },
                    "scene": {
                      "xaxis": {
                        "backgroundcolor": "#E5ECF6",
                        "gridcolor": "white",
                        "gridwidth": 2,
                        "linecolor": "white",
                        "showbackground": true,
                        "ticks": "",
                        "zerolinecolor": "white"
                      },
                      "yaxis": {
                        "backgroundcolor": "#E5ECF6",
                        "gridcolor": "white",
                        "gridwidth": 2,
                        "linecolor": "white",
                        "showbackground": true,
                        "ticks": "",
                        "zerolinecolor": "white"
                      },
                      "zaxis": {
                        "backgroundcolor": "#E5ECF6",
                        "gridcolor": "white",
                        "gridwidth": 2,
                        "linecolor": "white",
                        "showbackground": true,
                        "ticks": "",
                        "zerolinecolor": "white"
                      }
                    },
                    "shapedefaults": {
                      "line": {
                        "color": "#2a3f5f"
                      }
                    },
                    "ternary": {
                      "aaxis": {
                        "gridcolor": "white",
                        "linecolor": "white",
                        "ticks": ""
                      },
                      "baxis": {
                        "gridcolor": "white",
                        "linecolor": "white",
                        "ticks": ""
                      },
                      "bgcolor": "#E5ECF6",
                      "caxis": {
                        "gridcolor": "white",
                        "linecolor": "white",
                        "ticks": ""
                      }
                    },
                    "title": {
                      "x": 0.05
                    },
                    "xaxis": {
                      "automargin": true,
                      "gridcolor": "white",
                      "linecolor": "white",
                      "ticks": "",
                      "title": {
                        "standoff": 15
                      },
                      "zerolinecolor": "white",
                      "zerolinewidth": 2
                    },
                    "yaxis": {
                      "automargin": true,
                      "gridcolor": "white",
                      "linecolor": "white",
                      "ticks": "",
                      "title": {
                        "standoff": 15
                      },
                      "zerolinecolor": "white",
                      "zerolinewidth": 2
                    }
                  }
                },
                "title": {
                  "text": "Principal Component Analysis"
                },
                "xaxis": {
                  "title": {
                    "text": "Main Component 1"
                  }
                },
                "yaxis": {
                  "title": {
                    "text": "Main Component 2"
                  }
                }
              }
            }
          },
          "metadata": {},
          "output_type": "display_data"
        }
      ],
      "source": [
        "# View PCA scatterplot\n",
        "# Plot the arrow chart\n",
        "fig = go.Figure()\n",
        "\n",
        "# Add additional information\n",
        "proportion_explained = pca.explained_variance_ratio_\n",
        "proportion_explained = np.round(proportion_explained, 2)\n",
        "\n",
        "fig.add_trace(go.Scatter(\n",
        "     x=df_pca['Main Component 1'],\n",
        "     y=df_pca['Main Component 2'],\n",
        "     mode='markers',\n",
        "     marker=dict(\n",
        "         color=df_pca['diagnosis'],\n",
        "         colorscale=[[0, 'blue'], [1, 'red']],\n",
        "         showscale=False\n",
        "     ),\n",
        "     text=df_pca['id'],\n",
        "     hovertemplate='Index: %{text}<br>' +\n",
        "                   'Diagnosis: %{marker.color}'\n",
        "))\n",
        "\n",
        "fig.update_layout(\n",
        "     title='Principal Component Analysis',\n",
        "     xaxis=dict(title='Main Component 1'),\n",
        "     yaxis=dict(title='Main Component 2')\n",
        ")\n",
        "\n",
        "fig.add_annotation(\n",
        "     text=f\"Explained Proportion: {proportion_explained}\",\n",
        "     align='left',\n",
        "     showarrow=False,\n",
        "     xref='paper',\n",
        "     yref='paper',\n",
        "     x=0.05,\n",
        "     y=0.9,\n",
        "     bordercolor='black',\n",
        "     borderwidth=1,\n",
        "     borderpad=4,\n",
        "     bgcolor='white',\n",
        "     opacity=0.8,\n",
        "     font=dict(size=18)\n",
        ")\n",
        "\n",
        "fig.show()"
      ]
    },
    {
      "cell_type": "markdown",
      "metadata": {
        "id": "g6WeMXm3aPR7"
      },
      "source": [
        "## Neural Network to find out if it is Malignant or Benign"
      ]
    },
    {
      "cell_type": "code",
      "execution_count": 9,
      "metadata": {
        "colab": {
          "base_uri": "https://localhost:8080/"
        },
        "id": "oWfQ9Bm5aOsj",
        "outputId": "e677dd17-46fb-4f43-a185-613fd695d7f9"
      },
      "outputs": [
        {
          "name": "stdout",
          "output_type": "stream",
          "text": [
            "Epoch 1/50\n",
            "14/14 [==============================] - 1s 9ms/step - loss: 69.9969 - accuracy: 0.3709 - val_loss: 49.3218 - val_accuracy: 0.3882\n",
            "Epoch 2/50\n",
            "14/14 [==============================] - 0s 2ms/step - loss: 40.0803 - accuracy: 0.3709 - val_loss: 25.6292 - val_accuracy: 0.3882\n",
            "Epoch 3/50\n",
            "14/14 [==============================] - 0s 2ms/step - loss: 17.3855 - accuracy: 0.3709 - val_loss: 6.1298 - val_accuracy: 0.3882\n",
            "Epoch 4/50\n",
            "14/14 [==============================] - 0s 2ms/step - loss: 3.6592 - accuracy: 0.4390 - val_loss: 1.4875 - val_accuracy: 0.6000\n",
            "Epoch 5/50\n",
            "14/14 [==============================] - 0s 2ms/step - loss: 1.0745 - accuracy: 0.5211 - val_loss: 0.3360 - val_accuracy: 0.8588\n",
            "Epoch 6/50\n",
            "14/14 [==============================] - 0s 2ms/step - loss: 0.4682 - accuracy: 0.8592 - val_loss: 0.2473 - val_accuracy: 0.9294\n",
            "Epoch 7/50\n",
            "14/14 [==============================] - 0s 2ms/step - loss: 0.3545 - accuracy: 0.8826 - val_loss: 0.1858 - val_accuracy: 0.9412\n",
            "Epoch 8/50\n",
            "14/14 [==============================] - 0s 2ms/step - loss: 0.3079 - accuracy: 0.9038 - val_loss: 0.1558 - val_accuracy: 0.9412\n",
            "Epoch 9/50\n",
            "14/14 [==============================] - 0s 2ms/step - loss: 0.2874 - accuracy: 0.9061 - val_loss: 0.1495 - val_accuracy: 0.9529\n",
            "Epoch 10/50\n",
            "14/14 [==============================] - 0s 2ms/step - loss: 0.2829 - accuracy: 0.9085 - val_loss: 0.1580 - val_accuracy: 0.9412\n",
            "Epoch 11/50\n",
            "14/14 [==============================] - 0s 2ms/step - loss: 0.2815 - accuracy: 0.9061 - val_loss: 0.1487 - val_accuracy: 0.9412\n",
            "Epoch 12/50\n",
            "14/14 [==============================] - 0s 2ms/step - loss: 0.2712 - accuracy: 0.9061 - val_loss: 0.1430 - val_accuracy: 0.9412\n",
            "Epoch 13/50\n",
            "14/14 [==============================] - 0s 2ms/step - loss: 0.2897 - accuracy: 0.9038 - val_loss: 0.1410 - val_accuracy: 0.9412\n",
            "Epoch 14/50\n",
            "14/14 [==============================] - 0s 2ms/step - loss: 0.2830 - accuracy: 0.8991 - val_loss: 0.1519 - val_accuracy: 0.9412\n",
            "Epoch 15/50\n",
            "14/14 [==============================] - 0s 2ms/step - loss: 0.3125 - accuracy: 0.8920 - val_loss: 0.2289 - val_accuracy: 0.8941\n",
            "Epoch 16/50\n",
            "14/14 [==============================] - 0s 2ms/step - loss: 0.2687 - accuracy: 0.9131 - val_loss: 0.1669 - val_accuracy: 0.9412\n",
            "Epoch 17/50\n",
            "14/14 [==============================] - 0s 2ms/step - loss: 0.2654 - accuracy: 0.9178 - val_loss: 0.1707 - val_accuracy: 0.9412\n",
            "Epoch 18/50\n",
            "14/14 [==============================] - 0s 2ms/step - loss: 0.2691 - accuracy: 0.9131 - val_loss: 0.1372 - val_accuracy: 0.9529\n",
            "Epoch 19/50\n",
            "14/14 [==============================] - 0s 2ms/step - loss: 0.2712 - accuracy: 0.9178 - val_loss: 0.1602 - val_accuracy: 0.9529\n",
            "Epoch 20/50\n",
            "14/14 [==============================] - 0s 2ms/step - loss: 0.2593 - accuracy: 0.9155 - val_loss: 0.1299 - val_accuracy: 0.9529\n",
            "Epoch 21/50\n",
            "14/14 [==============================] - 0s 2ms/step - loss: 0.2601 - accuracy: 0.9131 - val_loss: 0.1316 - val_accuracy: 0.9412\n",
            "Epoch 22/50\n",
            "14/14 [==============================] - 0s 2ms/step - loss: 0.2615 - accuracy: 0.9178 - val_loss: 0.1321 - val_accuracy: 0.9412\n",
            "Epoch 23/50\n",
            "14/14 [==============================] - 0s 2ms/step - loss: 0.2659 - accuracy: 0.9038 - val_loss: 0.1482 - val_accuracy: 0.9529\n",
            "Epoch 24/50\n",
            "14/14 [==============================] - 0s 2ms/step - loss: 0.2802 - accuracy: 0.9178 - val_loss: 0.1299 - val_accuracy: 0.9529\n",
            "Epoch 25/50\n",
            "14/14 [==============================] - 0s 2ms/step - loss: 0.2674 - accuracy: 0.9178 - val_loss: 0.1406 - val_accuracy: 0.9412\n",
            "Epoch 26/50\n",
            "14/14 [==============================] - 0s 2ms/step - loss: 0.2682 - accuracy: 0.9155 - val_loss: 0.1293 - val_accuracy: 0.9529\n",
            "Epoch 27/50\n",
            "14/14 [==============================] - 0s 2ms/step - loss: 0.2549 - accuracy: 0.9178 - val_loss: 0.1491 - val_accuracy: 0.9529\n",
            "Epoch 28/50\n",
            "14/14 [==============================] - 0s 2ms/step - loss: 0.2769 - accuracy: 0.9061 - val_loss: 0.1353 - val_accuracy: 0.9647\n",
            "Epoch 29/50\n",
            "14/14 [==============================] - 0s 2ms/step - loss: 0.2607 - accuracy: 0.9061 - val_loss: 0.1500 - val_accuracy: 0.9412\n",
            "Epoch 30/50\n",
            "14/14 [==============================] - 0s 2ms/step - loss: 0.2590 - accuracy: 0.9155 - val_loss: 0.1417 - val_accuracy: 0.9647\n",
            "Epoch 31/50\n",
            "14/14 [==============================] - 0s 2ms/step - loss: 0.2550 - accuracy: 0.9249 - val_loss: 0.1285 - val_accuracy: 0.9529\n",
            "Epoch 32/50\n",
            "14/14 [==============================] - 0s 2ms/step - loss: 0.2669 - accuracy: 0.9038 - val_loss: 0.1287 - val_accuracy: 0.9647\n",
            "Epoch 33/50\n",
            "14/14 [==============================] - 0s 2ms/step - loss: 0.2599 - accuracy: 0.9155 - val_loss: 0.1499 - val_accuracy: 0.9412\n",
            "Epoch 34/50\n",
            "14/14 [==============================] - 0s 2ms/step - loss: 0.2504 - accuracy: 0.9249 - val_loss: 0.1344 - val_accuracy: 0.9647\n",
            "Epoch 35/50\n",
            "14/14 [==============================] - 0s 2ms/step - loss: 0.2712 - accuracy: 0.9131 - val_loss: 0.1594 - val_accuracy: 0.9529\n",
            "Epoch 36/50\n",
            "14/14 [==============================] - 0s 2ms/step - loss: 0.2514 - accuracy: 0.9202 - val_loss: 0.1275 - val_accuracy: 0.9412\n",
            "Epoch 37/50\n",
            "14/14 [==============================] - 0s 2ms/step - loss: 0.3063 - accuracy: 0.8991 - val_loss: 0.1896 - val_accuracy: 0.9176\n",
            "Epoch 38/50\n",
            "14/14 [==============================] - 0s 2ms/step - loss: 0.2944 - accuracy: 0.9061 - val_loss: 0.1269 - val_accuracy: 0.9529\n",
            "Epoch 39/50\n",
            "14/14 [==============================] - 0s 2ms/step - loss: 0.2446 - accuracy: 0.9202 - val_loss: 0.1364 - val_accuracy: 0.9529\n",
            "Epoch 40/50\n",
            "14/14 [==============================] - 0s 2ms/step - loss: 0.2411 - accuracy: 0.9131 - val_loss: 0.1240 - val_accuracy: 0.9529\n",
            "Epoch 41/50\n",
            "14/14 [==============================] - 0s 2ms/step - loss: 0.2418 - accuracy: 0.9155 - val_loss: 0.1148 - val_accuracy: 0.9529\n",
            "Epoch 42/50\n",
            "14/14 [==============================] - 0s 2ms/step - loss: 0.2476 - accuracy: 0.9225 - val_loss: 0.1385 - val_accuracy: 0.9529\n",
            "Epoch 43/50\n",
            "14/14 [==============================] - 0s 2ms/step - loss: 0.2555 - accuracy: 0.9038 - val_loss: 0.1252 - val_accuracy: 0.9647\n",
            "Epoch 44/50\n",
            "14/14 [==============================] - 0s 2ms/step - loss: 0.2569 - accuracy: 0.9108 - val_loss: 0.1558 - val_accuracy: 0.9529\n",
            "Epoch 45/50\n",
            "14/14 [==============================] - 0s 2ms/step - loss: 0.2720 - accuracy: 0.9225 - val_loss: 0.1191 - val_accuracy: 0.9529\n",
            "Epoch 46/50\n",
            "14/14 [==============================] - 0s 2ms/step - loss: 0.2343 - accuracy: 0.9296 - val_loss: 0.1170 - val_accuracy: 0.9647\n",
            "Epoch 47/50\n",
            "14/14 [==============================] - 0s 2ms/step - loss: 0.2204 - accuracy: 0.9249 - val_loss: 0.2444 - val_accuracy: 0.9176\n",
            "Epoch 48/50\n",
            "14/14 [==============================] - 0s 2ms/step - loss: 0.3246 - accuracy: 0.8920 - val_loss: 0.1078 - val_accuracy: 0.9529\n",
            "Epoch 49/50\n",
            "14/14 [==============================] - 0s 2ms/step - loss: 0.2433 - accuracy: 0.9225 - val_loss: 0.1130 - val_accuracy: 0.9529\n",
            "Epoch 50/50\n",
            "14/14 [==============================] - 0s 2ms/step - loss: 0.2385 - accuracy: 0.9155 - val_loss: 0.1090 - val_accuracy: 0.9765\n",
            "3/3 [==============================] - 0s 2ms/step - loss: 0.1090 - accuracy: 0.9765\n",
            "Model accuracy: 97.65%\n"
          ]
        }
      ],
      "source": [
        "# Split data into training and testing sets\n",
        "X = data_cancer[quantitative_columns[1:]].values\n",
        "y = data_cancer['diagnosis'].values\n",
        "\n",
        "# Data separation\n",
        "X_train, X_test, y_train, y_test = train_test_split(X, y, test_size=0.25, random_state=42) # Training and Testing\n",
        "X_test, X_valid, y_test, y_valid = train_test_split(X_test, y_test, test_size=0.40, random_state=42)\n",
        "\n",
        "# Create the neural network\n",
        "model = Sequential()\n",
        "model.add(Dense(16, input_dim=X_train.shape[1], activation='relu'))\n",
        "model.add(Dense(8, activation='relu'))\n",
        "model.add(Dense(1, activation='sigmoid'))\n",
        "\n",
        "# Compile the model\n",
        "model.compile(loss='binary_crossentropy', optimizer='adam', metrics=['accuracy'])\n",
        "\n",
        "# Train the model\n",
        "model.fit(X_train, y_train, epochs=50, batch_size=32, validation_data=(X_test, y_test))\n",
        "\n",
        "# Evaluate model performance\n",
        "loss, accuracy = model.evaluate(X_test, y_test)\n",
        "print(f\"Model accuracy: {accuracy*100:.2f}%\")"
      ]
    },
    {
      "cell_type": "code",
      "execution_count": 10,
      "metadata": {
        "colab": {
          "base_uri": "https://localhost:8080/",
          "height": 1000
        },
        "id": "v8CTDXzncB1h",
        "outputId": "d12ad503-9e5d-4a31-a064-10b6a0607604"
      },
      "outputs": [
        {
          "data": {
            "text/html": [
              "<div>\n",
              "<style scoped>\n",
              "    .dataframe tbody tr th:only-of-type {\n",
              "        vertical-align: middle;\n",
              "    }\n",
              "\n",
              "    .dataframe tbody tr th {\n",
              "        vertical-align: top;\n",
              "    }\n",
              "\n",
              "    .dataframe thead th {\n",
              "        text-align: right;\n",
              "    }\n",
              "</style>\n",
              "<table border=\"1\" class=\"dataframe\">\n",
              "  <thead>\n",
              "    <tr style=\"text-align: right;\">\n",
              "      <th></th>\n",
              "      <th>Class</th>\n",
              "      <th>Probability</th>\n",
              "      <th>Classification</th>\n",
              "      <th>Correctly</th>\n",
              "      <th>Type</th>\n",
              "    </tr>\n",
              "  </thead>\n",
              "  <tbody>\n",
              "    <tr>\n",
              "      <th>0</th>\n",
              "      <td>0.0</td>\n",
              "      <td>0.086811</td>\n",
              "      <td>0.0</td>\n",
              "      <td>1</td>\n",
              "      <td>True negative</td>\n",
              "    </tr>\n",
              "    <tr>\n",
              "      <th>1</th>\n",
              "      <td>1.0</td>\n",
              "      <td>1.000000</td>\n",
              "      <td>1.0</td>\n",
              "      <td>1</td>\n",
              "      <td>True positive</td>\n",
              "    </tr>\n",
              "    <tr>\n",
              "      <th>2</th>\n",
              "      <td>1.0</td>\n",
              "      <td>0.081018</td>\n",
              "      <td>0.0</td>\n",
              "      <td>0</td>\n",
              "      <td>False negative</td>\n",
              "    </tr>\n",
              "    <tr>\n",
              "      <th>3</th>\n",
              "      <td>1.0</td>\n",
              "      <td>0.999999</td>\n",
              "      <td>1.0</td>\n",
              "      <td>1</td>\n",
              "      <td>True positive</td>\n",
              "    </tr>\n",
              "    <tr>\n",
              "      <th>4</th>\n",
              "      <td>0.0</td>\n",
              "      <td>0.028660</td>\n",
              "      <td>0.0</td>\n",
              "      <td>1</td>\n",
              "      <td>True negative</td>\n",
              "    </tr>\n",
              "    <tr>\n",
              "      <th>5</th>\n",
              "      <td>0.0</td>\n",
              "      <td>0.033887</td>\n",
              "      <td>0.0</td>\n",
              "      <td>1</td>\n",
              "      <td>True negative</td>\n",
              "    </tr>\n",
              "    <tr>\n",
              "      <th>6</th>\n",
              "      <td>1.0</td>\n",
              "      <td>0.084450</td>\n",
              "      <td>0.0</td>\n",
              "      <td>0</td>\n",
              "      <td>False negative</td>\n",
              "    </tr>\n",
              "    <tr>\n",
              "      <th>7</th>\n",
              "      <td>0.0</td>\n",
              "      <td>0.041585</td>\n",
              "      <td>0.0</td>\n",
              "      <td>1</td>\n",
              "      <td>True negative</td>\n",
              "    </tr>\n",
              "    <tr>\n",
              "      <th>8</th>\n",
              "      <td>1.0</td>\n",
              "      <td>0.999968</td>\n",
              "      <td>1.0</td>\n",
              "      <td>1</td>\n",
              "      <td>True positive</td>\n",
              "    </tr>\n",
              "    <tr>\n",
              "      <th>9</th>\n",
              "      <td>0.0</td>\n",
              "      <td>0.138523</td>\n",
              "      <td>0.0</td>\n",
              "      <td>1</td>\n",
              "      <td>True negative</td>\n",
              "    </tr>\n",
              "    <tr>\n",
              "      <th>10</th>\n",
              "      <td>1.0</td>\n",
              "      <td>1.000000</td>\n",
              "      <td>1.0</td>\n",
              "      <td>1</td>\n",
              "      <td>True positive</td>\n",
              "    </tr>\n",
              "    <tr>\n",
              "      <th>11</th>\n",
              "      <td>0.0</td>\n",
              "      <td>0.028372</td>\n",
              "      <td>0.0</td>\n",
              "      <td>1</td>\n",
              "      <td>True negative</td>\n",
              "    </tr>\n",
              "    <tr>\n",
              "      <th>12</th>\n",
              "      <td>0.0</td>\n",
              "      <td>0.048353</td>\n",
              "      <td>0.0</td>\n",
              "      <td>1</td>\n",
              "      <td>True negative</td>\n",
              "    </tr>\n",
              "    <tr>\n",
              "      <th>13</th>\n",
              "      <td>0.0</td>\n",
              "      <td>0.135267</td>\n",
              "      <td>0.0</td>\n",
              "      <td>1</td>\n",
              "      <td>True negative</td>\n",
              "    </tr>\n",
              "    <tr>\n",
              "      <th>14</th>\n",
              "      <td>1.0</td>\n",
              "      <td>0.999976</td>\n",
              "      <td>1.0</td>\n",
              "      <td>1</td>\n",
              "      <td>True positive</td>\n",
              "    </tr>\n",
              "    <tr>\n",
              "      <th>15</th>\n",
              "      <td>0.0</td>\n",
              "      <td>0.017818</td>\n",
              "      <td>0.0</td>\n",
              "      <td>1</td>\n",
              "      <td>True negative</td>\n",
              "    </tr>\n",
              "    <tr>\n",
              "      <th>16</th>\n",
              "      <td>0.0</td>\n",
              "      <td>0.074299</td>\n",
              "      <td>0.0</td>\n",
              "      <td>1</td>\n",
              "      <td>True negative</td>\n",
              "    </tr>\n",
              "    <tr>\n",
              "      <th>17</th>\n",
              "      <td>0.0</td>\n",
              "      <td>0.017251</td>\n",
              "      <td>0.0</td>\n",
              "      <td>1</td>\n",
              "      <td>True negative</td>\n",
              "    </tr>\n",
              "    <tr>\n",
              "      <th>18</th>\n",
              "      <td>1.0</td>\n",
              "      <td>1.000000</td>\n",
              "      <td>1.0</td>\n",
              "      <td>1</td>\n",
              "      <td>True positive</td>\n",
              "    </tr>\n",
              "    <tr>\n",
              "      <th>19</th>\n",
              "      <td>1.0</td>\n",
              "      <td>0.024354</td>\n",
              "      <td>0.0</td>\n",
              "      <td>0</td>\n",
              "      <td>False negative</td>\n",
              "    </tr>\n",
              "    <tr>\n",
              "      <th>20</th>\n",
              "      <td>1.0</td>\n",
              "      <td>0.999889</td>\n",
              "      <td>1.0</td>\n",
              "      <td>1</td>\n",
              "      <td>True positive</td>\n",
              "    </tr>\n",
              "    <tr>\n",
              "      <th>21</th>\n",
              "      <td>1.0</td>\n",
              "      <td>0.922139</td>\n",
              "      <td>1.0</td>\n",
              "      <td>1</td>\n",
              "      <td>True positive</td>\n",
              "    </tr>\n",
              "    <tr>\n",
              "      <th>22</th>\n",
              "      <td>1.0</td>\n",
              "      <td>0.999831</td>\n",
              "      <td>1.0</td>\n",
              "      <td>1</td>\n",
              "      <td>True positive</td>\n",
              "    </tr>\n",
              "    <tr>\n",
              "      <th>23</th>\n",
              "      <td>1.0</td>\n",
              "      <td>1.000000</td>\n",
              "      <td>1.0</td>\n",
              "      <td>1</td>\n",
              "      <td>True positive</td>\n",
              "    </tr>\n",
              "    <tr>\n",
              "      <th>24</th>\n",
              "      <td>0.0</td>\n",
              "      <td>0.063045</td>\n",
              "      <td>0.0</td>\n",
              "      <td>1</td>\n",
              "      <td>True negative</td>\n",
              "    </tr>\n",
              "    <tr>\n",
              "      <th>25</th>\n",
              "      <td>0.0</td>\n",
              "      <td>0.080541</td>\n",
              "      <td>0.0</td>\n",
              "      <td>1</td>\n",
              "      <td>True negative</td>\n",
              "    </tr>\n",
              "    <tr>\n",
              "      <th>26</th>\n",
              "      <td>0.0</td>\n",
              "      <td>0.007407</td>\n",
              "      <td>0.0</td>\n",
              "      <td>1</td>\n",
              "      <td>True negative</td>\n",
              "    </tr>\n",
              "    <tr>\n",
              "      <th>27</th>\n",
              "      <td>0.0</td>\n",
              "      <td>0.040122</td>\n",
              "      <td>0.0</td>\n",
              "      <td>1</td>\n",
              "      <td>True negative</td>\n",
              "    </tr>\n",
              "    <tr>\n",
              "      <th>28</th>\n",
              "      <td>0.0</td>\n",
              "      <td>0.015517</td>\n",
              "      <td>0.0</td>\n",
              "      <td>1</td>\n",
              "      <td>True negative</td>\n",
              "    </tr>\n",
              "    <tr>\n",
              "      <th>29</th>\n",
              "      <td>0.0</td>\n",
              "      <td>0.024710</td>\n",
              "      <td>0.0</td>\n",
              "      <td>1</td>\n",
              "      <td>True negative</td>\n",
              "    </tr>\n",
              "    <tr>\n",
              "      <th>30</th>\n",
              "      <td>0.0</td>\n",
              "      <td>0.014932</td>\n",
              "      <td>0.0</td>\n",
              "      <td>1</td>\n",
              "      <td>True negative</td>\n",
              "    </tr>\n",
              "    <tr>\n",
              "      <th>31</th>\n",
              "      <td>0.0</td>\n",
              "      <td>0.033671</td>\n",
              "      <td>0.0</td>\n",
              "      <td>1</td>\n",
              "      <td>True negative</td>\n",
              "    </tr>\n",
              "    <tr>\n",
              "      <th>32</th>\n",
              "      <td>1.0</td>\n",
              "      <td>0.996967</td>\n",
              "      <td>1.0</td>\n",
              "      <td>1</td>\n",
              "      <td>True positive</td>\n",
              "    </tr>\n",
              "    <tr>\n",
              "      <th>33</th>\n",
              "      <td>0.0</td>\n",
              "      <td>0.090910</td>\n",
              "      <td>0.0</td>\n",
              "      <td>1</td>\n",
              "      <td>True negative</td>\n",
              "    </tr>\n",
              "    <tr>\n",
              "      <th>34</th>\n",
              "      <td>0.0</td>\n",
              "      <td>0.013462</td>\n",
              "      <td>0.0</td>\n",
              "      <td>1</td>\n",
              "      <td>True negative</td>\n",
              "    </tr>\n",
              "    <tr>\n",
              "      <th>35</th>\n",
              "      <td>0.0</td>\n",
              "      <td>0.050670</td>\n",
              "      <td>0.0</td>\n",
              "      <td>1</td>\n",
              "      <td>True negative</td>\n",
              "    </tr>\n",
              "    <tr>\n",
              "      <th>36</th>\n",
              "      <td>0.0</td>\n",
              "      <td>0.016212</td>\n",
              "      <td>0.0</td>\n",
              "      <td>1</td>\n",
              "      <td>True negative</td>\n",
              "    </tr>\n",
              "    <tr>\n",
              "      <th>37</th>\n",
              "      <td>0.0</td>\n",
              "      <td>0.025328</td>\n",
              "      <td>0.0</td>\n",
              "      <td>1</td>\n",
              "      <td>True negative</td>\n",
              "    </tr>\n",
              "    <tr>\n",
              "      <th>38</th>\n",
              "      <td>0.0</td>\n",
              "      <td>0.037993</td>\n",
              "      <td>0.0</td>\n",
              "      <td>1</td>\n",
              "      <td>True negative</td>\n",
              "    </tr>\n",
              "    <tr>\n",
              "      <th>39</th>\n",
              "      <td>0.0</td>\n",
              "      <td>0.119815</td>\n",
              "      <td>0.0</td>\n",
              "      <td>1</td>\n",
              "      <td>True negative</td>\n",
              "    </tr>\n",
              "    <tr>\n",
              "      <th>40</th>\n",
              "      <td>1.0</td>\n",
              "      <td>1.000000</td>\n",
              "      <td>1.0</td>\n",
              "      <td>1</td>\n",
              "      <td>True positive</td>\n",
              "    </tr>\n",
              "    <tr>\n",
              "      <th>41</th>\n",
              "      <td>0.0</td>\n",
              "      <td>0.021225</td>\n",
              "      <td>0.0</td>\n",
              "      <td>1</td>\n",
              "      <td>True negative</td>\n",
              "    </tr>\n",
              "    <tr>\n",
              "      <th>42</th>\n",
              "      <td>0.0</td>\n",
              "      <td>0.592863</td>\n",
              "      <td>1.0</td>\n",
              "      <td>0</td>\n",
              "      <td>False positive</td>\n",
              "    </tr>\n",
              "    <tr>\n",
              "      <th>43</th>\n",
              "      <td>1.0</td>\n",
              "      <td>0.998157</td>\n",
              "      <td>1.0</td>\n",
              "      <td>1</td>\n",
              "      <td>True positive</td>\n",
              "    </tr>\n",
              "    <tr>\n",
              "      <th>44</th>\n",
              "      <td>0.0</td>\n",
              "      <td>0.017978</td>\n",
              "      <td>0.0</td>\n",
              "      <td>1</td>\n",
              "      <td>True negative</td>\n",
              "    </tr>\n",
              "    <tr>\n",
              "      <th>45</th>\n",
              "      <td>0.0</td>\n",
              "      <td>0.027108</td>\n",
              "      <td>0.0</td>\n",
              "      <td>1</td>\n",
              "      <td>True negative</td>\n",
              "    </tr>\n",
              "    <tr>\n",
              "      <th>46</th>\n",
              "      <td>1.0</td>\n",
              "      <td>0.893836</td>\n",
              "      <td>1.0</td>\n",
              "      <td>1</td>\n",
              "      <td>True positive</td>\n",
              "    </tr>\n",
              "    <tr>\n",
              "      <th>47</th>\n",
              "      <td>0.0</td>\n",
              "      <td>0.034498</td>\n",
              "      <td>0.0</td>\n",
              "      <td>1</td>\n",
              "      <td>True negative</td>\n",
              "    </tr>\n",
              "    <tr>\n",
              "      <th>48</th>\n",
              "      <td>0.0</td>\n",
              "      <td>0.062871</td>\n",
              "      <td>0.0</td>\n",
              "      <td>1</td>\n",
              "      <td>True negative</td>\n",
              "    </tr>\n",
              "    <tr>\n",
              "      <th>49</th>\n",
              "      <td>0.0</td>\n",
              "      <td>0.023361</td>\n",
              "      <td>0.0</td>\n",
              "      <td>1</td>\n",
              "      <td>True negative</td>\n",
              "    </tr>\n",
              "    <tr>\n",
              "      <th>50</th>\n",
              "      <td>1.0</td>\n",
              "      <td>1.000000</td>\n",
              "      <td>1.0</td>\n",
              "      <td>1</td>\n",
              "      <td>True positive</td>\n",
              "    </tr>\n",
              "    <tr>\n",
              "      <th>51</th>\n",
              "      <td>1.0</td>\n",
              "      <td>0.999984</td>\n",
              "      <td>1.0</td>\n",
              "      <td>1</td>\n",
              "      <td>True positive</td>\n",
              "    </tr>\n",
              "    <tr>\n",
              "      <th>52</th>\n",
              "      <td>0.0</td>\n",
              "      <td>0.087207</td>\n",
              "      <td>0.0</td>\n",
              "      <td>1</td>\n",
              "      <td>True negative</td>\n",
              "    </tr>\n",
              "    <tr>\n",
              "      <th>53</th>\n",
              "      <td>1.0</td>\n",
              "      <td>0.599650</td>\n",
              "      <td>1.0</td>\n",
              "      <td>1</td>\n",
              "      <td>True positive</td>\n",
              "    </tr>\n",
              "    <tr>\n",
              "      <th>54</th>\n",
              "      <td>0.0</td>\n",
              "      <td>0.045502</td>\n",
              "      <td>0.0</td>\n",
              "      <td>1</td>\n",
              "      <td>True negative</td>\n",
              "    </tr>\n",
              "    <tr>\n",
              "      <th>55</th>\n",
              "      <td>0.0</td>\n",
              "      <td>0.026429</td>\n",
              "      <td>0.0</td>\n",
              "      <td>1</td>\n",
              "      <td>True negative</td>\n",
              "    </tr>\n",
              "    <tr>\n",
              "      <th>56</th>\n",
              "      <td>1.0</td>\n",
              "      <td>1.000000</td>\n",
              "      <td>1.0</td>\n",
              "      <td>1</td>\n",
              "      <td>True positive</td>\n",
              "    </tr>\n",
              "    <tr>\n",
              "      <th>57</th>\n",
              "      <td>0.0</td>\n",
              "      <td>0.033359</td>\n",
              "      <td>0.0</td>\n",
              "      <td>1</td>\n",
              "      <td>True negative</td>\n",
              "    </tr>\n",
              "  </tbody>\n",
              "</table>\n",
              "</div>"
            ],
            "text/plain": [
              "    Class  Probability  Classification  Correctly            Type\n",
              "0     0.0     0.086811             0.0          1   True negative\n",
              "1     1.0     1.000000             1.0          1   True positive\n",
              "2     1.0     0.081018             0.0          0  False negative\n",
              "3     1.0     0.999999             1.0          1   True positive\n",
              "4     0.0     0.028660             0.0          1   True negative\n",
              "5     0.0     0.033887             0.0          1   True negative\n",
              "6     1.0     0.084450             0.0          0  False negative\n",
              "7     0.0     0.041585             0.0          1   True negative\n",
              "8     1.0     0.999968             1.0          1   True positive\n",
              "9     0.0     0.138523             0.0          1   True negative\n",
              "10    1.0     1.000000             1.0          1   True positive\n",
              "11    0.0     0.028372             0.0          1   True negative\n",
              "12    0.0     0.048353             0.0          1   True negative\n",
              "13    0.0     0.135267             0.0          1   True negative\n",
              "14    1.0     0.999976             1.0          1   True positive\n",
              "15    0.0     0.017818             0.0          1   True negative\n",
              "16    0.0     0.074299             0.0          1   True negative\n",
              "17    0.0     0.017251             0.0          1   True negative\n",
              "18    1.0     1.000000             1.0          1   True positive\n",
              "19    1.0     0.024354             0.0          0  False negative\n",
              "20    1.0     0.999889             1.0          1   True positive\n",
              "21    1.0     0.922139             1.0          1   True positive\n",
              "22    1.0     0.999831             1.0          1   True positive\n",
              "23    1.0     1.000000             1.0          1   True positive\n",
              "24    0.0     0.063045             0.0          1   True negative\n",
              "25    0.0     0.080541             0.0          1   True negative\n",
              "26    0.0     0.007407             0.0          1   True negative\n",
              "27    0.0     0.040122             0.0          1   True negative\n",
              "28    0.0     0.015517             0.0          1   True negative\n",
              "29    0.0     0.024710             0.0          1   True negative\n",
              "30    0.0     0.014932             0.0          1   True negative\n",
              "31    0.0     0.033671             0.0          1   True negative\n",
              "32    1.0     0.996967             1.0          1   True positive\n",
              "33    0.0     0.090910             0.0          1   True negative\n",
              "34    0.0     0.013462             0.0          1   True negative\n",
              "35    0.0     0.050670             0.0          1   True negative\n",
              "36    0.0     0.016212             0.0          1   True negative\n",
              "37    0.0     0.025328             0.0          1   True negative\n",
              "38    0.0     0.037993             0.0          1   True negative\n",
              "39    0.0     0.119815             0.0          1   True negative\n",
              "40    1.0     1.000000             1.0          1   True positive\n",
              "41    0.0     0.021225             0.0          1   True negative\n",
              "42    0.0     0.592863             1.0          0  False positive\n",
              "43    1.0     0.998157             1.0          1   True positive\n",
              "44    0.0     0.017978             0.0          1   True negative\n",
              "45    0.0     0.027108             0.0          1   True negative\n",
              "46    1.0     0.893836             1.0          1   True positive\n",
              "47    0.0     0.034498             0.0          1   True negative\n",
              "48    0.0     0.062871             0.0          1   True negative\n",
              "49    0.0     0.023361             0.0          1   True negative\n",
              "50    1.0     1.000000             1.0          1   True positive\n",
              "51    1.0     0.999984             1.0          1   True positive\n",
              "52    0.0     0.087207             0.0          1   True negative\n",
              "53    1.0     0.599650             1.0          1   True positive\n",
              "54    0.0     0.045502             0.0          1   True negative\n",
              "55    0.0     0.026429             0.0          1   True negative\n",
              "56    1.0     1.000000             1.0          1   True positive\n",
              "57    0.0     0.033359             0.0          1   True negative"
            ]
          },
          "execution_count": 10,
          "metadata": {},
          "output_type": "execute_result"
        }
      ],
      "source": [
        "# Make prediction using the trained model\n",
        "prediction = model.predict_on_batch(X_valid)\n",
        "\n",
        "# Create DataFrame with true class and neural network prediction\n",
        "prediction = np.transpose(prediction)\n",
        "prediction = np.reshape(prediction, [58])\n",
        "prediction = prediction[:]\n",
        "classification = np.array(prediction, copy=True)\n",
        "classification[np.where(classification[:]> 0.5)] = 1\n",
        "classification[np.where(classification[:]<= 0.5)] = 0\n",
        "array_valid = np.stack((y_valid, prediction, classification), 1)\n",
        "df_valid = pd.DataFrame(array_valid, columns = ['Class', 'Probability', 'Classification'])\n",
        "\n",
        "# Creation of the hit column based on the correct classification\n",
        "df_valid['Correctly'] = np.where(df_valid['Class'] == df_valid['Classification'], 1, 0)\n",
        "\n",
        "# Creation of the column that describes the type of classification\n",
        "classification_conditions = [\n",
        "     (df_valid['Class'] == 1) & (df_valid['Classification'] == 1), # True positive\n",
        "     (df_valid['Class'] == 0) & (df_valid['Classification'] == 0), # True negative\n",
        "     (df_valid['Class'] == 1) & (df_valid['Classification'] == 0), # False negative\n",
        "     (df_valid['Class'] == 0) & (df_valid['Classification'] == 1), # False positive\n",
        "]\n",
        "classification_types = ['True positive', 'True negative', 'False negative', 'False positive']\n",
        "df_valid['Type'] = np.select(classification_conditions, classification_types)\n",
        "\n",
        "# Display the DataFrame\n",
        "df_valid"
      ]
    },
    {
      "cell_type": "code",
      "execution_count": 11,
      "metadata": {
        "colab": {
          "base_uri": "https://localhost:8080/",
          "height": 542
        },
        "id": "qRDh7PsgrW9m",
        "outputId": "bdc61f32-3b36-428a-f37d-45dfe80dc84b"
      },
      "outputs": [
        {
          "data": {
            "application/vnd.plotly.v1+json": {
              "config": {
                "plotlyServerURL": "https://plot.ly"
              },
              "data": [
                {
                  "colorscale": [
                    [
                      0,
                      "rgb(247,251,255)"
                    ],
                    [
                      0.125,
                      "rgb(222,235,247)"
                    ],
                    [
                      0.25,
                      "rgb(198,219,239)"
                    ],
                    [
                      0.375,
                      "rgb(158,202,225)"
                    ],
                    [
                      0.5,
                      "rgb(107,174,214)"
                    ],
                    [
                      0.625,
                      "rgb(66,146,198)"
                    ],
                    [
                      0.75,
                      "rgb(33,113,181)"
                    ],
                    [
                      0.875,
                      "rgb(8,81,156)"
                    ],
                    [
                      1,
                      "rgb(8,48,107)"
                    ]
                  ],
                  "text": [
                    [
                      "True negative",
                      "False positive"
                    ],
                    [
                      "False negative",
                      "True positive"
                    ]
                  ],
                  "textfont": {
                    "size": 20
                  },
                  "texttemplate": "%{text} <br> %{z}",
                  "type": "heatmap",
                  "x": [
                    "0",
                    "1"
                  ],
                  "y": [
                    "0",
                    "1"
                  ],
                  "z": [
                    [
                      36,
                      1
                    ],
                    [
                      3,
                      18
                    ]
                  ]
                }
              ],
              "layout": {
                "template": {
                  "data": {
                    "bar": [
                      {
                        "error_x": {
                          "color": "#2a3f5f"
                        },
                        "error_y": {
                          "color": "#2a3f5f"
                        },
                        "marker": {
                          "line": {
                            "color": "#E5ECF6",
                            "width": 0.5
                          },
                          "pattern": {
                            "fillmode": "overlay",
                            "size": 10,
                            "solidity": 0.2
                          }
                        },
                        "type": "bar"
                      }
                    ],
                    "barpolar": [
                      {
                        "marker": {
                          "line": {
                            "color": "#E5ECF6",
                            "width": 0.5
                          },
                          "pattern": {
                            "fillmode": "overlay",
                            "size": 10,
                            "solidity": 0.2
                          }
                        },
                        "type": "barpolar"
                      }
                    ],
                    "carpet": [
                      {
                        "aaxis": {
                          "endlinecolor": "#2a3f5f",
                          "gridcolor": "white",
                          "linecolor": "white",
                          "minorgridcolor": "white",
                          "startlinecolor": "#2a3f5f"
                        },
                        "baxis": {
                          "endlinecolor": "#2a3f5f",
                          "gridcolor": "white",
                          "linecolor": "white",
                          "minorgridcolor": "white",
                          "startlinecolor": "#2a3f5f"
                        },
                        "type": "carpet"
                      }
                    ],
                    "choropleth": [
                      {
                        "colorbar": {
                          "outlinewidth": 0,
                          "ticks": ""
                        },
                        "type": "choropleth"
                      }
                    ],
                    "contour": [
                      {
                        "colorbar": {
                          "outlinewidth": 0,
                          "ticks": ""
                        },
                        "colorscale": [
                          [
                            0,
                            "#0d0887"
                          ],
                          [
                            0.1111111111111111,
                            "#46039f"
                          ],
                          [
                            0.2222222222222222,
                            "#7201a8"
                          ],
                          [
                            0.3333333333333333,
                            "#9c179e"
                          ],
                          [
                            0.4444444444444444,
                            "#bd3786"
                          ],
                          [
                            0.5555555555555556,
                            "#d8576b"
                          ],
                          [
                            0.6666666666666666,
                            "#ed7953"
                          ],
                          [
                            0.7777777777777778,
                            "#fb9f3a"
                          ],
                          [
                            0.8888888888888888,
                            "#fdca26"
                          ],
                          [
                            1,
                            "#f0f921"
                          ]
                        ],
                        "type": "contour"
                      }
                    ],
                    "contourcarpet": [
                      {
                        "colorbar": {
                          "outlinewidth": 0,
                          "ticks": ""
                        },
                        "type": "contourcarpet"
                      }
                    ],
                    "heatmap": [
                      {
                        "colorbar": {
                          "outlinewidth": 0,
                          "ticks": ""
                        },
                        "colorscale": [
                          [
                            0,
                            "#0d0887"
                          ],
                          [
                            0.1111111111111111,
                            "#46039f"
                          ],
                          [
                            0.2222222222222222,
                            "#7201a8"
                          ],
                          [
                            0.3333333333333333,
                            "#9c179e"
                          ],
                          [
                            0.4444444444444444,
                            "#bd3786"
                          ],
                          [
                            0.5555555555555556,
                            "#d8576b"
                          ],
                          [
                            0.6666666666666666,
                            "#ed7953"
                          ],
                          [
                            0.7777777777777778,
                            "#fb9f3a"
                          ],
                          [
                            0.8888888888888888,
                            "#fdca26"
                          ],
                          [
                            1,
                            "#f0f921"
                          ]
                        ],
                        "type": "heatmap"
                      }
                    ],
                    "heatmapgl": [
                      {
                        "colorbar": {
                          "outlinewidth": 0,
                          "ticks": ""
                        },
                        "colorscale": [
                          [
                            0,
                            "#0d0887"
                          ],
                          [
                            0.1111111111111111,
                            "#46039f"
                          ],
                          [
                            0.2222222222222222,
                            "#7201a8"
                          ],
                          [
                            0.3333333333333333,
                            "#9c179e"
                          ],
                          [
                            0.4444444444444444,
                            "#bd3786"
                          ],
                          [
                            0.5555555555555556,
                            "#d8576b"
                          ],
                          [
                            0.6666666666666666,
                            "#ed7953"
                          ],
                          [
                            0.7777777777777778,
                            "#fb9f3a"
                          ],
                          [
                            0.8888888888888888,
                            "#fdca26"
                          ],
                          [
                            1,
                            "#f0f921"
                          ]
                        ],
                        "type": "heatmapgl"
                      }
                    ],
                    "histogram": [
                      {
                        "marker": {
                          "pattern": {
                            "fillmode": "overlay",
                            "size": 10,
                            "solidity": 0.2
                          }
                        },
                        "type": "histogram"
                      }
                    ],
                    "histogram2d": [
                      {
                        "colorbar": {
                          "outlinewidth": 0,
                          "ticks": ""
                        },
                        "colorscale": [
                          [
                            0,
                            "#0d0887"
                          ],
                          [
                            0.1111111111111111,
                            "#46039f"
                          ],
                          [
                            0.2222222222222222,
                            "#7201a8"
                          ],
                          [
                            0.3333333333333333,
                            "#9c179e"
                          ],
                          [
                            0.4444444444444444,
                            "#bd3786"
                          ],
                          [
                            0.5555555555555556,
                            "#d8576b"
                          ],
                          [
                            0.6666666666666666,
                            "#ed7953"
                          ],
                          [
                            0.7777777777777778,
                            "#fb9f3a"
                          ],
                          [
                            0.8888888888888888,
                            "#fdca26"
                          ],
                          [
                            1,
                            "#f0f921"
                          ]
                        ],
                        "type": "histogram2d"
                      }
                    ],
                    "histogram2dcontour": [
                      {
                        "colorbar": {
                          "outlinewidth": 0,
                          "ticks": ""
                        },
                        "colorscale": [
                          [
                            0,
                            "#0d0887"
                          ],
                          [
                            0.1111111111111111,
                            "#46039f"
                          ],
                          [
                            0.2222222222222222,
                            "#7201a8"
                          ],
                          [
                            0.3333333333333333,
                            "#9c179e"
                          ],
                          [
                            0.4444444444444444,
                            "#bd3786"
                          ],
                          [
                            0.5555555555555556,
                            "#d8576b"
                          ],
                          [
                            0.6666666666666666,
                            "#ed7953"
                          ],
                          [
                            0.7777777777777778,
                            "#fb9f3a"
                          ],
                          [
                            0.8888888888888888,
                            "#fdca26"
                          ],
                          [
                            1,
                            "#f0f921"
                          ]
                        ],
                        "type": "histogram2dcontour"
                      }
                    ],
                    "mesh3d": [
                      {
                        "colorbar": {
                          "outlinewidth": 0,
                          "ticks": ""
                        },
                        "type": "mesh3d"
                      }
                    ],
                    "parcoords": [
                      {
                        "line": {
                          "colorbar": {
                            "outlinewidth": 0,
                            "ticks": ""
                          }
                        },
                        "type": "parcoords"
                      }
                    ],
                    "pie": [
                      {
                        "automargin": true,
                        "type": "pie"
                      }
                    ],
                    "scatter": [
                      {
                        "fillpattern": {
                          "fillmode": "overlay",
                          "size": 10,
                          "solidity": 0.2
                        },
                        "type": "scatter"
                      }
                    ],
                    "scatter3d": [
                      {
                        "line": {
                          "colorbar": {
                            "outlinewidth": 0,
                            "ticks": ""
                          }
                        },
                        "marker": {
                          "colorbar": {
                            "outlinewidth": 0,
                            "ticks": ""
                          }
                        },
                        "type": "scatter3d"
                      }
                    ],
                    "scattercarpet": [
                      {
                        "marker": {
                          "colorbar": {
                            "outlinewidth": 0,
                            "ticks": ""
                          }
                        },
                        "type": "scattercarpet"
                      }
                    ],
                    "scattergeo": [
                      {
                        "marker": {
                          "colorbar": {
                            "outlinewidth": 0,
                            "ticks": ""
                          }
                        },
                        "type": "scattergeo"
                      }
                    ],
                    "scattergl": [
                      {
                        "marker": {
                          "colorbar": {
                            "outlinewidth": 0,
                            "ticks": ""
                          }
                        },
                        "type": "scattergl"
                      }
                    ],
                    "scattermapbox": [
                      {
                        "marker": {
                          "colorbar": {
                            "outlinewidth": 0,
                            "ticks": ""
                          }
                        },
                        "type": "scattermapbox"
                      }
                    ],
                    "scatterpolar": [
                      {
                        "marker": {
                          "colorbar": {
                            "outlinewidth": 0,
                            "ticks": ""
                          }
                        },
                        "type": "scatterpolar"
                      }
                    ],
                    "scatterpolargl": [
                      {
                        "marker": {
                          "colorbar": {
                            "outlinewidth": 0,
                            "ticks": ""
                          }
                        },
                        "type": "scatterpolargl"
                      }
                    ],
                    "scatterternary": [
                      {
                        "marker": {
                          "colorbar": {
                            "outlinewidth": 0,
                            "ticks": ""
                          }
                        },
                        "type": "scatterternary"
                      }
                    ],
                    "surface": [
                      {
                        "colorbar": {
                          "outlinewidth": 0,
                          "ticks": ""
                        },
                        "colorscale": [
                          [
                            0,
                            "#0d0887"
                          ],
                          [
                            0.1111111111111111,
                            "#46039f"
                          ],
                          [
                            0.2222222222222222,
                            "#7201a8"
                          ],
                          [
                            0.3333333333333333,
                            "#9c179e"
                          ],
                          [
                            0.4444444444444444,
                            "#bd3786"
                          ],
                          [
                            0.5555555555555556,
                            "#d8576b"
                          ],
                          [
                            0.6666666666666666,
                            "#ed7953"
                          ],
                          [
                            0.7777777777777778,
                            "#fb9f3a"
                          ],
                          [
                            0.8888888888888888,
                            "#fdca26"
                          ],
                          [
                            1,
                            "#f0f921"
                          ]
                        ],
                        "type": "surface"
                      }
                    ],
                    "table": [
                      {
                        "cells": {
                          "fill": {
                            "color": "#EBF0F8"
                          },
                          "line": {
                            "color": "white"
                          }
                        },
                        "header": {
                          "fill": {
                            "color": "#C8D4E3"
                          },
                          "line": {
                            "color": "white"
                          }
                        },
                        "type": "table"
                      }
                    ]
                  },
                  "layout": {
                    "annotationdefaults": {
                      "arrowcolor": "#2a3f5f",
                      "arrowhead": 0,
                      "arrowwidth": 1
                    },
                    "autotypenumbers": "strict",
                    "coloraxis": {
                      "colorbar": {
                        "outlinewidth": 0,
                        "ticks": ""
                      }
                    },
                    "colorscale": {
                      "diverging": [
                        [
                          0,
                          "#8e0152"
                        ],
                        [
                          0.1,
                          "#c51b7d"
                        ],
                        [
                          0.2,
                          "#de77ae"
                        ],
                        [
                          0.3,
                          "#f1b6da"
                        ],
                        [
                          0.4,
                          "#fde0ef"
                        ],
                        [
                          0.5,
                          "#f7f7f7"
                        ],
                        [
                          0.6,
                          "#e6f5d0"
                        ],
                        [
                          0.7,
                          "#b8e186"
                        ],
                        [
                          0.8,
                          "#7fbc41"
                        ],
                        [
                          0.9,
                          "#4d9221"
                        ],
                        [
                          1,
                          "#276419"
                        ]
                      ],
                      "sequential": [
                        [
                          0,
                          "#0d0887"
                        ],
                        [
                          0.1111111111111111,
                          "#46039f"
                        ],
                        [
                          0.2222222222222222,
                          "#7201a8"
                        ],
                        [
                          0.3333333333333333,
                          "#9c179e"
                        ],
                        [
                          0.4444444444444444,
                          "#bd3786"
                        ],
                        [
                          0.5555555555555556,
                          "#d8576b"
                        ],
                        [
                          0.6666666666666666,
                          "#ed7953"
                        ],
                        [
                          0.7777777777777778,
                          "#fb9f3a"
                        ],
                        [
                          0.8888888888888888,
                          "#fdca26"
                        ],
                        [
                          1,
                          "#f0f921"
                        ]
                      ],
                      "sequentialminus": [
                        [
                          0,
                          "#0d0887"
                        ],
                        [
                          0.1111111111111111,
                          "#46039f"
                        ],
                        [
                          0.2222222222222222,
                          "#7201a8"
                        ],
                        [
                          0.3333333333333333,
                          "#9c179e"
                        ],
                        [
                          0.4444444444444444,
                          "#bd3786"
                        ],
                        [
                          0.5555555555555556,
                          "#d8576b"
                        ],
                        [
                          0.6666666666666666,
                          "#ed7953"
                        ],
                        [
                          0.7777777777777778,
                          "#fb9f3a"
                        ],
                        [
                          0.8888888888888888,
                          "#fdca26"
                        ],
                        [
                          1,
                          "#f0f921"
                        ]
                      ]
                    },
                    "colorway": [
                      "#636efa",
                      "#EF553B",
                      "#00cc96",
                      "#ab63fa",
                      "#FFA15A",
                      "#19d3f3",
                      "#FF6692",
                      "#B6E880",
                      "#FF97FF",
                      "#FECB52"
                    ],
                    "font": {
                      "color": "#2a3f5f"
                    },
                    "geo": {
                      "bgcolor": "white",
                      "lakecolor": "white",
                      "landcolor": "#E5ECF6",
                      "showlakes": true,
                      "showland": true,
                      "subunitcolor": "white"
                    },
                    "hoverlabel": {
                      "align": "left"
                    },
                    "hovermode": "closest",
                    "mapbox": {
                      "style": "light"
                    },
                    "paper_bgcolor": "white",
                    "plot_bgcolor": "#E5ECF6",
                    "polar": {
                      "angularaxis": {
                        "gridcolor": "white",
                        "linecolor": "white",
                        "ticks": ""
                      },
                      "bgcolor": "#E5ECF6",
                      "radialaxis": {
                        "gridcolor": "white",
                        "linecolor": "white",
                        "ticks": ""
                      }
                    },
                    "scene": {
                      "xaxis": {
                        "backgroundcolor": "#E5ECF6",
                        "gridcolor": "white",
                        "gridwidth": 2,
                        "linecolor": "white",
                        "showbackground": true,
                        "ticks": "",
                        "zerolinecolor": "white"
                      },
                      "yaxis": {
                        "backgroundcolor": "#E5ECF6",
                        "gridcolor": "white",
                        "gridwidth": 2,
                        "linecolor": "white",
                        "showbackground": true,
                        "ticks": "",
                        "zerolinecolor": "white"
                      },
                      "zaxis": {
                        "backgroundcolor": "#E5ECF6",
                        "gridcolor": "white",
                        "gridwidth": 2,
                        "linecolor": "white",
                        "showbackground": true,
                        "ticks": "",
                        "zerolinecolor": "white"
                      }
                    },
                    "shapedefaults": {
                      "line": {
                        "color": "#2a3f5f"
                      }
                    },
                    "ternary": {
                      "aaxis": {
                        "gridcolor": "white",
                        "linecolor": "white",
                        "ticks": ""
                      },
                      "baxis": {
                        "gridcolor": "white",
                        "linecolor": "white",
                        "ticks": ""
                      },
                      "bgcolor": "#E5ECF6",
                      "caxis": {
                        "gridcolor": "white",
                        "linecolor": "white",
                        "ticks": ""
                      }
                    },
                    "title": {
                      "x": 0.05
                    },
                    "xaxis": {
                      "automargin": true,
                      "gridcolor": "white",
                      "linecolor": "white",
                      "ticks": "",
                      "title": {
                        "standoff": 15
                      },
                      "zerolinecolor": "white",
                      "zerolinewidth": 2
                    },
                    "yaxis": {
                      "automargin": true,
                      "gridcolor": "white",
                      "linecolor": "white",
                      "ticks": "",
                      "title": {
                        "standoff": 15
                      },
                      "zerolinecolor": "white",
                      "zerolinewidth": 2
                    }
                  }
                },
                "title": {
                  "text": "Confusion Matrix"
                },
                "xaxis": {
                  "title": {
                    "text": "Predicted value"
                  }
                },
                "yaxis": {
                  "title": {
                    "text": "True value"
                  }
                }
              }
            }
          },
          "metadata": {},
          "output_type": "display_data"
        }
      ],
      "source": [
        "# create the confusion matrix\n",
        "tn, fp, fn, tp = confusion_matrix(y_valid, classification).ravel()\n",
        "cm = confusion_matrix(y_valid, classification)\n",
        "\n",
        "# create the heatmap\n",
        "heatmap = go.Heatmap(z=cm, colorscale='Blues', x=['0', '1'], y=['0', '1'],\n",
        "                     text=[['True negative', 'False positive'],\n",
        "                     ['False negative', 'True positive']],texttemplate=\"%{text} <br> %{z}\",\n",
        "                    textfont={\"size\":20})\n",
        "\n",
        "# create the layout\n",
        "layout = go.Layout(title='Confusion Matrix', xaxis={'title': 'Predicted value'}, yaxis={'title': 'True value'})\n",
        "\n",
        "# create the figure\n",
        "fig = go.Figure(data=[heatmap], layout=layout)\n",
        "# show the figure\n",
        "fig.show()"
      ]
    },
    {
      "cell_type": "code",
      "execution_count": 12,
      "metadata": {
        "colab": {
          "base_uri": "https://localhost:8080/"
        },
        "id": "yrmdORxaNuE7",
        "outputId": "4bc6fed3-76dc-4180-b0af-fe80b503237e"
      },
      "outputs": [
        {
          "name": "stdout",
          "output_type": "stream",
          "text": [
            "0.9310344827586207\n"
          ]
        }
      ],
      "source": [
        "# Calculation and addition of hit rate\n",
        "rate = df_valid['Correctly'].sum() / df_valid.shape[0]\n",
        "print(rate)"
      ]
    },
    {
      "cell_type": "markdown",
      "metadata": {
        "id": "Ya34fAeugkUb"
      },
      "source": [
        "## PCA with 3 Dimensions"
      ]
    },
    {
      "cell_type": "code",
      "execution_count": 13,
      "metadata": {
        "colab": {
          "base_uri": "https://localhost:8080/",
          "height": 542
        },
        "id": "VcXp7iBkaEzI",
        "outputId": "630c6a15-2c3a-4481-ca41-9928e675fe87"
      },
      "outputs": [
        {
          "data": {
            "application/vnd.plotly.v1+json": {
              "config": {
                "plotlyServerURL": "https://plot.ly"
              },
              "data": [
                {
                  "hovertemplate": "Index: %{text}<br>Diagnosis: %{marker.color}",
                  "marker": {
                    "color": [
                      1,
                      1,
                      1,
                      1,
                      1,
                      1,
                      1,
                      1,
                      1,
                      1,
                      1,
                      1,
                      1,
                      1,
                      1,
                      1,
                      1,
                      1,
                      1,
                      0,
                      0,
                      0,
                      1,
                      1,
                      1,
                      1,
                      1,
                      1,
                      1,
                      1,
                      1,
                      1,
                      1,
                      1,
                      1,
                      1,
                      1,
                      0,
                      1,
                      1,
                      1,
                      1,
                      1,
                      1,
                      1,
                      1,
                      0,
                      1,
                      0,
                      0,
                      0,
                      0,
                      0,
                      1,
                      1,
                      0,
                      1,
                      1,
                      0,
                      0,
                      0,
                      0,
                      1,
                      0,
                      1,
                      1,
                      0,
                      0,
                      0,
                      0,
                      1,
                      0,
                      1,
                      1,
                      0,
                      1,
                      0,
                      1,
                      1,
                      0,
                      0,
                      0,
                      1,
                      1,
                      0,
                      1,
                      1,
                      1,
                      0,
                      0,
                      0,
                      1,
                      0,
                      0,
                      1,
                      1,
                      0,
                      0,
                      0,
                      1,
                      1,
                      0,
                      0,
                      0,
                      0,
                      1,
                      0,
                      0,
                      1,
                      0,
                      0,
                      0,
                      0,
                      0,
                      0,
                      0,
                      0,
                      1,
                      1,
                      1,
                      0,
                      1,
                      1,
                      0,
                      0,
                      0,
                      1,
                      1,
                      0,
                      1,
                      0,
                      1,
                      1,
                      0,
                      1,
                      1,
                      0,
                      0,
                      1,
                      0,
                      0,
                      1,
                      0,
                      0,
                      0,
                      0,
                      1,
                      0,
                      0,
                      0,
                      0,
                      0,
                      0,
                      0,
                      0,
                      0,
                      1,
                      0,
                      0,
                      0,
                      0,
                      1,
                      1,
                      0,
                      1,
                      0,
                      0,
                      1,
                      1,
                      0,
                      0,
                      1,
                      1,
                      0,
                      0,
                      0,
                      0,
                      1,
                      0,
                      0,
                      1,
                      1,
                      1,
                      0,
                      1,
                      0,
                      1,
                      0,
                      0,
                      0,
                      1,
                      0,
                      0,
                      1,
                      1,
                      0,
                      1,
                      1,
                      1,
                      1,
                      0,
                      1,
                      1,
                      1,
                      0,
                      1,
                      0,
                      1,
                      0,
                      0,
                      1,
                      0,
                      1,
                      1,
                      1,
                      1,
                      0,
                      0,
                      1,
                      1,
                      0,
                      0,
                      0,
                      1,
                      0,
                      0,
                      0,
                      0,
                      0,
                      1,
                      1,
                      0,
                      0,
                      1,
                      0,
                      0,
                      1,
                      1,
                      0,
                      1,
                      0,
                      0,
                      0,
                      0,
                      1,
                      0,
                      0,
                      0,
                      0,
                      0,
                      1,
                      0,
                      1,
                      1,
                      1,
                      1,
                      1,
                      1,
                      1,
                      1,
                      1,
                      1,
                      1,
                      1,
                      1,
                      1,
                      0,
                      0,
                      0,
                      0,
                      0,
                      0,
                      1,
                      0,
                      1,
                      0,
                      0,
                      1,
                      0,
                      0,
                      1,
                      0,
                      1,
                      1,
                      0,
                      0,
                      0,
                      0,
                      0,
                      0,
                      0,
                      0,
                      0,
                      0,
                      0,
                      0,
                      0,
                      1,
                      0,
                      0,
                      1,
                      0,
                      1,
                      0,
                      0,
                      0,
                      0,
                      0,
                      0,
                      0,
                      0,
                      0,
                      0,
                      0,
                      0,
                      0,
                      0,
                      1,
                      0,
                      0,
                      0,
                      1,
                      0,
                      1,
                      0,
                      0,
                      0,
                      0,
                      1,
                      1,
                      1,
                      0,
                      0,
                      0,
                      0,
                      1,
                      0,
                      1,
                      0,
                      1,
                      0,
                      0,
                      0,
                      1,
                      0,
                      0,
                      0,
                      0,
                      0,
                      0,
                      0,
                      1,
                      1,
                      1,
                      0,
                      0,
                      0,
                      0,
                      0,
                      0,
                      0,
                      0,
                      0,
                      0,
                      0,
                      1,
                      1,
                      0,
                      1,
                      1,
                      1,
                      0,
                      1,
                      1,
                      0,
                      0,
                      0,
                      0,
                      0,
                      1,
                      0,
                      0,
                      0,
                      0,
                      0,
                      1,
                      0,
                      0,
                      0,
                      1,
                      0,
                      0,
                      1,
                      1,
                      0,
                      0,
                      0,
                      0,
                      0,
                      0,
                      1,
                      0,
                      0,
                      0,
                      0,
                      0,
                      0,
                      0,
                      1,
                      0,
                      0,
                      0,
                      0,
                      0,
                      1,
                      0,
                      0,
                      1,
                      0,
                      0,
                      0,
                      0,
                      0,
                      0,
                      0,
                      0,
                      0,
                      0,
                      0,
                      0,
                      1,
                      0,
                      1,
                      1,
                      0,
                      1,
                      0,
                      0,
                      0,
                      0,
                      0,
                      1,
                      0,
                      0,
                      1,
                      0,
                      1,
                      0,
                      0,
                      1,
                      0,
                      1,
                      0,
                      0,
                      0,
                      0,
                      0,
                      0,
                      0,
                      0,
                      1,
                      1,
                      0,
                      0,
                      0,
                      0,
                      0,
                      0,
                      1,
                      0,
                      0,
                      0,
                      0,
                      0,
                      0,
                      0,
                      0,
                      0,
                      0,
                      1,
                      0,
                      0,
                      0,
                      0,
                      0,
                      0,
                      0,
                      1,
                      0,
                      1,
                      0,
                      0,
                      1,
                      0,
                      0,
                      0,
                      0,
                      0,
                      1,
                      1,
                      0,
                      1,
                      0,
                      1,
                      0,
                      0,
                      0,
                      0,
                      0,
                      1,
                      0,
                      0,
                      1,
                      0,
                      1,
                      0,
                      1,
                      1,
                      0,
                      0,
                      0,
                      1,
                      0,
                      0,
                      0,
                      0,
                      0,
                      0,
                      0,
                      0,
                      0,
                      0,
                      0,
                      1,
                      0,
                      1,
                      1,
                      0,
                      0,
                      0,
                      0,
                      0,
                      0,
                      0,
                      0,
                      0,
                      0,
                      0,
                      0,
                      0,
                      0,
                      0,
                      0,
                      0,
                      0,
                      0,
                      0,
                      0,
                      0,
                      0,
                      0,
                      0,
                      1,
                      1,
                      1,
                      1,
                      1,
                      1,
                      0
                    ],
                    "colorscale": [
                      [
                        0,
                        "blue"
                      ],
                      [
                        1,
                        "red"
                      ]
                    ],
                    "showscale": false
                  },
                  "mode": "markers",
                  "text": [
                    842302,
                    842517,
                    84300903,
                    84348301,
                    84358402,
                    843786,
                    844359,
                    84458202,
                    844981,
                    84501001,
                    845636,
                    84610002,
                    846226,
                    846381,
                    84667401,
                    84799002,
                    848406,
                    84862001,
                    849014,
                    8510426,
                    8510653,
                    8510824,
                    8511133,
                    851509,
                    852552,
                    852631,
                    852763,
                    852781,
                    852973,
                    853201,
                    853401,
                    853612,
                    85382601,
                    854002,
                    854039,
                    854253,
                    854268,
                    854941,
                    855133,
                    855138,
                    855167,
                    855563,
                    855625,
                    856106,
                    85638502,
                    857010,
                    85713702,
                    85715,
                    857155,
                    857156,
                    857343,
                    857373,
                    857374,
                    857392,
                    857438,
                    85759902,
                    857637,
                    857793,
                    857810,
                    858477,
                    858970,
                    858981,
                    858986,
                    859196,
                    85922302,
                    859283,
                    859464,
                    859465,
                    859471,
                    859487,
                    859575,
                    859711,
                    859717,
                    859983,
                    8610175,
                    8610404,
                    8610629,
                    8610637,
                    8610862,
                    8610908,
                    861103,
                    8611161,
                    8611555,
                    8611792,
                    8612080,
                    8612399,
                    86135501,
                    86135502,
                    861597,
                    861598,
                    861648,
                    861799,
                    861853,
                    862009,
                    862028,
                    86208,
                    86211,
                    862261,
                    862485,
                    862548,
                    862717,
                    862722,
                    862965,
                    862980,
                    862989,
                    863030,
                    863031,
                    863270,
                    86355,
                    864018,
                    864033,
                    86408,
                    86409,
                    864292,
                    864496,
                    864685,
                    864726,
                    864729,
                    864877,
                    865128,
                    865137,
                    86517,
                    865423,
                    865432,
                    865468,
                    86561,
                    866083,
                    866203,
                    866458,
                    866674,
                    866714,
                    8670,
                    86730502,
                    867387,
                    867739,
                    868202,
                    868223,
                    868682,
                    868826,
                    868871,
                    868999,
                    869104,
                    869218,
                    869224,
                    869254,
                    869476,
                    869691,
                    86973701,
                    86973702,
                    869931,
                    871001501,
                    871001502,
                    8710441,
                    87106,
                    8711002,
                    8711003,
                    8711202,
                    8711216,
                    871122,
                    871149,
                    8711561,
                    8711803,
                    871201,
                    8712064,
                    8712289,
                    8712291,
                    87127,
                    8712729,
                    8712766,
                    8712853,
                    87139402,
                    87163,
                    87164,
                    871641,
                    871642,
                    872113,
                    872608,
                    87281702,
                    873357,
                    873586,
                    873592,
                    873593,
                    873701,
                    873843,
                    873885,
                    874158,
                    874217,
                    874373,
                    874662,
                    874839,
                    874858,
                    875093,
                    875099,
                    875263,
                    87556202,
                    875878,
                    875938,
                    877159,
                    877486,
                    877500,
                    877501,
                    877989,
                    878796,
                    87880,
                    87930,
                    879523,
                    879804,
                    879830,
                    8810158,
                    8810436,
                    881046502,
                    8810528,
                    8810703,
                    881094802,
                    8810955,
                    8810987,
                    8811523,
                    8811779,
                    8811842,
                    88119002,
                    8812816,
                    8812818,
                    8812844,
                    8812877,
                    8813129,
                    88143502,
                    88147101,
                    88147102,
                    88147202,
                    881861,
                    881972,
                    88199202,
                    88203002,
                    88206102,
                    882488,
                    88249602,
                    88299702,
                    883263,
                    883270,
                    88330202,
                    88350402,
                    883539,
                    883852,
                    88411702,
                    884180,
                    884437,
                    884448,
                    884626,
                    88466802,
                    884689,
                    884948,
                    88518501,
                    885429,
                    8860702,
                    886226,
                    886452,
                    88649001,
                    886776,
                    887181,
                    88725602,
                    887549,
                    888264,
                    888570,
                    889403,
                    889719,
                    88995002,
                    8910251,
                    8910499,
                    8910506,
                    8910720,
                    8910721,
                    8910748,
                    8910988,
                    8910996,
                    8911163,
                    8911164,
                    8911230,
                    8911670,
                    8911800,
                    8911834,
                    8912049,
                    8912055,
                    89122,
                    8912280,
                    8912284,
                    8912521,
                    8912909,
                    8913,
                    8913049,
                    89143601,
                    89143602,
                    8915,
                    891670,
                    891703,
                    891716,
                    891923,
                    891936,
                    892189,
                    892214,
                    892399,
                    892438,
                    892604,
                    89263202,
                    892657,
                    89296,
                    893061,
                    89344,
                    89346,
                    893526,
                    893548,
                    893783,
                    89382601,
                    89382602,
                    893988,
                    894047,
                    894089,
                    894090,
                    894326,
                    894329,
                    894335,
                    894604,
                    894618,
                    894855,
                    895100,
                    89511501,
                    89511502,
                    89524,
                    895299,
                    8953902,
                    895633,
                    896839,
                    896864,
                    897132,
                    897137,
                    897374,
                    89742801,
                    897604,
                    897630,
                    897880,
                    89812,
                    89813,
                    898143,
                    89827,
                    898431,
                    89864002,
                    898677,
                    898678,
                    89869,
                    898690,
                    899147,
                    899187,
                    899667,
                    899987,
                    9010018,
                    901011,
                    9010258,
                    9010259,
                    901028,
                    9010333,
                    901034301,
                    901034302,
                    901041,
                    9010598,
                    9010872,
                    9010877,
                    901088,
                    9011494,
                    9011495,
                    9011971,
                    9012000,
                    9012315,
                    9012568,
                    9012795,
                    901288,
                    9013005,
                    901303,
                    901315,
                    9013579,
                    9013594,
                    9013838,
                    901549,
                    901836,
                    90250,
                    90251,
                    902727,
                    90291,
                    902975,
                    902976,
                    903011,
                    90312,
                    90317302,
                    903483,
                    903507,
                    903516,
                    903554,
                    903811,
                    90401601,
                    90401602,
                    904302,
                    904357,
                    90439701,
                    904647,
                    904689,
                    9047,
                    904969,
                    904971,
                    905189,
                    905190,
                    90524101,
                    905501,
                    905502,
                    905520,
                    905539,
                    905557,
                    905680,
                    905686,
                    905978,
                    90602302,
                    906024,
                    906290,
                    906539,
                    906564,
                    906616,
                    906878,
                    907145,
                    907367,
                    907409,
                    90745,
                    90769601,
                    90769602,
                    907914,
                    907915,
                    908194,
                    908445,
                    908469,
                    908489,
                    908916,
                    909220,
                    909231,
                    909410,
                    909411,
                    909445,
                    90944601,
                    909777,
                    9110127,
                    9110720,
                    9110732,
                    9110944,
                    911150,
                    911157302,
                    9111596,
                    9111805,
                    9111843,
                    911201,
                    911202,
                    9112085,
                    9112366,
                    9112367,
                    9112594,
                    9112712,
                    911296201,
                    911296202,
                    9113156,
                    911320501,
                    911320502,
                    9113239,
                    9113455,
                    9113514,
                    9113538,
                    911366,
                    9113778,
                    9113816,
                    911384,
                    9113846,
                    911391,
                    911408,
                    911654,
                    911673,
                    911685,
                    911916,
                    912193,
                    91227,
                    912519,
                    912558,
                    912600,
                    913063,
                    913102,
                    913505,
                    913512,
                    913535,
                    91376701,
                    91376702,
                    914062,
                    914101,
                    914102,
                    914333,
                    914366,
                    914580,
                    914769,
                    91485,
                    914862,
                    91504,
                    91505,
                    915143,
                    915186,
                    915276,
                    91544001,
                    91544002,
                    915452,
                    915460,
                    91550,
                    915664,
                    915691,
                    915940,
                    91594602,
                    916221,
                    916799,
                    916838,
                    917062,
                    917080,
                    917092,
                    91762702,
                    91789,
                    917896,
                    917897,
                    91805,
                    91813701,
                    91813702,
                    918192,
                    918465,
                    91858,
                    91903901,
                    91903902,
                    91930402,
                    919537,
                    919555,
                    91979701,
                    919812,
                    921092,
                    921362,
                    921385,
                    921386,
                    921644,
                    922296,
                    922297,
                    922576,
                    922577,
                    922840,
                    923169,
                    923465,
                    923748,
                    923780,
                    924084,
                    924342,
                    924632,
                    924934,
                    924964,
                    925236,
                    925277,
                    925291,
                    925292,
                    925311,
                    925622,
                    926125,
                    926424,
                    926682,
                    926954,
                    927241,
                    92751
                  ],
                  "type": "scatter3d",
                  "x": [
                    9.225770106656004,
                    2.6558015959301198,
                    5.892492123560905,
                    7.13540074520668,
                    4.129422712685014,
                    2.572872123422065,
                    2.507796317224086,
                    2.353241540107369,
                    3.3616804093776826,
                    6.419311110740837,
                    -0.47057602134569265,
                    2.8760370377956694,
                    8.206292449874294,
                    0.6207803458221852,
                    4.478522244100218,
                    4.249335283964035,
                    0.5333603416366772,
                    4.592772423338672,
                    5.164467059722747,
                    -1.3714683359243358,
                    -1.7095793295473292,
                    -3.66687289779214,
                    4.8641998425887705,
                    4.45870200624241,
                    5.144187180811882,
                    7.181839100155958,
                    3.7075159490583873,
                    3.282232410446011,
                    4.208783108864162,
                    1.965406966834176,
                    6.210993609369495,
                    3.0847538934955816,
                    4.7334796352190605,
                    5.1818862214071535,
                    3.2044544073658936,
                    3.001762987018849,
                    1.547464112291152,
                    -3.817846103010157,
                    -0.6748612614532274,
                    1.0327484008418093,
                    -1.7866065057733669,
                    0.18296891188633982,
                    9.118242246098426,
                    1.2508304374800654,
                    0.017871288810088235,
                    5.540722535373299,
                    -4.656887208133649,
                    1.9333483770151974,
                    -2.2495698379481457,
                    -1.6760867221625317,
                    -3.6137809005602035,
                    -3.230700549786828,
                    -3.5300070356670403,
                    3.5111405964314617,
                    -0.3407092256375193,
                    -2.9584677954532657,
                    4.851921760466191,
                    2.4076779231019114,
                    -3.7851986584149726,
                    -4.229335633425375,
                    -2.535537227093401,
                    -2.7205077474415043,
                    4.890652599002195,
                    -2.481516608213446,
                    1.9323831586468603,
                    2.057015186908066,
                    -2.907155137832814,
                    -3.59546657546249,
                    3.932549492038264,
                    -3.341899187185858,
                    2.970018905237405,
                    -0.5900932424115364,
                    5.656169745150216,
                    -0.06781285797349039,
                    -2.7255572930804384,
                    1.6941314480523768,
                    -1.0150841505940116,
                    6.342754282633632,
                    11.609783877169924,
                    -2.134570566212174,
                    -1.780476556074922,
                    0.9507370022546419,
                    10.817876614864888,
                    5.177607172340122,
                    -2.2892423195042992,
                    3.512556316422529,
                    0.8702032539068081,
                    3.817521952488226,
                    -1.0851780791869572,
                    1.0430284609090523,
                    -1.6974580496077243,
                    0.5326107713361959,
                    -2.9199008993374815,
                    -2.071648785620987,
                    2.986470298113873,
                    4.597773876498174,
                    -2.7072861832076076,
                    -3.996404056677507,
                    -2.9213717032874285,
                    0.8806504588871333,
                    -0.11764396756117602,
                    -4.653418444715348,
                    -3.5097151401045137,
                    -2.248309545298264,
                    -2.8149563954556878,
                    3.3814149272984015,
                    -0.9119211028169248,
                    -3.23024340307013,
                    13.005207280575938,
                    -2.339207855290786,
                    -2.6387953245637084,
                    -0.3051387725672145,
                    3.267146251681282,
                    -1.535442959768436,
                    -2.649555761143211,
                    -2.1634730421837958,
                    -2.2856160996125894,
                    3.3144385025671177,
                    5.104434927954168,
                    1.1427889795004158,
                    -3.062041415377153,
                    3.547406031920832,
                    12.806731434395777,
                    -0.9211913493491686,
                    -2.3160936791278885,
                    -3.2124117525581637,
                    -0.3116531745004776,
                    2.187297894462298,
                    1.183592928474459,
                    4.8407372434969895,
                    -2.0146154264447285,
                    1.698800996590332,
                    1.626240831834615,
                    -0.8426663102139205,
                    2.4413540185981026,
                    -1.633630852980071,
                    -2.7088259467519453,
                    -3.3412894228038206,
                    3.9432958290859137,
                    -2.138406027031336,
                    -5.071111976283928,
                    1.6051214266986205,
                    -2.5740318560909095,
                    -1.9535224933520283,
                    -4.406477312179153,
                    -0.9379455208666565,
                    2.57692896896621,
                    0.18844151183231972,
                    -0.5648736135748453,
                    -3.1204561755133393,
                    -1.5776955599918123,
                    -0.16693241134751116,
                    6.548404381893411,
                    -3.826633187159095,
                    -1.1202120997630778,
                    -2.523798561821557,
                    4.278209407929955,
                    -0.8722378531773397,
                    -3.7270698661451918,
                    -4.725919178884514,
                    -0.775839264263069,
                    3.598233783815579,
                    6.314115665602733,
                    -1.4781584170477409,
                    5.696344571490496,
                    -3.0592469002436014,
                    -4.453981767437171,
                    1.4847195072567867,
                    5.244141475813859,
                    -2.075949303821473,
                    -2.6255310066912836,
                    -0.6179270044331744,
                    3.021116210959091,
                    -3.6021504412363816,
                    -4.718880260213385,
                    -5.408360147459197,
                    0.8646046978894226,
                    3.164044667361859,
                    -4.984279775832012,
                    -4.129083957784339,
                    9.636606891784753,
                    9.08403087450478,
                    1.0539262177865218,
                    -2.787315130779387,
                    -0.0734436781746043,
                    -3.974941081179687,
                    0.6901470649217192,
                    -2.9300606447988615,
                    -3.396655735246694,
                    -3.4366939495337903,
                    6.559331933212462,
                    -1.8562408820872043,
                    -5.6101754956417835,
                    2.0027709532548923,
                    2.812509893871775,
                    -2.9077401506356315,
                    2.696656545494776,
                    1.5384364027424449,
                    3.7068848354905377,
                    1.5287143311663418,
                    -1.601928148370511,
                    1.9207896638352302,
                    9.111755732805548,
                    4.718295630787278,
                    -0.9338042585800013,
                    0.08047091909498467,
                    -3.551465514952529,
                    0.7478154143701572,
                    0.12902284667366537,
                    -2.1495187256262787,
                    4.997460657596305,
                    -3.0872568753125726,
                    12.293638716946417,
                    3.507227873952564,
                    2.7117381973397214,
                    1.5516553172912628,
                    -0.5747378045595006,
                    -2.8820749630467732,
                    5.135782918680397,
                    4.54364090133824,
                    -2.4764456607213976,
                    -1.1156184595215535,
                    -3.0905925637075553,
                    2.0572383666287597,
                    -2.569364205274243,
                    -0.964496173528967,
                    -3.9730588265331623,
                    -0.5410476628685112,
                    -1.5779576441754437,
                    2.946441264142716,
                    3.4775066748082186,
                    -4.066935771075641,
                    -3.7274928982612456,
                    3.5712472743743096,
                    -4.121569429317542,
                    -2.4265083213890133,
                    8.535604360204772,
                    2.902924016763194,
                    -0.8172874242033503,
                    3.597392149709863,
                    -2.330223138597103,
                    -4.51671252542996,
                    1.0676887783729923,
                    -1.9609584823581439,
                    3.9990131375356497,
                    -2.418684612418348,
                    -3.3046098985121906,
                    0.801759299193524,
                    -2.682029695921432,
                    -2.597954859654467,
                    7.268437427533302,
                    -3.121623918262345,
                    7.192707935742912,
                    1.5931975548340653,
                    3.9454263436835126,
                    0.7294450364923846,
                    6.54301056581238,
                    5.366086638899645,
                    8.753567926699851,
                    3.90839206145553,
                    3.637336382803267,
                    -0.49360044988606494,
                    3.4849161042966417,
                    -1.53798450139826,
                    1.9012300654619454,
                    6.8197420722950195,
                    -1.6238772474898409,
                    -2.1225137291672342,
                    -2.3939713667237346,
                    -0.9358009465203342,
                    -4.5322573251884855,
                    -3.2553888703979212,
                    7.796651728916498,
                    -3.738878968082067,
                    0.6550773546301778,
                    -1.4354492837230668,
                    -4.408076121331431,
                    0.3381277785785457,
                    -3.5453263676094533,
                    -1.9769896729785568,
                    5.1541752363309365,
                    -2.5892459797296423,
                    4.0090304675742745,
                    2.8549839917713973,
                    -1.5237357723889275,
                    -4.19499533989173,
                    -0.8657882188989027,
                    -4.360913453186733,
                    0.15770826326013193,
                    -3.1043057437503228,
                    2.7970793294849767,
                    -0.5593424552766824,
                    -1.5666393169047106,
                    -2.960237165436114,
                    -3.444568050012075,
                    -3.388770347209976,
                    -4.829961229554255,
                    -2.0482514370951037,
                    -2.8565195084652304,
                    -3.494977555317911,
                    6.725419661343688,
                    -1.6041143931295823,
                    7.280674995718237,
                    -3.669891209882125,
                    -3.156090092922366,
                    -3.1634354578236654,
                    -3.9095238895482787,
                    -5.439759530060498,
                    -4.685385269780669,
                    -4.077567239070129,
                    -3.428099593763365,
                    -3.354924001987259,
                    -2.26094533575523,
                    -4.10818548975854,
                    -3.903108764373871,
                    -4.897909071382452,
                    -4.787362488303074,
                    2.166591046825167,
                    1.2749101896296804,
                    -4.098237967944475,
                    -1.4809007312457263,
                    2.118771910611086,
                    -1.9364381918718812,
                    7.366979203030808,
                    -3.228098789023295,
                    -2.977987377025825,
                    -3.2256095849572315,
                    -4.666708759441966,
                    2.4916047062291162,
                    2.3177452779908974,
                    2.032282169603492,
                    -0.6953832277179073,
                    -3.31519021442568,
                    -4.4396843807834205,
                    -3.8733162719637066,
                    3.538156042331436,
                    -2.5210649777488277,
                    4.8677416000354246,
                    -3.1719592509092847,
                    7.519533026457259,
                    0.11900548964559977,
                    -2.0889466377055257,
                    -2.2122985966496254,
                    5.156386931213208,
                    -2.3043469508286534,
                    -2.5977166636040447,
                    -3.4440812773742433,
                    -1.3306597202597237,
                    -3.414703246546639,
                    -2.070452338688483,
                    -4.102337825959921,
                    6.25147497928322,
                    10.996081786071361,
                    2.3491542880214737,
                    -3.1307847548443437,
                    -1.151537190615335,
                    0.15327938453946308,
                    -3.2638780440424235,
                    -3.1266306171663523,
                    -3.293977148766118,
                    -4.624067004896704,
                    -2.5778482970718994,
                    -2.5023612060281506,
                    -0.9038899157932305,
                    -3.2115169817033884,
                    2.9974009235717296,
                    6.36760729224076,
                    -2.327349398600295,
                    5.529091984826618,
                    7.394329382961841,
                    4.38773540756223,
                    -2.587903034514897,
                    3.8506713811300104,
                    3.7643682750600433,
                    -2.7039760095009204,
                    -0.25688784249312896,
                    1.734910549047055,
                    -3.1250545818512663,
                    -1.7326030902767122,
                    3.917668232544606,
                    -1.0914460902789354,
                    -3.3791996961390556,
                    -1.7053438081669805,
                    -0.5810961143147205,
                    -2.403889964739988,
                    -0.23155411324012823,
                    -2.188484753377854,
                    -3.4879972238428616,
                    -0.6948640822491867,
                    4.860375760215558,
                    -3.7331605114593134,
                    -3.7125498413928066,
                    4.329083961641067,
                    7.791190947636261,
                    -2.130292198501962,
                    -2.9988354143390668,
                    -0.6505360777342561,
                    -2.039537562758976,
                    -3.858562142424165,
                    -2.8076813282030817,
                    6.412133373806605,
                    -3.50470190587824,
                    -2.1231848912823663,
                    -2.572010059679877,
                    -3.724300222315341,
                    -2.4689418227697604,
                    -1.258850892314475,
                    -1.5049522946773184,
                    2.9980014983888155,
                    -2.084563824910096,
                    -3.0097329187917947,
                    -3.0212803584080676,
                    -4.08072431017866,
                    -0.005637003943336789,
                    -0.6001078757599898,
                    -2.056428718771446,
                    -2.755349503170111,
                    6.131592195403399,
                    -3.0208836353577917,
                    -3.4247796350527864,
                    -2.14204458800754,
                    1.7321064713246672,
                    -1.8054280450103823,
                    -0.5287419055047615,
                    -2.007198478642633,
                    -4.749369901207239,
                    -1.4539317386564974,
                    -2.4257462093297124,
                    -4.709776018982033,
                    -3.998410301836777,
                    5.082807630484781,
                    -1.094025084126245,
                    4.734540899824339,
                    4.62455929517913,
                    -2.290067307005824,
                    0.9425184049069383,
                    -2.3461974876109863,
                    -2.2319293774726487,
                    -2.699291454485903,
                    -3.280274596138039,
                    -0.4947390006001141,
                    2.715535788515205,
                    -3.5230657501569396,
                    -3.9899673943358573,
                    1.2695639504647829,
                    -1.4029567761604065,
                    3.487455119305629,
                    -1.6691449772363485,
                    -1.3667280044434675,
                    4.559259782245861,
                    -1.2534327249462172,
                    2.7654853555885377,
                    -2.3251543767052376,
                    -1.3105637803462522,
                    -2.917171802931886,
                    -1.9528800288422725,
                    -1.4645181986637592,
                    -2.8742847491872094,
                    -3.235184756124233,
                    -4.143706500299293,
                    3.6963918632832544,
                    16.259206257876325,
                    -2.633212271753763,
                    -3.059399245648015,
                    -2.8353186481676507,
                    1.1429952690697036,
                    -0.5749665020331743,
                    -3.924070200276618,
                    6.0402882393932575,
                    0.422715819349987,
                    -2.803870158720034,
                    -2.1535819719858886,
                    -1.5127443686320952,
                    -3.6049510466424435,
                    -2.1294900393486906,
                    -2.1114376890735045,
                    -0.6640658929316225,
                    -3.239051544845024,
                    -2.3313015467026874,
                    3.983023711545353,
                    -3.0705149982219666,
                    -2.5602581087861247,
                    -1.4083570073641163,
                    -2.3313563668757395,
                    -0.21711771272831104,
                    2.0237319882072593,
                    -2.3657434040549665,
                    4.947755700996591,
                    -1.8631808979837554,
                    -0.40180418677278035,
                    -2.970947807942148,
                    -1.740841884965768,
                    3.3193060030399453,
                    -4.143570888462774,
                    -2.882148968715408,
                    -1.5868602054423675,
                    -0.3996391975447561,
                    -2.643159720639739,
                    3.9125338370587492,
                    5.2818848625760895,
                    -0.7478032266325046,
                    2.9773262472272792,
                    -1.5569632016151667,
                    7.414997149136243,
                    1.0052617681222622,
                    0.7808295952665487,
                    -1.400461387919573,
                    -1.4408562517792944,
                    -1.2873792333131884,
                    4.254674001903159,
                    -2.0395976167662626,
                    -2.8484860049356513,
                    2.446609335724779,
                    -1.2599614034791002,
                    -0.4109407607700202,
                    -2.4500256393169946,
                    2.9425634984567886,
                    3.610637837687476,
                    -0.3736092011105035,
                    -1.3243119577800095,
                    -1.486825859118812,
                    8.742576652904594,
                    -4.478293312165416,
                    -0.7766904852814592,
                    -3.356844180957124,
                    -3.465753971859903,
                    -0.9915455302712995,
                    -3.23175876103705,
                    0.13388558418554944,
                    -2.5761696669331604,
                    -1.6663093144100345,
                    -1.8941914722075996,
                    -2.761297960709219,
                    4.239681457071367,
                    -2.2706122255097183,
                    5.350709226845248,
                    0.8083816241930994,
                    0.13548553030430047,
                    -4.289382451844997,
                    -1.3505811076505514,
                    -1.832794191149881,
                    0.814096505885283,
                    -1.41165285657167,
                    -2.4565318608421434,
                    -1.7917096433430948,
                    -2.0338862057463754,
                    -4.304529861180509,
                    -2.8091960073697204,
                    -3.9211290667378833,
                    -2.659392689854477,
                    -4.745519443860904,
                    -2.159392944045922,
                    -2.9692489559478705,
                    -3.6172182656769474,
                    -2.253639723023226,
                    -2.1904509696820273,
                    -3.969396889868431,
                    -4.13749827099753,
                    -0.26729870647689347,
                    -1.244624199976568,
                    -0.6348356008498571,
                    -4.8976076384845575,
                    6.042540204139475,
                    8.812460668605686,
                    6.593983390281851,
                    4.0248332699501566,
                    1.530077270927209,
                    10.405007894827714,
                    -5.504861584435202
                  ],
                  "y": [
                    2.1161956282468553,
                    -3.7847758591240708,
                    -1.0055789638419066,
                    10.318716365676764,
                    -1.9055791363495576,
                    3.8850186004309992,
                    -2.7276959617732475,
                    2.284871662859034,
                    3.3444865712208816,
                    7.746954551547356,
                    -2.7836614035563696,
                    0.03310050189857208,
                    2.874926534409433,
                    -1.0460592768154415,
                    4.848957904867082,
                    2.9534955528143745,
                    -1.663882883670184,
                    1.4223756536584,
                    -4.059543513142758,
                    -0.16544947118818923,
                    0.5760999459505707,
                    1.621839084295513,
                    3.3281976642599225,
                    -5.097892594936592,
                    -1.5102800177936675,
                    2.1249545069623954,
                    2.132888640317071,
                    -1.8630424395835243,
                    0.5238751854794337,
                    -1.5589752189047963,
                    -0.684399313761733,
                    3.9518373445133506,
                    0.35739640739127615,
                    -1.1038544943534259,
                    0.7180439465313505,
                    -0.3922808754480551,
                    0.8323758427121237,
                    -1.448062794014144,
                    -3.439740196757382,
                    0.7849060108345971,
                    -2.0926607460936757,
                    2.125309594665533,
                    2.192183618389966,
                    0.8908397417863947,
                    -0.27421992263681205,
                    -0.08469983063832745,
                    1.4039423285059025,
                    2.2667945623330614,
                    0.08587814402084082,
                    -1.1986112588412539,
                    -1.3171245004594059,
                    -1.715516200304054,
                    -0.5374008836242699,
                    -1.1215455907868537,
                    -2.2439301115401644,
                    0.12851986812170943,
                    -2.273003966650672,
                    0.9148499986359385,
                    -1.8218381966277482,
                    2.3285317106232353,
                    2.747135245117087,
                    3.1124960997493494,
                    3.0404085923723,
                    3.270906382585038,
                    1.4620185783334219,
                    0.6539659478937808,
                    2.2737044310044476,
                    -0.6968037699119142,
                    9.379324080450752,
                    -0.9672346258573612,
                    -4.437947027225057,
                    7.4566151519251225,
                    0.977534898745533,
                    -0.0006804094059019212,
                    -0.7138132141945772,
                    -2.0116243131413465,
                    2.006778504110942,
                    1.010469906871707,
                    4.983133656803944,
                    -0.2577907755241386,
                    1.715146394938264,
                    2.588350999885296,
                    -2.0319824783855425,
                    0.8325976492092559,
                    0.4827850783121947,
                    -1.6677473898773907,
                    0.0839864330215574,
                    -2.209831395889808,
                    0.9513647510099361,
                    1.116903243967065,
                    -1.6016643433676163,
                    -0.6198294019860668,
                    -2.8981955318913823,
                    -0.9621368599417862,
                    0.5340875417756792,
                    -2.0867657923800773,
                    0.20613370547236382,
                    1.137530635811294,
                    0.3407161100896723,
                    0.548081499320899,
                    -1.5085752826679877,
                    3.440066089896983,
                    -1.468524560212895,
                    1.8329833174947867,
                    1.401299692464809,
                    4.010835343670562,
                    1.8197430671357187,
                    -1.076538579580497,
                    1.2715217753931454,
                    0.6454692975087561,
                    2.5871793539561767,
                    2.3432429113030344,
                    4.107384659053467,
                    3.5766206138645034,
                    3.216836476709353,
                    0.297714180661371,
                    3.6888177695665965,
                    1.5342454428356735,
                    2.4044703170066506,
                    -2.37671334248938,
                    0.3351247484114596,
                    -1.3175744270208383,
                    2.6333773870481583,
                    -0.02539544108811685,
                    -0.7291937640961883,
                    -1.905458712622069,
                    -1.052631014830546,
                    -3.557902509492803,
                    1.4127096605308753,
                    -1.4529612214768315,
                    1.4193891265296805,
                    -1.1139261955091029,
                    -1.2248446232371544,
                    -1.5223191588710068,
                    -2.861586555589829,
                    -0.5877868855862013,
                    -0.48507868818007566,
                    -0.4549768791100533,
                    0.8955297712602279,
                    1.3401894219500157,
                    0.48614648739902866,
                    -1.3258941880184074,
                    0.8821383333120326,
                    -0.09339469870581045,
                    -0.9495358015002384,
                    3.7413017850958914,
                    4.778665028623952,
                    1.1704336114243061,
                    -0.341969555696404,
                    -2.257719452544316,
                    0.3217370424490365,
                    7.183070120598034,
                    12.873425761507617,
                    0.20251788481617095,
                    0.9675920963423552,
                    -0.011744889269240466,
                    -0.34398623390255656,
                    -3.011901235478084,
                    -0.720372097184777,
                    -1.1741259087002573,
                    1.8282476554479512,
                    -2.870328729451723,
                    -1.9390497569191492,
                    1.4863947545143756,
                    -4.09399821897064,
                    -2.759296024611079,
                    -0.0579978566674663,
                    -2.0892555111700504,
                    -1.7215927146027648,
                    -1.834889447376686,
                    0.10202588208671028,
                    -1.8138415541055743,
                    1.2371812227429781,
                    1.5923968036228877,
                    -0.2894093790627681,
                    0.9320004721430084,
                    7.121145735468759,
                    0.6828977082583922,
                    -3.460137096764324,
                    -1.2896658262623193,
                    -5.409678473157768,
                    0.7188301051867197,
                    -1.6973745166817193,
                    0.541972756519718,
                    -1.117410596897571,
                    0.7628252856940815,
                    -3.666237916387964,
                    -0.4216338082452286,
                    0.11474191176891159,
                    -1.1324644607762646,
                    8.06699686703214,
                    -0.5066581250277997,
                    -0.5573716247550049,
                    2.6980989928499035,
                    1.5310918366883777,
                    -0.9897949782017995,
                    2.2417483860273553,
                    -2.4742654154838624,
                    -2.279485710521554,
                    0.284235132159328,
                    0.12740215857045567,
                    -2.1530737487064413,
                    -0.4895589573450881,
                    3.0753482508573637,
                    0.6825445683069336,
                    -0.8188972787066354,
                    1.2568756961210386,
                    -2.8619386687064,
                    2.1207638699755744,
                    -2.4648797386164305,
                    -2.9581432131716716,
                    -0.42720291255330545,
                    -7.166700361342261,
                    2.627256710434649,
                    2.565600560283294,
                    2.072365050654348,
                    2.3195181460694707,
                    1.0759745951402433,
                    -2.7869654557174663,
                    -4.637533134682094,
                    -0.7416489919817356,
                    0.46542827394957115,
                    1.7736983474677834,
                    0.09506715720094057,
                    -1.4270723152041056,
                    -1.203022501134577,
                    0.4783884002550101,
                    -0.5648598364918441,
                    -0.19616059936484656,
                    3.4123520122884683,
                    -0.15023240016921338,
                    -1.4170448191857452,
                    -1.349801673643056,
                    -3.9358599343862606,
                    1.101029862143244,
                    -1.3562721763080052,
                    -3.995189010095417,
                    -3.94742567784527,
                    -1.0933388158008024,
                    -2.1736039030636527,
                    -1.2131167684262827,
                    -1.8086010887229658,
                    4.869379961177124,
                    -1.5642904133706896,
                    -1.010946381710417,
                    2.0672595177046658,
                    -1.2031058985864862,
                    2.4455310184602173,
                    0.6934714707408589,
                    0.44378139045528314,
                    -1.9449817224908406,
                    -0.6736527948034586,
                    0.6303551844115858,
                    -1.8421483750412309,
                    -2.799981387744871,
                    0.30089584079823617,
                    -1.7294061473525857,
                    3.9329116354665974,
                    3.4439661750904613,
                    1.024015536828068,
                    -3.3837767752319508,
                    -3.617085910278562,
                    -0.9720959463084188,
                    -3.277019739235676,
                    -2.5375037495652593,
                    -5.893865045539291,
                    1.7068923458437586,
                    -1.0926606341576062,
                    -0.0018385827556938856,
                    3.1916807017549016,
                    -3.2270721617042466,
                    0.3746313169122228,
                    -2.922473234223764,
                    1.539180077687654,
                    -3.2322599544240527,
                    0.8868099304684484,
                    -0.3852455393046879,
                    -3.5450280075690728,
                    -2.667584996996186,
                    -0.8967356326525333,
                    -1.3099944074526224,
                    -0.13403030688516585,
                    -1.8983371544034144,
                    0.5421370636357358,
                    0.045721609933808326,
                    -1.427862959572395,
                    1.7387240569479445,
                    -2.0298308900286255,
                    3.816291827625609,
                    0.32750155750355964,
                    4.467292545018592,
                    -0.7664290709939869,
                    1.4027858894800214,
                    -0.29905892877689055,
                    -0.8432475310579349,
                    -1.4722284719441752,
                    -0.6052750538378663,
                    -0.9776527527028966,
                    -2.549051082837214,
                    0.7206851429540052,
                    -1.3790602827060483,
                    0.618754290296428,
                    0.1806125833450547,
                    0.8422108537062422,
                    -0.200143024121647,
                    -0.33527444516901583,
                    -1.575800772676514,
                    0.4614642953125356,
                    -3.122923833795213,
                    -2.581928564926628,
                    -0.1139991456361836,
                    -3.1602647739370133,
                    0.002058116072388484,
                    -0.2979057223394015,
                    4.347335782151904,
                    -2.410742313737674,
                    -1.863067547590249,
                    -2.4384879240353987,
                    6.612906529189372,
                    -1.4321785149226265,
                    3.491735125718212,
                    -4.347111842796275,
                    0.39699851267313596,
                    0.04901764845915494,
                    -0.7747060977549796,
                    -0.4908938501975589,
                    -1.792104368599188,
                    -1.9017116463218686,
                    -0.3935144761189272,
                    1.0906511006928115,
                    -0.3234692056882789,
                    1.3023506813807222,
                    1.0656234945086047,
                    -0.8283000073379911,
                    -0.9605525471046049,
                    -1.5700434595657509,
                    0.981434225695009,
                    -0.9357698544830458,
                    1.0986315512040057,
                    -5.106640427377886,
                    0.2924042675718057,
                    2.536040945479149,
                    1.7933251991122805,
                    -1.284109607345965,
                    0.9524588431523483,
                    3.4467672075879183,
                    -0.6047262439736643,
                    -1.2876017572641936,
                    0.4294501797431125,
                    1.4628619449711229,
                    -1.4036622277909756,
                    5.1766445377767445,
                    -3.468164029929717,
                    0.25496742944270023,
                    0.2396869906223435,
                    0.8462339031156741,
                    2.1959290714970585,
                    -1.8755498356349691,
                    1.6216529555665156,
                    0.5463740809102958,
                    -2.817155548085262,
                    -1.1997777477100586,
                    -0.2646256092677137,
                    -2.078442080929839,
                    -1.5203165255711573,
                    -3.95101926949211,
                    -1.2894135547972132,
                    -0.3697938799008765,
                    -6.628789731274848,
                    -3.524893138244823,
                    1.1781595855787863,
                    -2.0207293744095796,
                    -1.942165076079207,
                    -3.8456330770903118,
                    -1.120237690311034,
                    -0.07754115819436785,
                    6.545254032609287,
                    -2.2163854091364774,
                    0.29852602642532544,
                    5.932975000098063,
                    2.317966920811548,
                    0.1626528584553779,
                    1.001577805081139,
                    2.1992613923411883,
                    -0.9357676023415414,
                    -1.4289289142932222,
                    0.32708469192836837,
                    -2.47002535021313,
                    3.7634944778705424,
                    -0.13592177721704146,
                    0.7357096460389421,
                    2.5590708162446485,
                    0.7775092322605004,
                    -0.7476070573765252,
                    0.42401679262271386,
                    -1.719330305725234,
                    0.1426284954512402,
                    -0.6278663109288203,
                    -0.377440022703932,
                    -0.23993772600052285,
                    2.091915829366586,
                    -1.0304391314077344,
                    -0.28418049709203363,
                    -0.3549320232991445,
                    -1.2691841410584928,
                    0.6767823615312635,
                    -1.9315697215666796,
                    0.40791198485336067,
                    -1.1028538172025595,
                    -0.17570110775188386,
                    -0.5350404813733596,
                    0.34096621898471347,
                    0.9002356134916486,
                    -0.37844181124427684,
                    -2.2306337642522123,
                    0.88722843306895,
                    2.4784540130676667,
                    -0.00024976298551924477,
                    -0.034272359114564145,
                    -0.06460918396083648,
                    0.7751248738116463,
                    2.443614114624971,
                    0.8668969524405982,
                    0.1582165338048465,
                    2.546531144180594,
                    -0.5132906419590122,
                    2.5683571059196884,
                    0.3869719857618963,
                    -0.851901589452028,
                    -2.071321389346246,
                    3.031717786281668,
                    2.50760527657645,
                    -0.7835482558458595,
                    -0.9516886790303012,
                    -1.802327775927405,
                    0.33093305615956276,
                    -0.46299215783421305,
                    -1.1873496453723655,
                    -1.8406545329256532,
                    -2.2561407299421075,
                    2.2307255742395444,
                    -1.5251196533080282,
                    -2.1605324135112625,
                    0.6839508885256473,
                    -2.280887781935045,
                    1.0826519084496615,
                    -1.799064522767105,
                    -1.028352148814915,
                    -1.5620586997846944,
                    -4.01058440765591,
                    1.8420730612818863,
                    -2.5478923561493616,
                    0.01772800224680137,
                    -0.4446062463558632,
                    -1.047268133345794,
                    -1.569323149145185,
                    0.7869463776741252,
                    -1.6934582339244024,
                    -2.108868100640073,
                    -0.5508517070480001,
                    -1.6672536049599838,
                    -7.313433359652341,
                    -2.5046330070758027,
                    -0.10238407127584997,
                    -1.812232861727724,
                    2.203800768551769,
                    0.16144639253052345,
                    0.843708893420473,
                    1.317125864758917,
                    3.493606794824024,
                    1.4197301667668722,
                    -0.8919665228231275,
                    -1.7486686098118251,
                    -1.2818765210230538,
                    1.8874387963863057,
                    -0.21089326443405476,
                    -0.9259364332086769,
                    -2.1166827018548804,
                    1.2739564755142088,
                    2.3137368011203048,
                    -0.7032330819250041,
                    -2.370378969378487,
                    0.5202037939671373,
                    -1.3038766488372824,
                    -0.17370039999866846,
                    4.5252797442643224,
                    -2.4689942892023704,
                    -1.4552881625991112,
                    1.0030084508515889,
                    -2.581753067609935,
                    -1.0119632965016774,
                    -4.513450363248945,
                    -1.23246939523623,
                    -0.5976837274817257,
                    -1.0940903788734266,
                    -1.5699056792524426,
                    1.5501833985544673,
                    -0.7867551329795894,
                    -1.036344634239296,
                    -1.9678904211621182,
                    -0.7899065685205277,
                    3.3404849046035823,
                    1.5152918111081994,
                    -5.341799776570696,
                    7.804047272506211,
                    8.36351550362834,
                    1.6049094549122587,
                    4.123213207976884,
                    -1.6334573957525422,
                    2.8008599763116977,
                    1.6820655305012686,
                    -2.1685332466604583,
                    1.8804978735115958,
                    -1.3747023452719904,
                    -2.0606162316173724,
                    0.773483178890293,
                    -1.9654215193143818,
                    -2.3319777999283797,
                    1.1237503198301724,
                    1.0290808080565335,
                    4.968938313927394,
                    -3.2899039018893883,
                    -0.8582057600417455,
                    0.6716954666203798,
                    1.245159976574551,
                    2.616392362317649,
                    0.1094207537383505,
                    -0.9113386992808824,
                    1.6312496286234324,
                    0.5840566422983169,
                    0.4202933215026644,
                    0.7908617509771964,
                    -1.5061615385917628,
                    -2.901340511747886,
                    1.5106907406457357,
                    -2.3223291123991583,
                    0.28443212694514314,
                    3.5815131812753367,
                    2.2943306778117103,
                    5.609339541505134,
                    2.4072067558997774,
                    1.1695920777369933,
                    -1.7973102441041922,
                    -1.693772849549516,
                    -0.20177015868272907,
                    -1.1316871621069111,
                    0.11754298692318303,
                    2.2897356244960934,
                    0.44643133556927567,
                    0.21298342519315847,
                    -0.8357597968544308,
                    1.2580948672134902,
                    -1.4791616880141232,
                    1.766621382941364,
                    -0.836949208208589,
                    1.6107510452180163,
                    1.0342006158744446,
                    0.0686024028865077,
                    -0.14882849177258237,
                    1.3163326202697074,
                    -0.13104694501687483,
                    -2.2010593861324854,
                    3.509676357347277,
                    -0.4053047214416755,
                    -3.45494708839051,
                    -3.5560061309180147,
                    -1.9588714748620988,
                    1.849077918406625,
                    -0.7663484121962855
                  ],
                  "z": [
                    -0.9481091524068722,
                    -0.5028249637883744,
                    -0.48714898717846916,
                    -3.339501075452659,
                    1.4540001284144368,
                    -3.038698365644019,
                    -1.6549862472393486,
                    -0.9945565740684787,
                    -3.22775835020417,
                    -4.4452943955244475,
                    -0.6326049582778682,
                    -1.572765584627746,
                    5.744768365653279,
                    1.583339598292259,
                    -2.903562152658948,
                    -3.227764571651923,
                    -0.9227155015652859,
                    -2.3069823977449917,
                    -0.24641878677162413,
                    -0.5177245552911253,
                    -1.7389206923444303,
                    0.4377798341968641,
                    -1.4687572800215358,
                    -0.7039428244342202,
                    -1.6892498641800042,
                    0.04176966936933819,
                    -3.9687266300358957,
                    2.5453085257599097,
                    -2.82008095596282,
                    0.13208607593270727,
                    -0.32483940824847496,
                    -3.1123699254462,
                    -0.7932683889182547,
                    -2.5519451633915873,
                    -3.5295851185600657,
                    -1.9611383005833365,
                    -1.6980399051891335,
                    1.7067082807848828,
                    4.157356419735006,
                    -2.8155410716640485,
                    -1.3553700908889945,
                    -2.119180089327608,
                    2.206178803408261,
                    -2.4301434444478174,
                    -3.4442272998218293,
                    -1.6176321003611294,
                    -0.03405138641984905,
                    -3.1997770108637673,
                    -1.4410386928466676,
                    -0.34243855761801906,
                    0.9981979033086428,
                    -0.4551121690572007,
                    -0.15018015542110058,
                    0.8137022071064323,
                    -1.5288251467321372,
                    0.41407465594926746,
                    -0.6904102574361569,
                    -2.037823555587991,
                    1.2738659977152247,
                    -1.2833021094333783,
                    1.181229940095783,
                    1.2992480148348018,
                    -0.21221009510135358,
                    2.749955875126243,
                    -1.9465697762396776,
                    -1.5941102776469935,
                    0.37890319983174225,
                    0.5737069866297041,
                    1.589234998770252,
                    0.22147609035366664,
                    0.33490118120116247,
                    3.8245718596611566,
                    -2.208871279313345,
                    -2.1421756226980646,
                    -0.549789251420118,
                    1.0462276400109163,
                    0.8567421591673272,
                    0.17506665237255883,
                    2.0855202186004673,
                    -0.6149588884722581,
                    0.38496680814419676,
                    -1.8066440518381037,
                    0.25325570276169906,
                    2.6241451559906963,
                    -0.9380084781421665,
                    0.12479288733189486,
                    1.4726755052887845,
                    -1.705751504077415,
                    -0.030787242213159257,
                    0.06681162684190493,
                    0.3491392114491565,
                    0.462877423665146,
                    0.5989069036293146,
                    -0.049387715926009025,
                    -0.6552154653941081,
                    0.5817739422548951,
                    1.042657099235154,
                    1.4645296240557322,
                    -1.3086947078153333,
                    -0.3509673567711967,
                    -0.24869697334912821,
                    -0.32277275373872827,
                    -0.1209683752871284,
                    -0.5808803781835169,
                    0.9335069812240808,
                    -2.7818523323262667,
                    -0.5608202332476361,
                    -1.4794957948632996,
                    0.8463941801910944,
                    -1.1090752375937682,
                    1.6239526351110267,
                    2.130599087723869,
                    2.2130187331630773,
                    1.7021371714248628,
                    -1.7015347983290265,
                    -0.5247278654956221,
                    3.6220684066250657,
                    -2.6709805003921,
                    -1.9711358827371992,
                    0.46413338196403,
                    -2.019379060813746,
                    0.7142847008815959,
                    6.49017179180218,
                    -1.0130114314345575,
                    0.3258323540763414,
                    -0.6313905166554623,
                    -2.318486790339482,
                    1.2395172022515433,
                    0.774348273020452,
                    -1.1635683242501247,
                    -1.0331238112061902,
                    -1.3280766139281488,
                    -1.3064278457586207,
                    -0.5422335922227177,
                    -0.6063328256158946,
                    -0.6062540602993567,
                    1.865082793599758,
                    -0.6772539397563889,
                    3.62200602974326,
                    1.1669676454588047,
                    -0.8680514776825893,
                    0.48557698999724314,
                    0.3279871314644165,
                    -1.3938312063074707,
                    0.6267626623336007,
                    0.7014717431922127,
                    -1.186292702252659,
                    2.3185141438851984,
                    -0.9282829096567324,
                    -0.4120012393373346,
                    0.561911905804584,
                    -0.12272664440404515,
                    7.4936313779045625,
                    -0.09982195656591429,
                    -0.835458201389317,
                    -0.7834555044119469,
                    1.4413672806565656,
                    1.5415618002827893,
                    -0.8787487673870733,
                    -0.25936442081099387,
                    1.485384215173283,
                    3.0577532932495,
                    -1.4649537706622848,
                    0.8343275671310489,
                    -0.5005330323956609,
                    -0.12476640259073447,
                    -0.9227913828780882,
                    0.912179845216621,
                    1.2013593202071868,
                    -0.2114329401374272,
                    -0.44737920186110874,
                    -0.5016824803851043,
                    -2.156471715981049,
                    2.6271991758225153,
                    1.4940797248499713,
                    0.2564842472096529,
                    4.267216354300374,
                    -1.0968883955951607,
                    0.41115878788563015,
                    0.5982800010199474,
                    -0.404832813670812,
                    -3.01505671150829,
                    -1.6182167402836423,
                    1.7420122245266063,
                    -2.7049750628021765,
                    0.9557303355633366,
                    -2.2640696264960063,
                    -0.3257611656177845,
                    0.48842772394135153,
                    0.18058150233097311,
                    -0.4418235649908476,
                    3.320480841760186,
                    3.9796962661551483,
                    -1.1413330176811813,
                    -0.3020235036383108,
                    -0.34900397636061925,
                    1.1568574767363173,
                    2.4157415659979287,
                    -1.2426355881872038,
                    -3.943335952975249,
                    -0.1969387138020699,
                    -1.0131931292893677,
                    0.33706628557307333,
                    -2.398681875147266,
                    -0.5923323619795455,
                    -2.3596781269697784,
                    -0.08316661983589257,
                    0.3695201453299663,
                    -2.0367591704860204,
                    -1.331977585830539,
                    2.7808362751805,
                    -0.5887963952093093,
                    10.473324235555609,
                    6.965228319952616,
                    0.02829612826659957,
                    -1.9057402912478516,
                    0.6439873900361527,
                    1.6829633889288023,
                    0.9628559108824528,
                    -0.019370620471924668,
                    -1.4371505914628098,
                    -1.3496838298700988,
                    -0.2629968499307851,
                    -2.7178812769280585,
                    -0.27005119298392916,
                    0.3795744934850102,
                    -0.8994498088820065,
                    -1.2192561561833795,
                    -1.0772063276737198,
                    -2.5917245700560234,
                    -2.909214730361289,
                    -0.4143078923706648,
                    0.31559821225920465,
                    -0.21551271610636502,
                    0.14228258371419072,
                    0.23967426365858346,
                    0.20502934917654647,
                    1.3842355683242118,
                    1.2397173951805696,
                    -1.1994772674444607,
                    -0.1251904312017746,
                    -0.8766547226401907,
                    -0.6131510502904292,
                    1.3025779973481955,
                    0.8547108471756208,
                    2.3317093052806896,
                    0.257519302470781,
                    -1.4652808970584867,
                    -0.6203460600999213,
                    -0.5773781622966916,
                    1.210606599757806,
                    0.31821273403929395,
                    -1.1825031072531773,
                    -1.7182795611204813,
                    -1.7123283380119996,
                    -1.1090198057594225,
                    0.5282573615965689,
                    -0.8503727912080817,
                    2.932844038790802,
                    -3.6527381857727503,
                    -1.7926498683864067,
                    0.05124928118442313,
                    2.5149893901111833,
                    -1.205507920330732,
                    -2.04339481381896,
                    1.0608756504717578,
                    1.1772800244428592,
                    1.3457397076552071,
                    -0.4344915212684356,
                    1.4717418435489757,
                    -0.1580782921615629,
                    -1.077336441191222,
                    1.634641694634873,
                    0.6542554038826691,
                    -0.22890747643730316,
                    3.0697214922596405,
                    0.35553489382403375,
                    0.2343151134617902,
                    -0.04700666875148578,
                    -0.8032072981739827,
                    -1.4608811053999535,
                    1.818792105927308,
                    -1.728711126773113,
                    -2.0294862451454216,
                    1.6248241081895596,
                    0.852261420319208,
                    1.0590336387584203,
                    -0.2043688191315875,
                    4.594481659109773,
                    1.1848431167636315,
                    5.991614869019612,
                    -1.0053513838571164,
                    -0.7994476814451597,
                    -0.4778741176815692,
                    -0.7674695169007062,
                    -0.531565146938807,
                    0.8921586518326606,
                    1.7805196770775114,
                    -0.8211101443532643,
                    1.7133779662268969,
                    0.46297281348275365,
                    1.1832629556739416,
                    2.0686069214815213,
                    0.20979726537100113,
                    0.6316249066552563,
                    1.1970361741717777,
                    -1.1149863518915515,
                    0.48282242855407126,
                    -0.028894584446382997,
                    0.4007057548322321,
                    -0.30846225708570546,
                    0.20559857400781936,
                    0.017509197807638117,
                    -1.2922397820483482,
                    3.763836574087487,
                    -0.1625185740462482,
                    0.18389062336827516,
                    -1.6905210018267134,
                    2.189342595140158,
                    3.1566522904802463,
                    1.1068174634286385,
                    0.3258464455083514,
                    -1.1737004368021073,
                    -2.7793584586052047,
                    -0.8325212670553279,
                    -0.46042522564597677,
                    0.018644539270674887,
                    0.056125089361029105,
                    -1.1408637624314184,
                    1.6645232592396462,
                    -1.7588727646538176,
                    -0.8535184497670388,
                    1.520649723381356,
                    -0.41889551586293255,
                    0.4010604320213875,
                    1.3109105037757145,
                    -0.7026112065537427,
                    -0.30236805291334784,
                    0.3174515076538178,
                    0.4767841762845457,
                    -0.9678465416445128,
                    -0.9936085068255618,
                    -1.1492887658844937,
                    0.8531494694245237,
                    -0.20856672867583137,
                    3.3838974249005727,
                    -0.21452183130301264,
                    -0.8148766416851384,
                    -0.9073061990252473,
                    -0.074924478237146,
                    0.5425174881888865,
                    0.4876086467455904,
                    -0.6025484060555565,
                    0.7398149449480629,
                    2.0184537106687768,
                    2.4109258962444113,
                    0.7604229216497895,
                    0.1201297964678529,
                    2.538928887758204,
                    0.46263634755678384,
                    0.9806107274838095,
                    0.34894877478736536,
                    -0.31845221994361494,
                    0.4093727097515122,
                    -1.1568218381173883,
                    -0.0027688477904918075,
                    2.7490255378416975,
                    -1.0716771585580527,
                    1.632026712435097,
                    0.010441822329305914,
                    -1.6401927248964763,
                    -0.6303596141808451,
                    -0.7825962413909952,
                    -0.9591136028996691,
                    -1.1843729804323644,
                    -1.542624785976525,
                    1.3495631658717242,
                    -0.30594962742670995,
                    -1.5143918232159999,
                    -5.005641281830711,
                    -1.5502168487077208,
                    -0.6229186981273173,
                    1.2103736566472785,
                    -0.8853530928681963,
                    -1.044456804051727,
                    0.8248529166441769,
                    -0.05871956357717994,
                    0.1042966799034172,
                    2.011781600430933,
                    3.70874645529139,
                    -1.1489008863882,
                    1.7528763070200717,
                    -0.9201042372723038,
                    -2.0379648276066016,
                    -0.10756001033213192,
                    0.3129844341285648,
                    -0.964903964418725,
                    1.5102335239695288,
                    -1.0410531542740324,
                    -0.3022557379613719,
                    -3.1440378250059906,
                    -0.6982529461408175,
                    0.6519903472021586,
                    -1.4445456392990486,
                    1.4057867756224376,
                    1.114019568192305,
                    -1.116091730885443,
                    2.50578874973555,
                    -1.2065017943738765,
                    0.41732545913595026,
                    -1.0497543760878583,
                    -0.9025684599177564,
                    0.1441628099423406,
                    -0.3873216375430103,
                    1.2192545526445564,
                    0.025228453423865236,
                    2.3059225154388074,
                    1.749997057664358,
                    -0.8547653533661157,
                    0.44446839595205073,
                    0.12151351377429842,
                    1.3707543087236835,
                    -0.9602532761003811,
                    -0.9101214671397857,
                    1.9522603187581375,
                    -0.06820482006027302,
                    -0.0568786549577733,
                    0.23881601922062173,
                    0.16859789613808857,
                    0.7029479170937775,
                    -1.7697549369667684,
                    0.3816088626848336,
                    -0.4972743681426909,
                    1.4241946285290394,
                    -0.359373554729427,
                    -2.8050339006642138,
                    -0.4413457128671855,
                    0.5419926225219709,
                    0.7749152140176157,
                    -0.10239153900374526,
                    0.08401789579133224,
                    0.509031000498842,
                    0.2582926150004009,
                    2.0530133173533396,
                    -1.7266689872988026,
                    0.2518378219575374,
                    -1.8440633796509,
                    -1.2306642070758924,
                    -0.2560072525205763,
                    -0.1390323835740358,
                    1.7974960517468315,
                    0.7399060826353285,
                    0.5814687494257851,
                    -0.3824593966278604,
                    -1.4504694374248068,
                    0.7883678576589687,
                    1.1818157322559428,
                    -0.21617799704900836,
                    0.05558971715349141,
                    0.5272095803350649,
                    0.8020293054968199,
                    6.702031903407604,
                    0.18382733466770915,
                    -0.7780928100454266,
                    -0.7102987926289026,
                    -0.7347280442170817,
                    -0.45950355774851004,
                    0.6316234992406113,
                    1.7511660192173863,
                    0.632916549571923,
                    0.3053369775282819,
                    2.790681566072825,
                    -1.3516824334488295,
                    3.24826771684471,
                    -1.9871195360670404,
                    -1.57296239130763,
                    -0.23544929667996736,
                    -0.9218077582717936,
                    -0.8660166642857902,
                    -0.01080546841323961,
                    -0.5850229877035134,
                    -0.37673672253962576,
                    -2.153874277358921,
                    -0.8445055078303139,
                    -2.094365721898588,
                    1.8926814216465182,
                    -0.7490582778364043,
                    -1.2245184017354993,
                    -0.060203875457715765,
                    -2.1070927880714763,
                    -0.8233420745236926,
                    0.9063812022577648,
                    1.253427917791471,
                    2.166667564353852,
                    0.8344558343732775,
                    0.36471119178626604,
                    -2.138556870900123,
                    -1.572076569492859,
                    0.5417175768324048,
                    -0.6599603379740516,
                    -0.5649408647928821,
                    -0.9060718113937902,
                    -0.3349371495229335,
                    2.106270031289806,
                    -0.647670453568726,
                    0.4296450543480925,
                    -1.32341828252651,
                    -0.4252056381606204,
                    -0.6192449447077836,
                    -0.6133723491808167,
                    0.17194491523690802,
                    0.05507379743955115,
                    -2.3866842737128597,
                    -0.44095624586739485,
                    -0.3966087361769981,
                    -0.35579188921541927,
                    -0.9782164153202049,
                    -1.1764933219820208,
                    -0.6026424568418985,
                    -0.6680008765016303,
                    0.30709913913089065,
                    0.019221176109224806,
                    -0.5134441014244845,
                    -0.4356887164867867,
                    -0.24459233412195028,
                    -1.8012697568188316,
                    -2.7456297263587155,
                    -2.141733733500497,
                    2.9237219137122143,
                    -1.124417725737234,
                    0.6154113362714368,
                    -2.0181537220038783,
                    -1.675386255759005,
                    1.677436202302904,
                    0.1663952788067507,
                    -0.34938924288311185,
                    -0.60515941777228,
                    0.043998085498152914,
                    1.1801287658141353,
                    1.209209122879337,
                    1.5087854563295056,
                    -0.5636337321608983,
                    0.40582412258053446,
                    0.3578327942455977,
                    -0.10607775136328589,
                    0.49245353543223735,
                    -0.3613559859742455,
                    -0.07848343338996322,
                    0.86908300666226,
                    1.3539660404956728,
                    1.4700070192824748,
                    0.48321677391106793,
                    0.7257030175591306,
                    2.6730743042567906,
                    0.5330089642671393,
                    1.751605121293455,
                    1.7715744381572152,
                    3.0845108675313346,
                    0.4803919347081547,
                    1.38555239301426,
                    1.0544145805166507,
                    3.256360500958494,
                    -3.32965241064555,
                    1.032449965726412,
                    2.570876426515898,
                    2.04737267722723,
                    0.46571815309590536,
                    -1.7793275693991022,
                    1.368623071411907
                  ]
                }
              ],
              "layout": {
                "annotations": [
                  {
                    "align": "left",
                    "bgcolor": "white",
                    "bordercolor": "black",
                    "borderpad": 4,
                    "borderwidth": 1,
                    "font": {
                      "size": 18
                    },
                    "opacity": 0.8,
                    "showarrow": false,
                    "text": "Explained Proportion: [0.44896035 0.18472104 0.09183385]",
                    "x": 0.05,
                    "xref": "paper",
                    "y": 0.9,
                    "yref": "paper"
                  }
                ],
                "margin": {
                  "b": 10,
                  "l": 10,
                  "r": 20,
                  "t": 10
                },
                "scene": {
                  "xaxis": {
                    "title": {
                      "text": "Main Component 1"
                    }
                  },
                  "yaxis": {
                    "title": {
                      "text": "Main Component 2"
                    }
                  },
                  "zaxis": {
                    "title": {
                      "text": "Main Component 3"
                    }
                  }
                },
                "template": {
                  "data": {
                    "bar": [
                      {
                        "error_x": {
                          "color": "#2a3f5f"
                        },
                        "error_y": {
                          "color": "#2a3f5f"
                        },
                        "marker": {
                          "line": {
                            "color": "#E5ECF6",
                            "width": 0.5
                          },
                          "pattern": {
                            "fillmode": "overlay",
                            "size": 10,
                            "solidity": 0.2
                          }
                        },
                        "type": "bar"
                      }
                    ],
                    "barpolar": [
                      {
                        "marker": {
                          "line": {
                            "color": "#E5ECF6",
                            "width": 0.5
                          },
                          "pattern": {
                            "fillmode": "overlay",
                            "size": 10,
                            "solidity": 0.2
                          }
                        },
                        "type": "barpolar"
                      }
                    ],
                    "carpet": [
                      {
                        "aaxis": {
                          "endlinecolor": "#2a3f5f",
                          "gridcolor": "white",
                          "linecolor": "white",
                          "minorgridcolor": "white",
                          "startlinecolor": "#2a3f5f"
                        },
                        "baxis": {
                          "endlinecolor": "#2a3f5f",
                          "gridcolor": "white",
                          "linecolor": "white",
                          "minorgridcolor": "white",
                          "startlinecolor": "#2a3f5f"
                        },
                        "type": "carpet"
                      }
                    ],
                    "choropleth": [
                      {
                        "colorbar": {
                          "outlinewidth": 0,
                          "ticks": ""
                        },
                        "type": "choropleth"
                      }
                    ],
                    "contour": [
                      {
                        "colorbar": {
                          "outlinewidth": 0,
                          "ticks": ""
                        },
                        "colorscale": [
                          [
                            0,
                            "#0d0887"
                          ],
                          [
                            0.1111111111111111,
                            "#46039f"
                          ],
                          [
                            0.2222222222222222,
                            "#7201a8"
                          ],
                          [
                            0.3333333333333333,
                            "#9c179e"
                          ],
                          [
                            0.4444444444444444,
                            "#bd3786"
                          ],
                          [
                            0.5555555555555556,
                            "#d8576b"
                          ],
                          [
                            0.6666666666666666,
                            "#ed7953"
                          ],
                          [
                            0.7777777777777778,
                            "#fb9f3a"
                          ],
                          [
                            0.8888888888888888,
                            "#fdca26"
                          ],
                          [
                            1,
                            "#f0f921"
                          ]
                        ],
                        "type": "contour"
                      }
                    ],
                    "contourcarpet": [
                      {
                        "colorbar": {
                          "outlinewidth": 0,
                          "ticks": ""
                        },
                        "type": "contourcarpet"
                      }
                    ],
                    "heatmap": [
                      {
                        "colorbar": {
                          "outlinewidth": 0,
                          "ticks": ""
                        },
                        "colorscale": [
                          [
                            0,
                            "#0d0887"
                          ],
                          [
                            0.1111111111111111,
                            "#46039f"
                          ],
                          [
                            0.2222222222222222,
                            "#7201a8"
                          ],
                          [
                            0.3333333333333333,
                            "#9c179e"
                          ],
                          [
                            0.4444444444444444,
                            "#bd3786"
                          ],
                          [
                            0.5555555555555556,
                            "#d8576b"
                          ],
                          [
                            0.6666666666666666,
                            "#ed7953"
                          ],
                          [
                            0.7777777777777778,
                            "#fb9f3a"
                          ],
                          [
                            0.8888888888888888,
                            "#fdca26"
                          ],
                          [
                            1,
                            "#f0f921"
                          ]
                        ],
                        "type": "heatmap"
                      }
                    ],
                    "heatmapgl": [
                      {
                        "colorbar": {
                          "outlinewidth": 0,
                          "ticks": ""
                        },
                        "colorscale": [
                          [
                            0,
                            "#0d0887"
                          ],
                          [
                            0.1111111111111111,
                            "#46039f"
                          ],
                          [
                            0.2222222222222222,
                            "#7201a8"
                          ],
                          [
                            0.3333333333333333,
                            "#9c179e"
                          ],
                          [
                            0.4444444444444444,
                            "#bd3786"
                          ],
                          [
                            0.5555555555555556,
                            "#d8576b"
                          ],
                          [
                            0.6666666666666666,
                            "#ed7953"
                          ],
                          [
                            0.7777777777777778,
                            "#fb9f3a"
                          ],
                          [
                            0.8888888888888888,
                            "#fdca26"
                          ],
                          [
                            1,
                            "#f0f921"
                          ]
                        ],
                        "type": "heatmapgl"
                      }
                    ],
                    "histogram": [
                      {
                        "marker": {
                          "pattern": {
                            "fillmode": "overlay",
                            "size": 10,
                            "solidity": 0.2
                          }
                        },
                        "type": "histogram"
                      }
                    ],
                    "histogram2d": [
                      {
                        "colorbar": {
                          "outlinewidth": 0,
                          "ticks": ""
                        },
                        "colorscale": [
                          [
                            0,
                            "#0d0887"
                          ],
                          [
                            0.1111111111111111,
                            "#46039f"
                          ],
                          [
                            0.2222222222222222,
                            "#7201a8"
                          ],
                          [
                            0.3333333333333333,
                            "#9c179e"
                          ],
                          [
                            0.4444444444444444,
                            "#bd3786"
                          ],
                          [
                            0.5555555555555556,
                            "#d8576b"
                          ],
                          [
                            0.6666666666666666,
                            "#ed7953"
                          ],
                          [
                            0.7777777777777778,
                            "#fb9f3a"
                          ],
                          [
                            0.8888888888888888,
                            "#fdca26"
                          ],
                          [
                            1,
                            "#f0f921"
                          ]
                        ],
                        "type": "histogram2d"
                      }
                    ],
                    "histogram2dcontour": [
                      {
                        "colorbar": {
                          "outlinewidth": 0,
                          "ticks": ""
                        },
                        "colorscale": [
                          [
                            0,
                            "#0d0887"
                          ],
                          [
                            0.1111111111111111,
                            "#46039f"
                          ],
                          [
                            0.2222222222222222,
                            "#7201a8"
                          ],
                          [
                            0.3333333333333333,
                            "#9c179e"
                          ],
                          [
                            0.4444444444444444,
                            "#bd3786"
                          ],
                          [
                            0.5555555555555556,
                            "#d8576b"
                          ],
                          [
                            0.6666666666666666,
                            "#ed7953"
                          ],
                          [
                            0.7777777777777778,
                            "#fb9f3a"
                          ],
                          [
                            0.8888888888888888,
                            "#fdca26"
                          ],
                          [
                            1,
                            "#f0f921"
                          ]
                        ],
                        "type": "histogram2dcontour"
                      }
                    ],
                    "mesh3d": [
                      {
                        "colorbar": {
                          "outlinewidth": 0,
                          "ticks": ""
                        },
                        "type": "mesh3d"
                      }
                    ],
                    "parcoords": [
                      {
                        "line": {
                          "colorbar": {
                            "outlinewidth": 0,
                            "ticks": ""
                          }
                        },
                        "type": "parcoords"
                      }
                    ],
                    "pie": [
                      {
                        "automargin": true,
                        "type": "pie"
                      }
                    ],
                    "scatter": [
                      {
                        "fillpattern": {
                          "fillmode": "overlay",
                          "size": 10,
                          "solidity": 0.2
                        },
                        "type": "scatter"
                      }
                    ],
                    "scatter3d": [
                      {
                        "line": {
                          "colorbar": {
                            "outlinewidth": 0,
                            "ticks": ""
                          }
                        },
                        "marker": {
                          "colorbar": {
                            "outlinewidth": 0,
                            "ticks": ""
                          }
                        },
                        "type": "scatter3d"
                      }
                    ],
                    "scattercarpet": [
                      {
                        "marker": {
                          "colorbar": {
                            "outlinewidth": 0,
                            "ticks": ""
                          }
                        },
                        "type": "scattercarpet"
                      }
                    ],
                    "scattergeo": [
                      {
                        "marker": {
                          "colorbar": {
                            "outlinewidth": 0,
                            "ticks": ""
                          }
                        },
                        "type": "scattergeo"
                      }
                    ],
                    "scattergl": [
                      {
                        "marker": {
                          "colorbar": {
                            "outlinewidth": 0,
                            "ticks": ""
                          }
                        },
                        "type": "scattergl"
                      }
                    ],
                    "scattermapbox": [
                      {
                        "marker": {
                          "colorbar": {
                            "outlinewidth": 0,
                            "ticks": ""
                          }
                        },
                        "type": "scattermapbox"
                      }
                    ],
                    "scatterpolar": [
                      {
                        "marker": {
                          "colorbar": {
                            "outlinewidth": 0,
                            "ticks": ""
                          }
                        },
                        "type": "scatterpolar"
                      }
                    ],
                    "scatterpolargl": [
                      {
                        "marker": {
                          "colorbar": {
                            "outlinewidth": 0,
                            "ticks": ""
                          }
                        },
                        "type": "scatterpolargl"
                      }
                    ],
                    "scatterternary": [
                      {
                        "marker": {
                          "colorbar": {
                            "outlinewidth": 0,
                            "ticks": ""
                          }
                        },
                        "type": "scatterternary"
                      }
                    ],
                    "surface": [
                      {
                        "colorbar": {
                          "outlinewidth": 0,
                          "ticks": ""
                        },
                        "colorscale": [
                          [
                            0,
                            "#0d0887"
                          ],
                          [
                            0.1111111111111111,
                            "#46039f"
                          ],
                          [
                            0.2222222222222222,
                            "#7201a8"
                          ],
                          [
                            0.3333333333333333,
                            "#9c179e"
                          ],
                          [
                            0.4444444444444444,
                            "#bd3786"
                          ],
                          [
                            0.5555555555555556,
                            "#d8576b"
                          ],
                          [
                            0.6666666666666666,
                            "#ed7953"
                          ],
                          [
                            0.7777777777777778,
                            "#fb9f3a"
                          ],
                          [
                            0.8888888888888888,
                            "#fdca26"
                          ],
                          [
                            1,
                            "#f0f921"
                          ]
                        ],
                        "type": "surface"
                      }
                    ],
                    "table": [
                      {
                        "cells": {
                          "fill": {
                            "color": "#EBF0F8"
                          },
                          "line": {
                            "color": "white"
                          }
                        },
                        "header": {
                          "fill": {
                            "color": "#C8D4E3"
                          },
                          "line": {
                            "color": "white"
                          }
                        },
                        "type": "table"
                      }
                    ]
                  },
                  "layout": {
                    "annotationdefaults": {
                      "arrowcolor": "#2a3f5f",
                      "arrowhead": 0,
                      "arrowwidth": 1
                    },
                    "autotypenumbers": "strict",
                    "coloraxis": {
                      "colorbar": {
                        "outlinewidth": 0,
                        "ticks": ""
                      }
                    },
                    "colorscale": {
                      "diverging": [
                        [
                          0,
                          "#8e0152"
                        ],
                        [
                          0.1,
                          "#c51b7d"
                        ],
                        [
                          0.2,
                          "#de77ae"
                        ],
                        [
                          0.3,
                          "#f1b6da"
                        ],
                        [
                          0.4,
                          "#fde0ef"
                        ],
                        [
                          0.5,
                          "#f7f7f7"
                        ],
                        [
                          0.6,
                          "#e6f5d0"
                        ],
                        [
                          0.7,
                          "#b8e186"
                        ],
                        [
                          0.8,
                          "#7fbc41"
                        ],
                        [
                          0.9,
                          "#4d9221"
                        ],
                        [
                          1,
                          "#276419"
                        ]
                      ],
                      "sequential": [
                        [
                          0,
                          "#0d0887"
                        ],
                        [
                          0.1111111111111111,
                          "#46039f"
                        ],
                        [
                          0.2222222222222222,
                          "#7201a8"
                        ],
                        [
                          0.3333333333333333,
                          "#9c179e"
                        ],
                        [
                          0.4444444444444444,
                          "#bd3786"
                        ],
                        [
                          0.5555555555555556,
                          "#d8576b"
                        ],
                        [
                          0.6666666666666666,
                          "#ed7953"
                        ],
                        [
                          0.7777777777777778,
                          "#fb9f3a"
                        ],
                        [
                          0.8888888888888888,
                          "#fdca26"
                        ],
                        [
                          1,
                          "#f0f921"
                        ]
                      ],
                      "sequentialminus": [
                        [
                          0,
                          "#0d0887"
                        ],
                        [
                          0.1111111111111111,
                          "#46039f"
                        ],
                        [
                          0.2222222222222222,
                          "#7201a8"
                        ],
                        [
                          0.3333333333333333,
                          "#9c179e"
                        ],
                        [
                          0.4444444444444444,
                          "#bd3786"
                        ],
                        [
                          0.5555555555555556,
                          "#d8576b"
                        ],
                        [
                          0.6666666666666666,
                          "#ed7953"
                        ],
                        [
                          0.7777777777777778,
                          "#fb9f3a"
                        ],
                        [
                          0.8888888888888888,
                          "#fdca26"
                        ],
                        [
                          1,
                          "#f0f921"
                        ]
                      ]
                    },
                    "colorway": [
                      "#636efa",
                      "#EF553B",
                      "#00cc96",
                      "#ab63fa",
                      "#FFA15A",
                      "#19d3f3",
                      "#FF6692",
                      "#B6E880",
                      "#FF97FF",
                      "#FECB52"
                    ],
                    "font": {
                      "color": "#2a3f5f"
                    },
                    "geo": {
                      "bgcolor": "white",
                      "lakecolor": "white",
                      "landcolor": "#E5ECF6",
                      "showlakes": true,
                      "showland": true,
                      "subunitcolor": "white"
                    },
                    "hoverlabel": {
                      "align": "left"
                    },
                    "hovermode": "closest",
                    "mapbox": {
                      "style": "light"
                    },
                    "paper_bgcolor": "white",
                    "plot_bgcolor": "#E5ECF6",
                    "polar": {
                      "angularaxis": {
                        "gridcolor": "white",
                        "linecolor": "white",
                        "ticks": ""
                      },
                      "bgcolor": "#E5ECF6",
                      "radialaxis": {
                        "gridcolor": "white",
                        "linecolor": "white",
                        "ticks": ""
                      }
                    },
                    "scene": {
                      "xaxis": {
                        "backgroundcolor": "#E5ECF6",
                        "gridcolor": "white",
                        "gridwidth": 2,
                        "linecolor": "white",
                        "showbackground": true,
                        "ticks": "",
                        "zerolinecolor": "white"
                      },
                      "yaxis": {
                        "backgroundcolor": "#E5ECF6",
                        "gridcolor": "white",
                        "gridwidth": 2,
                        "linecolor": "white",
                        "showbackground": true,
                        "ticks": "",
                        "zerolinecolor": "white"
                      },
                      "zaxis": {
                        "backgroundcolor": "#E5ECF6",
                        "gridcolor": "white",
                        "gridwidth": 2,
                        "linecolor": "white",
                        "showbackground": true,
                        "ticks": "",
                        "zerolinecolor": "white"
                      }
                    },
                    "shapedefaults": {
                      "line": {
                        "color": "#2a3f5f"
                      }
                    },
                    "ternary": {
                      "aaxis": {
                        "gridcolor": "white",
                        "linecolor": "white",
                        "ticks": ""
                      },
                      "baxis": {
                        "gridcolor": "white",
                        "linecolor": "white",
                        "ticks": ""
                      },
                      "bgcolor": "#E5ECF6",
                      "caxis": {
                        "gridcolor": "white",
                        "linecolor": "white",
                        "ticks": ""
                      }
                    },
                    "title": {
                      "x": 0.05
                    },
                    "xaxis": {
                      "automargin": true,
                      "gridcolor": "white",
                      "linecolor": "white",
                      "ticks": "",
                      "title": {
                        "standoff": 15
                      },
                      "zerolinecolor": "white",
                      "zerolinewidth": 2
                    },
                    "yaxis": {
                      "automargin": true,
                      "gridcolor": "white",
                      "linecolor": "white",
                      "ticks": "",
                      "title": {
                        "standoff": 15
                      },
                      "zerolinecolor": "white",
                      "zerolinewidth": 2
                    }
                  }
                },
                "width": 700
              }
            }
          },
          "metadata": {},
          "output_type": "display_data"
        }
      ],
      "source": [
        "# Perform PCA analysis\n",
        "pca3d = PCA(n_components=3)\n",
        "main_components3d = pca3d.fit_transform(normalized_cancer_data)\n",
        "\n",
        "# Create a new dataframe with the PCA results\n",
        "df_pca3d = pd.DataFrame(data=main_components3d, columns=['Main Component 1', 'Main Component 2', 'Main Component 3'])\n",
        "\n",
        "\n",
        "# Add the diagnostic and index columns to the new dataframe\n",
        "df_pca3d[['id', 'diagnosis']] = data_cancer[['id', 'diagnosis']]\n",
        "\n",
        "# View PCA scatterplot\n",
        "# Plot the arrow chart\n",
        "fig = go.Figure()\n",
        "\n",
        "# Add additional information\n",
        "proportional_explained3d = pca3d.explained_variance_ratio_\n",
        "proportion_explained3d = np.round(proportional_explained3d, 2)\n",
        "\n",
        "fig.add_trace(go.Scatter3d(\n",
        "     x=df_pca3d['Main Component 1'],\n",
        "     y=df_pca3d['Main Component 2'],\n",
        "     z=df_pca3d['Main Component 3'],\n",
        "     mode='markers',\n",
        "     marker=dict(\n",
        "         color=df_pca3d['diagnosis'],\n",
        "         colorscale=[[0, 'blue'], [1, 'red']],\n",
        "         showscale=False\n",
        "     ),\n",
        "     text=df_pca3d['id'],\n",
        "     hovertemplate='Index: %{text}<br>' +\n",
        "                   'Diagnosis: %{marker.color}'\n",
        "))\n",
        "\n",
        "fig.add_annotation(\n",
        "     text=f\"Explained Proportion: {proportional_explained3d}\",\n",
        "     align='left',\n",
        "     showarrow=False,\n",
        "     xref='paper',\n",
        "     yref='paper',\n",
        "     x=0.05,\n",
        "     y=0.9,\n",
        "     bordercolor='black',\n",
        "     borderwidth=1,\n",
        "     borderpad=4,\n",
        "     bgcolor='white',\n",
        "     opacity=0.8,\n",
        "     font=dict(size=18)\n",
        ")\n",
        "\n",
        "fig.update_layout(scene = dict(\n",
        "                     xaxis_title='Main Component 1',\n",
        "                     yaxis_title='Main Component 2',\n",
        "                     zaxis_title='Main Component 3'),\n",
        "                     width=700,\n",
        "                     margin=dict(r=20, b=10, l=10, t=10))\n",
        "\n",
        "fig.show()"
      ]
    }
  ],
  "metadata": {
    "colab": {
      "provenance": []
    },
    "kernelspec": {
      "display_name": "Python 3",
      "name": "python3"
    },
    "language_info": {
      "codemirror_mode": {
        "name": "ipython",
        "version": 3
      },
      "file_extension": ".py",
      "mimetype": "text/x-python",
      "name": "python",
      "nbconvert_exporter": "python",
      "pygments_lexer": "ipython3",
      "version": "3.11.4"
    }
  },
  "nbformat": 4,
  "nbformat_minor": 0
}
